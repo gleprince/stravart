{
 "cells": [
  {
   "cell_type": "code",
   "execution_count": 5,
   "metadata": {},
   "outputs": [],
   "source": [
    "import os\n",
    "import subprocess\n",
    "import re"
   ]
  },
  {
   "cell_type": "code",
   "execution_count": 6,
   "metadata": {},
   "outputs": [],
   "source": [
    "person = r\"\\blondo\""
   ]
  },
  {
   "cell_type": "code",
   "execution_count": 7,
   "metadata": {},
   "outputs": [],
   "source": [
    "path_2 = r\"C:\\Users\\Guilhem Leprince\\repo\"\n",
    "path = r\"C:\\Users\\guilhem.leprince\\Documents\\strava\"\n",
    "directory = path + r\"\\data\" + person + r\"\\activities\"\n",
    "path_sdk = r\"C:\\Program Files\\fitSDK\"\n",
    "\n",
    "FIT_FILE = re.compile(\"\\\\d+.fit(?!.gz)\")\n",
    "GPX_FILE = re.compile(\"\\\\d+.gpx(?!.gz)\")\n",
    "CSV_FILE = re.compile(\"\\\\d+.csv\")"
   ]
  },
  {
   "cell_type": "code",
   "execution_count": 8,
   "metadata": {},
   "outputs": [
    {
     "name": "stdout",
     "output_type": "stream",
     "text": [
      "A total of 65 fit files found in the directory : C:\\Users\\guilhem.leprince\\Documents\\strava\\data\\blondo\\activities\n"
     ]
    }
   ],
   "source": [
    "list_of_fit_files=[]\n",
    "list_of_gpx_files = []\n",
    "list_of_raw_csv_files = []\n",
    "\n",
    "for filename in os.listdir(directory):\n",
    "    f = os.path.join(directory, filename)\n",
    "    if os.path.isfile(f) and FIT_FILE.match(filename):\n",
    "        list_of_fit_files.append(f)\n",
    "    if os.path.isfile(f) and GPX_FILE.match(filename):\n",
    "        list_of_gpx_files.append(f)\n",
    "\n",
    "print(\"A total of \"+str(len(list_of_fit_files)) + \" fit files found in the directory : \" + directory)"
   ]
  },
  {
   "cell_type": "code",
   "execution_count": 9,
   "metadata": {},
   "outputs": [
    {
     "name": "stdout",
     "output_type": "stream",
     "text": [
      "[1/65] processing :\\1934211992.fit\n",
      "[2/65] processing :\\2616606372.fit\n",
      "[3/65] processing :\\2624836461.fit\n",
      "[4/65] processing :\\2624837125.fit\n",
      "[5/65] processing :\\2624837818.fit\n",
      "[6/65] processing :\\2636539008.fit\n",
      "[7/65] processing :\\2636713287.fit\n",
      "[8/65] processing :\\2713288879.fit\n",
      "[9/65] processing :\\3312998322.fit\n",
      "[10/65] processing :\\3316816466.fit\n",
      "[11/65] processing :\\3322676058.fit\n",
      "[12/65] processing :\\3332268706.fit\n",
      "[13/65] processing :\\3332270194.fit\n",
      "[14/65] processing :\\3332270464.fit\n",
      "[15/65] processing :\\3335343070.fit\n",
      "[16/65] processing :\\5868262189.fit\n",
      "[17/65] processing :\\6124429425.fit\n",
      "[18/65] processing :\\6893921862.fit\n",
      "[19/65] processing :\\6893922901.fit\n",
      "[20/65] processing :\\6902749287.fit\n",
      "[21/65] processing :\\6949197367.fit\n",
      "[22/65] processing :\\7064076719.fit\n",
      "[23/65] processing :\\7792203154.fit\n",
      "[24/65] processing :\\7799273242.fit\n",
      "[25/65] processing :\\7799273275.fit\n",
      "[26/65] processing :\\7799273324.fit\n",
      "[27/65] processing :\\7816301007.fit\n",
      "[28/65] processing :\\7821011814.fit\n",
      "[29/65] processing :\\7826515668.fit\n",
      "[30/65] processing :\\7903457007.fit\n",
      "[31/65] processing :\\7903457095.fit\n",
      "[32/65] processing :\\7903457599.fit\n",
      "[33/65] processing :\\7903458224.fit\n",
      "[34/65] processing :\\7903459092.fit\n",
      "[35/65] processing :\\7903459396.fit\n",
      "[36/65] processing :\\7938240648.fit\n",
      "[37/65] processing :\\7958878102.fit\n",
      "[38/65] processing :\\7973352045.fit\n",
      "[39/65] processing :\\7980414193.fit\n",
      "[40/65] processing :\\8002809973.fit\n",
      "[41/65] processing :\\8020987098.fit\n",
      "[42/65] processing :\\8020987970.fit\n",
      "[43/65] processing :\\8032478936.fit\n",
      "[44/65] processing :\\8062579363.fit\n",
      "[45/65] processing :\\8062581016.fit\n",
      "[46/65] processing :\\8105980257.fit\n",
      "[47/65] processing :\\8108909491.fit\n",
      "[48/65] processing :\\8156049855.fit\n",
      "[49/65] processing :\\8167756006.fit\n",
      "[50/65] processing :\\8185357111.fit\n",
      "[51/65] processing :\\8200017673.fit\n",
      "[52/65] processing :\\8243965804.fit\n",
      "[53/65] processing :\\8243966113.fit\n",
      "[54/65] processing :\\8243966485.fit\n",
      "[55/65] processing :\\8245944546.fit\n",
      "[56/65] processing :\\8341254513.fit\n",
      "[57/65] processing :\\8365946275.fit\n",
      "[58/65] processing :\\8365947163.fit\n",
      "[59/65] processing :\\8377021089.fit\n",
      "[60/65] processing :\\8389028163.fit\n",
      "[61/65] processing :\\8412123257.fit\n",
      "[62/65] processing :\\8444030616.fit\n",
      "[63/65] processing :\\8474692991.fit\n",
      "[64/65] processing :\\8498784441.fit\n",
      "[65/65] processing :\\8510505955.fit\n",
      "A total of 65 csv file created\n"
     ]
    }
   ],
   "source": [
    "# Use only when decoding fit file needed\n",
    "\n",
    "c=1\n",
    "l = len(list_of_fit_files)\n",
    "\n",
    "for fit_file in list_of_fit_files:\n",
    "    print(\"[\"+str(c)+\"/\"+str(l)+\"] processing :\" + fit_file.split(\"activities\")[1])\n",
    "    subprocess.call(\"java -jar \\\"\"+ path + \"\\\\sdk\\\\java\\\\FitCSVTool.jar\\\" \\\"\" + fit_file +\"\\\"\")\n",
    "    c+=1\n",
    "\n",
    "for filename in os.listdir(directory):\n",
    "    f = os.path.join(directory, filename)\n",
    "    if os.path.isfile(f) and CSV_FILE.match(filename):\n",
    "        list_of_raw_csv_files.append(f)\n",
    "\n",
    "print(\"A total of \" + str(len(list_of_raw_csv_files)) + \" csv file created\")\n",
    "\n",
    "\n",
    "\n"
   ]
  },
  {
   "cell_type": "code",
   "execution_count": null,
   "metadata": {},
   "outputs": [],
   "source": []
  },
  {
   "cell_type": "code",
   "execution_count": null,
   "metadata": {},
   "outputs": [],
   "source": []
  }
 ],
 "metadata": {
  "kernelspec": {
   "display_name": "Python 3 (ipykernel)",
   "language": "python",
   "name": "python3"
  },
  "language_info": {
   "codemirror_mode": {
    "name": "ipython",
    "version": 3
   },
   "file_extension": ".py",
   "mimetype": "text/x-python",
   "name": "python",
   "nbconvert_exporter": "python",
   "pygments_lexer": "ipython3",
   "version": "3.9.12"
  },
  "vscode": {
   "interpreter": {
    "hash": "6d5d0304aea38bcf6b9fe042c7021353d9836397e23eff6e21121e20ae3a11b8"
   }
  }
 },
 "nbformat": 4,
 "nbformat_minor": 2
}
