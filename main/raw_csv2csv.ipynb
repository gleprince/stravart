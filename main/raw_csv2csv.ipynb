{
 "cells": [
  {
   "cell_type": "markdown",
   "metadata": {},
   "source": [
    "# From raw CSV to beautiful CSV"
   ]
  },
  {
   "cell_type": "code",
   "execution_count": 1,
   "metadata": {},
   "outputs": [],
   "source": [
    "import re\n",
    "import os\n",
    "import pandas as pd\n",
    "from utils import convert_coordinate"
   ]
  },
  {
   "cell_type": "code",
   "execution_count": 5,
   "metadata": {},
   "outputs": [],
   "source": [
    "person = r\"\\gab\""
   ]
  },
  {
   "cell_type": "code",
   "execution_count": 6,
   "metadata": {},
   "outputs": [],
   "source": [
    "path = r\"C:\\Users\\Guilhem Leprince\\repo\"\n",
    "path_2 = r\"C:\\Users\\guilhem.leprince\\Documents\\strava\"\n",
    "directory = path + r\"\\data\" + person + r\"\\activities\"\n",
    "output_csv = path + r\"\\data\\processed_data\" + person + r\"\\csv\\\\\""
   ]
  },
  {
   "cell_type": "code",
   "execution_count": 7,
   "metadata": {},
   "outputs": [
    {
     "name": "stdout",
     "output_type": "stream",
     "text": [
      "A total of 279 csv files found\n"
     ]
    }
   ],
   "source": [
    "CSV_FILE = re.compile(\"\\\\d+.csv\")\n",
    "\n",
    "list_of_raw_csv_files = []\n",
    "\n",
    "\n",
    "for filename in os.listdir(directory):\n",
    "    f = os.path.join(directory, filename)\n",
    "    if os.path.isfile(f) and CSV_FILE.match(filename):\n",
    "        list_of_raw_csv_files.append(f)\n",
    "\n",
    "print(\"A total of \" + str(len(list_of_raw_csv_files)) + \" csv files found\")\n"
   ]
  },
  {
   "cell_type": "code",
   "execution_count": 8,
   "metadata": {},
   "outputs": [
    {
     "name": "stdout",
     "output_type": "stream",
     "text": [
      "[1/279] Processing 2362511257.csv\n",
      "[2/279] Processing 2616598250.csv\n"
     ]
    },
    {
     "name": "stderr",
     "output_type": "stream",
     "text": [
      "C:\\Users\\Guilhem Leprince\\Anaconda3\\lib\\site-packages\\pandas\\core\\frame.py:6211: FutureWarning: Sorting because non-concatenation axis is not aligned. A future version\n",
      "of pandas will change to not sort by default.\n",
      "\n",
      "To accept the future behavior, pass 'sort=False'.\n",
      "\n",
      "To retain the current behavior and silence the warning, pass 'sort=True'.\n",
      "\n",
      "  sort=sort)\n"
     ]
    },
    {
     "name": "stdout",
     "output_type": "stream",
     "text": [
      "[3/279] Processing 2623093060.csv\n",
      "[4/279] Processing 2623093544.csv\n",
      "[5/279] Processing 2623093769.csv\n",
      "[6/279] Processing 2636543769.csv\n",
      "[7/279] Processing 2636732398.csv\n",
      "[8/279] Processing 3273963261.csv\n"
     ]
    },
    {
     "name": "stderr",
     "output_type": "stream",
     "text": [
      "C:\\Users\\Guilhem Leprince\\Anaconda3\\lib\\site-packages\\IPython\\core\\interactiveshell.py:3020: DtypeWarning: Columns (4,22,40,47,83,86,89,104,107,231,234,237,240,243,246) have mixed types. Specify dtype option on import or set low_memory=False.\n",
      "  interactivity=interactivity, compiler=compiler, result=result)\n"
     ]
    },
    {
     "name": "stdout",
     "output_type": "stream",
     "text": [
      "[9/279] Processing 3273964321.csv\n",
      "[10/279] Processing 3776800151.csv\n",
      "[11/279] Processing 3786869228.csv\n",
      "[12/279] Processing 3810459266.csv\n",
      "[13/279] Processing 3813529714.csv\n"
     ]
    },
    {
     "name": "stderr",
     "output_type": "stream",
     "text": [
      "C:\\Users\\Guilhem Leprince\\Anaconda3\\lib\\site-packages\\IPython\\core\\interactiveshell.py:3020: DtypeWarning: Columns (4,7,16,22,23,26,40,45,47,48,50,51,53,54,56,57,59,60,62,63,66,69,71,72,74,75,77,78,80,81,83,84,86,87,89,90,92,93,95,96,98,99,101,102,104,105,107,108,111,114,117,120,123,126,129,132,135,138,141,144,147,150,153,156,159,162,165,168,171,174,177,180,183,186,189,192,195,198,201,204,207,210,213,216,219,222,225,228,231,234,237,240,243,246) have mixed types. Specify dtype option on import or set low_memory=False.\n",
      "  interactivity=interactivity, compiler=compiler, result=result)\n"
     ]
    },
    {
     "name": "stdout",
     "output_type": "stream",
     "text": [
      "[14/279] Processing 3860288016.csv\n"
     ]
    },
    {
     "name": "stderr",
     "output_type": "stream",
     "text": [
      "C:\\Users\\Guilhem Leprince\\Anaconda3\\lib\\site-packages\\IPython\\core\\interactiveshell.py:3020: DtypeWarning: Columns (4,22,23,39,40,42,45,47,48,50,51,53,54,56,57,59,60,62,63,66,69,71,72,74,75,78,80,81,83,84,86,87,89,90,92,93,95,96,98,99,102,105,108,111,114,117,120,123,126,129,132,135,138,141,144,147,150,153,156,159,162,165,168,171,174,177,180,183,186,189,192,195,198,201,204,207,210,213,216,219,222,225,228,231,234,237,240,243,246) have mixed types. Specify dtype option on import or set low_memory=False.\n",
      "  interactivity=interactivity, compiler=compiler, result=result)\n"
     ]
    },
    {
     "name": "stdout",
     "output_type": "stream",
     "text": [
      "[15/279] Processing 4777737896.csv\n",
      "[16/279] Processing 4850653013.csv\n",
      "[17/279] Processing 4854615033.csv\n"
     ]
    },
    {
     "name": "stderr",
     "output_type": "stream",
     "text": [
      "C:\\Users\\Guilhem Leprince\\Anaconda3\\lib\\site-packages\\IPython\\core\\interactiveshell.py:3020: DtypeWarning: Columns (4,10,22,40,47,83,86,89,104,107,110,113,234,237,240,243,246,249,252) have mixed types. Specify dtype option on import or set low_memory=False.\n",
      "  interactivity=interactivity, compiler=compiler, result=result)\n"
     ]
    },
    {
     "name": "stdout",
     "output_type": "stream",
     "text": [
      "[18/279] Processing 4860060575.csv\n",
      "[19/279] Processing 4873354693.csv\n",
      "[20/279] Processing 4900590631.csv\n",
      "[21/279] Processing 4912778213.csv\n"
     ]
    },
    {
     "name": "stderr",
     "output_type": "stream",
     "text": [
      "C:\\Users\\Guilhem Leprince\\Anaconda3\\lib\\site-packages\\IPython\\core\\interactiveshell.py:3020: DtypeWarning: Columns (4,7,10,16,22,40,47,50,56,59,62,71,74,77,80,83,86,89,92,95,98,101,104,107,110,113,153,156,159,162,165,168,171,174,177,180,183,186,189,192,195,198,201,204,207,210,213,216,219,222,225,228,231,234,237,240,243,246,249,252) have mixed types. Specify dtype option on import or set low_memory=False.\n",
      "  interactivity=interactivity, compiler=compiler, result=result)\n"
     ]
    },
    {
     "name": "stdout",
     "output_type": "stream",
     "text": [
      "[22/279] Processing 4941706916.csv\n",
      "[23/279] Processing 4945073030.csv\n",
      "[24/279] Processing 4962867565.csv\n",
      "[25/279] Processing 4967165411.csv\n",
      "[26/279] Processing 4977939800.csv\n",
      "[27/279] Processing 4989209048.csv\n",
      "[28/279] Processing 4989212212.csv\n",
      "[29/279] Processing 4989212861.csv\n",
      "[30/279] Processing 4992300315.csv\n",
      "[31/279] Processing 4999846959.csv\n",
      "[32/279] Processing 5007744394.csv\n",
      "[33/279] Processing 5030246146.csv\n",
      "[34/279] Processing 5042215621.csv\n",
      "[35/279] Processing 5063890368.csv\n",
      "[36/279] Processing 5063890762.csv\n",
      "[37/279] Processing 5071180071.csv\n",
      "[38/279] Processing 5087771005.csv\n",
      "[39/279] Processing 5105216212.csv\n",
      "[40/279] Processing 5105217267.csv\n",
      "[41/279] Processing 5107505150.csv\n",
      "[42/279] Processing 5109724868.csv\n",
      "[43/279] Processing 5118986679.csv\n",
      "[44/279] Processing 5124488533.csv\n",
      "[45/279] Processing 5139653381.csv\n",
      "[46/279] Processing 5139655842.csv\n",
      "[47/279] Processing 5154670515.csv\n",
      "[48/279] Processing 5154675817.csv\n",
      "[49/279] Processing 5166950720.csv\n",
      "[50/279] Processing 5184907546.csv\n",
      "[51/279] Processing 5191802080.csv\n",
      "[52/279] Processing 5191802564.csv\n",
      "[53/279] Processing 5211421498.csv\n",
      "[54/279] Processing 5235753328.csv\n",
      "[55/279] Processing 5252319875.csv\n",
      "[56/279] Processing 5275993430.csv\n",
      "[57/279] Processing 5294256350.csv\n",
      "[58/279] Processing 5313771013.csv\n",
      "[59/279] Processing 5333674660.csv\n",
      "[60/279] Processing 5334381235.csv\n",
      "[61/279] Processing 5359869004.csv\n",
      "[62/279] Processing 5376601813.csv\n",
      "[63/279] Processing 5391285548.csv\n"
     ]
    },
    {
     "name": "stderr",
     "output_type": "stream",
     "text": [
      "C:\\Users\\Guilhem Leprince\\Anaconda3\\lib\\site-packages\\IPython\\core\\interactiveshell.py:3020: DtypeWarning: Columns (4,7,10,16,22,26,29,40,45,47,48,50,51,53,54,56,57,59,60,62,63,66,69,71,72,74,75,77,78,80,81,83,84,86,87,89,90,92,93,95,96,98,99,101,102,104,105,107,108,110,111,113,114,117,120,123,126,129,132,135,138,141,144,147,150,153,156,159,162,165,168,171,174,177,180,183,186,189,192,195,198,201,204,207,210,213,216,219,222,225,228,231,234,237,240,243,246,249,252) have mixed types. Specify dtype option on import or set low_memory=False.\n",
      "  interactivity=interactivity, compiler=compiler, result=result)\n"
     ]
    },
    {
     "name": "stdout",
     "output_type": "stream",
     "text": [
      "[64/279] Processing 5404357528.csv\n",
      "[65/279] Processing 5404363495.csv\n",
      "[66/279] Processing 5409849745.csv\n",
      "[67/279] Processing 5414737296.csv\n",
      "[68/279] Processing 5425443794.csv\n",
      "[69/279] Processing 5426495242.csv\n",
      "[70/279] Processing 5433194148.csv\n",
      "[71/279] Processing 5446971776.csv\n",
      "[72/279] Processing 5465387383.csv\n",
      "[73/279] Processing 5479985207.csv\n"
     ]
    },
    {
     "name": "stderr",
     "output_type": "stream",
     "text": [
      "C:\\Users\\Guilhem Leprince\\Anaconda3\\lib\\site-packages\\IPython\\core\\interactiveshell.py:3020: DtypeWarning: Columns (4,10,22,40,41,47,83,98,101,104,234,237,240,243,246,249,252) have mixed types. Specify dtype option on import or set low_memory=False.\n",
      "  interactivity=interactivity, compiler=compiler, result=result)\n"
     ]
    },
    {
     "name": "stdout",
     "output_type": "stream",
     "text": [
      "[74/279] Processing 5518814984.csv\n",
      "[75/279] Processing 5518826221.csv\n",
      "[76/279] Processing 5522816648.csv\n",
      "[77/279] Processing 5532929309.csv\n"
     ]
    },
    {
     "name": "stderr",
     "output_type": "stream",
     "text": [
      "C:\\Users\\Guilhem Leprince\\Anaconda3\\lib\\site-packages\\IPython\\core\\interactiveshell.py:3020: DtypeWarning: Columns (4,10,22,40,41,47,50,56,59,62,71,74,83,86,89,92,95,98,101,104,153,156,159,162,165,168,171,174,177,180,183,186,189,192,195,198,201,204,207,210,213,216,219,222,225,228,231,234,237,240,243,246,249,252) have mixed types. Specify dtype option on import or set low_memory=False.\n",
      "  interactivity=interactivity, compiler=compiler, result=result)\n"
     ]
    },
    {
     "name": "stdout",
     "output_type": "stream",
     "text": [
      "[78/279] Processing 5574423793.csv\n",
      "[79/279] Processing 5590855540.csv\n",
      "[80/279] Processing 5606870554.csv\n",
      "[81/279] Processing 5613749453.csv\n",
      "[82/279] Processing 5613750248.csv\n",
      "[83/279] Processing 5635758615.csv\n",
      "[84/279] Processing 5635763856.csv\n",
      "[85/279] Processing 5639784077.csv\n",
      "[86/279] Processing 5645997424.csv\n",
      "[87/279] Processing 5649646597.csv\n",
      "[88/279] Processing 5653176119.csv\n",
      "[89/279] Processing 5699861294.csv\n",
      "[90/279] Processing 5699862454.csv\n",
      "[91/279] Processing 5716725907.csv\n",
      "[92/279] Processing 5730648091.csv\n",
      "[93/279] Processing 5734039131.csv\n",
      "[94/279] Processing 5752117915.csv\n",
      "[95/279] Processing 5762334537.csv\n",
      "[96/279] Processing 5784590653.csv\n",
      "[97/279] Processing 5794678943.csv\n",
      "[98/279] Processing 5807210577.csv\n",
      "[99/279] Processing 5810633141.csv\n",
      "[100/279] Processing 5827599576.csv\n",
      "[101/279] Processing 5835461305.csv\n",
      "[102/279] Processing 5835468124.csv\n",
      "[103/279] Processing 5853349458.csv\n",
      "[104/279] Processing 5853350083.csv\n",
      "[105/279] Processing 5853351661.csv\n",
      "[106/279] Processing 5891271933.csv\n",
      "[107/279] Processing 5893934300.csv\n",
      "[108/279] Processing 5949326914.csv\n",
      "[109/279] Processing 5967592896.csv\n",
      "[110/279] Processing 6009544903.csv\n",
      "[111/279] Processing 6009547686.csv\n",
      "[112/279] Processing 6026116344.csv\n",
      "[113/279] Processing 6043065549.csv\n"
     ]
    },
    {
     "name": "stderr",
     "output_type": "stream",
     "text": [
      "C:\\Users\\Guilhem Leprince\\Anaconda3\\lib\\site-packages\\IPython\\core\\interactiveshell.py:3020: DtypeWarning: Columns (4,10,22,40,47,83,86,89,102,104,105,107,108,110,111,113,114,117,120,123,126,129,132,135,138,141,144,147,150,153,156,159,162,165,168,171,174,177,180,183,186,189,192,195,198,201,204,207,210,213,216,219,222,225,228,231,234,237,240,243,246,249,252) have mixed types. Specify dtype option on import or set low_memory=False.\n",
      "  interactivity=interactivity, compiler=compiler, result=result)\n"
     ]
    },
    {
     "name": "stdout",
     "output_type": "stream",
     "text": [
      "[114/279] Processing 6054677948.csv\n",
      "[115/279] Processing 6064770480.csv\n",
      "[116/279] Processing 6092115609.csv\n",
      "[117/279] Processing 6124374712.csv\n",
      "[118/279] Processing 6124389177.csv\n",
      "[119/279] Processing 6125541956.csv\n",
      "[120/279] Processing 6142520975.csv\n",
      "[121/279] Processing 6142523895.csv\n",
      "[122/279] Processing 6155293708.csv\n",
      "[123/279] Processing 6157666689.csv\n",
      "[124/279] Processing 6166009486.csv\n",
      "[125/279] Processing 6199662144.csv\n",
      "[126/279] Processing 6276994952.csv\n"
     ]
    },
    {
     "name": "stderr",
     "output_type": "stream",
     "text": [
      "C:\\Users\\Guilhem Leprince\\Anaconda3\\lib\\site-packages\\IPython\\core\\interactiveshell.py:3020: DtypeWarning: Columns (4,10,22,40,41,47,83,96,98,99,101,102,104,105,108,111,114,117,120,123,126,129,132,135,138,141,144,147,150,153,156,159,162,165,168,171,174,177,180,183,186,189,192,195,198,201,204,207,210,213,216,219,222,225,228,231,234,237,240,243,246,249,252) have mixed types. Specify dtype option on import or set low_memory=False.\n",
      "  interactivity=interactivity, compiler=compiler, result=result)\n"
     ]
    },
    {
     "name": "stdout",
     "output_type": "stream",
     "text": [
      "[127/279] Processing 6366361941.csv\n",
      "[128/279] Processing 6454629235.csv\n",
      "[129/279] Processing 6464953261.csv\n"
     ]
    },
    {
     "name": "stderr",
     "output_type": "stream",
     "text": [
      "C:\\Users\\Guilhem Leprince\\Anaconda3\\lib\\site-packages\\IPython\\core\\interactiveshell.py:3020: DtypeWarning: Columns (7,16,23,26,42,45,46,47,48,50,51,53,54,56,57,59,60,62,63,65,66,68,69,72,74,75,77,78,80,81,83,84,85,87,90,93,95,96,98,99,101,102,104,105,108,110,111,113,114,117,119,120,122,123,126,127,129,132,135,138,141,144,147,150,153,156,159,162,165,168,171,174,177,180,183,186,189,192,195,198,201,204,207,210,213,216,219,222,225,228,231,234,237,240,243,246,249,252,255,258,261,264,267,270,273,276,279,282,285,288,291,294,297,300,303,306,309,312) have mixed types. Specify dtype option on import or set low_memory=False.\n",
      "  interactivity=interactivity, compiler=compiler, result=result)\n"
     ]
    },
    {
     "name": "stdout",
     "output_type": "stream",
     "text": [
      "[130/279] Processing 6470389136.csv\n",
      "[131/279] Processing 6501076598.csv\n"
     ]
    },
    {
     "name": "stderr",
     "output_type": "stream",
     "text": [
      "C:\\Users\\Guilhem Leprince\\Anaconda3\\lib\\site-packages\\IPython\\core\\interactiveshell.py:3020: DtypeWarning: Columns (7,16,38,42,45,46,47,48,50,51,53,54,56,57,59,60,62,63,65,66,68,69,72,74,75,77,78,80,81,83,84,85,87,90,93,95,96,98,99,101,102,104,105,108,110,111,113,114,117,119,120,122,123,126,127,129,132,135,138,141,144,147,150,153,156,159,162,165,168,171,174,177,180,183,186,189,192,195,198,201,204,207,210,213,216,219,222,225,228,231,234,237,240,243,246,249,252,255,258,261,264,267,270,273,276,279,282,285,288,291,294,297,300,303,306,309,312) have mixed types. Specify dtype option on import or set low_memory=False.\n",
      "  interactivity=interactivity, compiler=compiler, result=result)\n"
     ]
    },
    {
     "name": "stdout",
     "output_type": "stream",
     "text": [
      "[132/279] Processing 6514218227.csv\n",
      "[133/279] Processing 6546908996.csv\n"
     ]
    },
    {
     "name": "stderr",
     "output_type": "stream",
     "text": [
      "C:\\Users\\Guilhem Leprince\\Anaconda3\\lib\\site-packages\\IPython\\core\\interactiveshell.py:3020: DtypeWarning: Columns (7,16,42,45,46,47,48,50,51,53,54,56,57,59,60,62,63,65,66,68,69,72,74,75,77,78,80,81,83,84,85,87,90,93,95,96,98,99,101,102,104,105,108,110,111,113,114,117,119,120,122,123,126,127,129,132,135,138,141,144,147,150,153,156,159,162,165,168,171,174,177,180,183,186,189,192,195,198,201,204,207,210,213,216,219,222,225,228,231,234,237,240,243,246,249,252,255,258,261,264,267,270,273,276,279,282,285,288,291,294,297,300,303,306,309,312) have mixed types. Specify dtype option on import or set low_memory=False.\n",
      "  interactivity=interactivity, compiler=compiler, result=result)\n"
     ]
    },
    {
     "name": "stdout",
     "output_type": "stream",
     "text": [
      "[134/279] Processing 6546917855.csv\n"
     ]
    },
    {
     "name": "stderr",
     "output_type": "stream",
     "text": [
      "C:\\Users\\Guilhem Leprince\\Anaconda3\\lib\\site-packages\\IPython\\core\\interactiveshell.py:3020: DtypeWarning: Columns (7,16,23,38,39,42,45,46,47,48,50,51,53,54,56,57,59,60,62,63,65,66,68,69,72,74,75,77,78,80,81,83,84,85,87,90,93,95,96,98,99,101,102,104,105,108,110,111,113,114,117,119,120,122,123,126,127,129,132,135,138,141,144,147,150,153,156,159,162,165,168,171,174,177,180,183,186,189,192,195,198,201,204,207,210,213,216,219,222,225,228,231,234,237,240,243,246,249,252,255,258,261,264,267,270,273,276,279,282,285,288,291,294,297,300,303,306,309,312) have mixed types. Specify dtype option on import or set low_memory=False.\n",
      "  interactivity=interactivity, compiler=compiler, result=result)\n"
     ]
    },
    {
     "name": "stdout",
     "output_type": "stream",
     "text": [
      "[135/279] Processing 6578602814.csv\n"
     ]
    },
    {
     "name": "stderr",
     "output_type": "stream",
     "text": [
      "C:\\Users\\Guilhem Leprince\\Anaconda3\\lib\\site-packages\\IPython\\core\\interactiveshell.py:3020: DtypeWarning: Columns (38,46,53,65,68,85,108,110,111,113,114,117,119,120,122,123,126,127,129,132,135,138,141,144,147,150,153,156,159,162,165,168,171,174,177,180,183,186,189,192,195,198,201,204,207,210,213,216,219,222,225,228,231,234,237,240,243,246,249,252,255,258,261,264,267,270,273,276,279,282,285,288,291,294,297,300,303,306,309,312) have mixed types. Specify dtype option on import or set low_memory=False.\n",
      "  interactivity=interactivity, compiler=compiler, result=result)\n"
     ]
    },
    {
     "name": "stdout",
     "output_type": "stream",
     "text": [
      "[136/279] Processing 6605158758.csv\n",
      "[137/279] Processing 6615438641.csv\n",
      "[138/279] Processing 6645248204.csv\n"
     ]
    },
    {
     "name": "stderr",
     "output_type": "stream",
     "text": [
      "C:\\Users\\Guilhem Leprince\\Anaconda3\\lib\\site-packages\\IPython\\core\\interactiveshell.py:3020: DtypeWarning: Columns (7,16,23,38,39,42,45,46,47,48,50,51,53,54,56,57,59,60,62,63,65,66,68,69,72,74,75,77,78,80,81,83,84,87,90,93,94,95,96,98,99,101,102,104,105,108,110,111,113,114,117,119,120,122,123,126,129,132,135,136,138,141,144,147,150,153,156,159,162,165,168,171,174,177,180,183,186,189,192,195,198,201,204,207,210,213,216,219,222,225,228,231,234,237,240,243,246,249,252,255,258,261,264,267,270,273,276,279,282,285,288,291,294,297,300,303,306,309,312) have mixed types. Specify dtype option on import or set low_memory=False.\n",
      "  interactivity=interactivity, compiler=compiler, result=result)\n"
     ]
    },
    {
     "name": "stdout",
     "output_type": "stream",
     "text": [
      "[139/279] Processing 6664504116.csv\n"
     ]
    },
    {
     "name": "stderr",
     "output_type": "stream",
     "text": [
      "C:\\Users\\Guilhem Leprince\\Anaconda3\\lib\\site-packages\\IPython\\core\\interactiveshell.py:3020: DtypeWarning: Columns (46,53,65,68,85,110,113,119,122,127,267,270,273,276,279,282,285,288,291,294,297,300,303,306,309,312) have mixed types. Specify dtype option on import or set low_memory=False.\n",
      "  interactivity=interactivity, compiler=compiler, result=result)\n"
     ]
    },
    {
     "name": "stdout",
     "output_type": "stream",
     "text": [
      "[140/279] Processing 6681118401.csv\n"
     ]
    },
    {
     "name": "stderr",
     "output_type": "stream",
     "text": [
      "C:\\Users\\Guilhem Leprince\\Anaconda3\\lib\\site-packages\\IPython\\core\\interactiveshell.py:3020: DtypeWarning: Columns (7,16,38,39,42,45,46,47,48,50,51,53,54,56,57,59,60,62,63,65,66,68,69,72,74,75,77,78,80,81,83,84,85,87,90,93,95,96,98,99,101,102,104,105,108,110,111,113,114,117,119,120,122,123,126,127,129,132,135,138,141,144,147,150,153,156,159,162,165,168,171,174,177,180,183,186,189,192,195,198,201,204,207,210,213,216,219,222,225,228,231,234,237,240,243,246,249,252,255,258,261,264,267,270,273,276,279,282,285,288,291,294,297,300,303,306,309,312) have mixed types. Specify dtype option on import or set low_memory=False.\n",
      "  interactivity=interactivity, compiler=compiler, result=result)\n"
     ]
    },
    {
     "name": "stdout",
     "output_type": "stream",
     "text": [
      "[141/279] Processing 6681123126.csv\n",
      "[142/279] Processing 6682419781.csv\n",
      "[143/279] Processing 6698345595.csv\n",
      "[144/279] Processing 6729609405.csv\n",
      "[145/279] Processing 6735914237.csv\n",
      "[146/279] Processing 6755918077.csv\n",
      "[147/279] Processing 6764451390.csv\n",
      "[148/279] Processing 6772694863.csv\n",
      "[149/279] Processing 6776327978.csv\n",
      "[150/279] Processing 6797583269.csv\n",
      "[151/279] Processing 6807469203.csv\n",
      "[152/279] Processing 6835538524.csv\n",
      "[153/279] Processing 6836294307.csv\n",
      "[154/279] Processing 6838938320.csv\n",
      "[155/279] Processing 6843867405.csv\n",
      "[156/279] Processing 6848083289.csv\n"
     ]
    },
    {
     "name": "stderr",
     "output_type": "stream",
     "text": [
      "C:\\Users\\Guilhem Leprince\\Anaconda3\\lib\\site-packages\\IPython\\core\\interactiveshell.py:3020: DtypeWarning: Columns (7,16,23,42,45,46,47,48,50,51,53,54,56,57,59,60,62,63,65,66,68,69,72,74,75,77,78,80,81,83,84,85,87,90,93,95,96,98,99,101,102,104,105,108,110,111,113,114,117,119,120,122,123,126,127,129,132,135,138,141,144,147,150,153,156,159,162,165,168,171,174,177,180,183,186,189,192,195,198,201,204,207,210,213,216,219,222,225,228,231,234,237,240,243,246,249,252,255,258,261,264,267,270,273,276,279,282,285,288,291,294,297,300,303,306,309,312) have mixed types. Specify dtype option on import or set low_memory=False.\n",
      "  interactivity=interactivity, compiler=compiler, result=result)\n"
     ]
    },
    {
     "name": "stdout",
     "output_type": "stream",
     "text": [
      "[157/279] Processing 6848295805.csv\n"
     ]
    },
    {
     "name": "stderr",
     "output_type": "stream",
     "text": [
      "C:\\Users\\Guilhem Leprince\\Anaconda3\\lib\\site-packages\\IPython\\core\\interactiveshell.py:3020: DtypeWarning: Columns (46,53,65,68,85,108,110,111,113,114,117,119,120,122,123,126,127,129,132,135,138,141,144,147,150,153,156,159,162,165,168,171,174,177,180,183,186,189,192,195,198,201,204,207,210,213,216,219,222,225,228,231,234,237,240,243,246,249,252,255,258,261,264,267,270,273,276,279,282,285,288,291,294,297,300,303,306,309,312) have mixed types. Specify dtype option on import or set low_memory=False.\n",
      "  interactivity=interactivity, compiler=compiler, result=result)\n"
     ]
    },
    {
     "name": "stdout",
     "output_type": "stream",
     "text": [
      "[158/279] Processing 6850810029.csv\n",
      "[159/279] Processing 6860529326.csv\n",
      "[160/279] Processing 6867739148.csv\n",
      "[161/279] Processing 6871346267.csv\n",
      "[162/279] Processing 6877939016.csv\n",
      "[163/279] Processing 6890046426.csv\n",
      "[164/279] Processing 6892140253.csv\n",
      "[165/279] Processing 6903476295.csv\n",
      "[166/279] Processing 6925744248.csv\n",
      "[167/279] Processing 6949094780.csv\n",
      "[168/279] Processing 6964815044.csv\n",
      "[169/279] Processing 6979257427.csv\n",
      "[170/279] Processing 6986460021.csv\n",
      "[171/279] Processing 7013045375.csv\n",
      "[172/279] Processing 7020156851.csv\n",
      "[173/279] Processing 7023767464.csv\n",
      "[174/279] Processing 7041724596.csv\n",
      "[175/279] Processing 7054992441.csv\n",
      "[176/279] Processing 7062248208.csv\n",
      "[177/279] Processing 7078442963.csv\n",
      "[178/279] Processing 7084574064.csv\n",
      "[179/279] Processing 7098702306.csv\n",
      "[180/279] Processing 7101615979.csv\n",
      "[181/279] Processing 7136121606.csv\n",
      "[182/279] Processing 7139075410.csv\n",
      "[183/279] Processing 7160731613.csv\n",
      "[184/279] Processing 7176925880.csv\n",
      "[185/279] Processing 7187467824.csv\n",
      "[186/279] Processing 7193788436.csv\n",
      "[187/279] Processing 7213260450.csv\n",
      "[188/279] Processing 7213270040.csv\n",
      "[189/279] Processing 7234679669.csv\n",
      "[190/279] Processing 7236059420.csv\n",
      "[191/279] Processing 7244801493.csv\n",
      "[192/279] Processing 7246118832.csv\n",
      "[193/279] Processing 7253202754.csv\n",
      "[194/279] Processing 7253212399.csv\n",
      "[195/279] Processing 7287130677.csv\n",
      "[196/279] Processing 7290380842.csv\n",
      "[197/279] Processing 7313906763.csv\n",
      "[198/279] Processing 7326879124.csv"
     ]
    },
    {
     "name": "stderr",
     "output_type": "stream",
     "text": [
      "C:\\Users\\Guilhem Leprince\\Anaconda3\\lib\\site-packages\\IPython\\core\\interactiveshell.py:3020: DtypeWarning: Columns (46,65,68,71,85,110,113,119,122,127,267,270,273,276,279,282,285,288,291,294,297,300,303,306,309,312) have mixed types. Specify dtype option on import or set low_memory=False.\n",
      "  interactivity=interactivity, compiler=compiler, result=result)\n"
     ]
    },
    {
     "name": "stdout",
     "output_type": "stream",
     "text": [
      "\n",
      "[199/279] Processing 7349673256.csv\n",
      "[200/279] Processing 7364301316.csv\n",
      "[201/279] Processing 7370435075.csv\n",
      "[202/279] Processing 7374469719.csv\n",
      "[203/279] Processing 7380605009.csv\n",
      "[204/279] Processing 7386986011.csv\n"
     ]
    },
    {
     "name": "stderr",
     "output_type": "stream",
     "text": [
      "C:\\Users\\Guilhem Leprince\\Anaconda3\\lib\\site-packages\\IPython\\core\\interactiveshell.py:3020: DtypeWarning: Columns (38,46,53,65,68,110,113,119,122,267,270,273,276,279,282,285,288,291,294,297,300,303,306,309,312) have mixed types. Specify dtype option on import or set low_memory=False.\n",
      "  interactivity=interactivity, compiler=compiler, result=result)\n"
     ]
    },
    {
     "name": "stdout",
     "output_type": "stream",
     "text": [
      "[205/279] Processing 7401428624.csv\n"
     ]
    },
    {
     "name": "stderr",
     "output_type": "stream",
     "text": [
      "C:\\Users\\Guilhem Leprince\\Anaconda3\\lib\\site-packages\\IPython\\core\\interactiveshell.py:3020: DtypeWarning: Columns (37,44,77,80,89,92,231,234,237,240,243,246) have mixed types. Specify dtype option on import or set low_memory=False.\n",
      "  interactivity=interactivity, compiler=compiler, result=result)\n"
     ]
    },
    {
     "name": "stdout",
     "output_type": "stream",
     "text": [
      "[206/279] Processing 7407871542.csv\n",
      "[207/279] Processing 7430063945.csv\n",
      "[208/279] Processing 7437703422.csv\n",
      "[209/279] Processing 7441884490.csv\n",
      "[210/279] Processing 7448560929.csv\n"
     ]
    },
    {
     "name": "stderr",
     "output_type": "stream",
     "text": [
      "C:\\Users\\Guilhem Leprince\\Anaconda3\\lib\\site-packages\\IPython\\core\\interactiveshell.py:3020: DtypeWarning: Columns (7,16,38,46,47,50,51,53,54,56,57,59,60,62,63,65,66,68,69,72,74,75,77,78,80,81,83,84,85,87,90,93,95,96,98,99,101,102,104,105,108,110,111,113,114,117,119,120,122,123,126,127,129,132,135,138,141,144,147,150,153,156,159,162,165,168,171,174,177,180,183,186,189,192,195,198,201,204,207,210,213,216,219,222,225,228,231,234,237,240,243,246,249,252,255,258,261,264,267,270,273,276,279,282,285,288,291,294,297,300,303,306,309,312) have mixed types. Specify dtype option on import or set low_memory=False.\n",
      "  interactivity=interactivity, compiler=compiler, result=result)\n"
     ]
    },
    {
     "name": "stdout",
     "output_type": "stream",
     "text": [
      "[211/279] Processing 7452783334.csv\n",
      "[212/279] Processing 7471958569.csv\n",
      "[213/279] Processing 7526161104.csv\n",
      "[214/279] Processing 7545488871.csv\n",
      "[215/279] Processing 7566851396.csv\n",
      "[216/279] Processing 7579234555.csv\n"
     ]
    },
    {
     "name": "stderr",
     "output_type": "stream",
     "text": [
      "C:\\Users\\Guilhem Leprince\\Anaconda3\\lib\\site-packages\\IPython\\core\\interactiveshell.py:3020: DtypeWarning: Columns (38,43,62,65,91,104,107,115,125,128,142,243,246,249,252,255,258,261,264,267,270,273,276,279) have mixed types. Specify dtype option on import or set low_memory=False.\n",
      "  interactivity=interactivity, compiler=compiler, result=result)\n"
     ]
    },
    {
     "name": "stdout",
     "output_type": "stream",
     "text": [
      "[217/279] Processing 7601565238.csv\n",
      "[218/279] Processing 7616500299.csv\n"
     ]
    },
    {
     "name": "stderr",
     "output_type": "stream",
     "text": [
      "C:\\Users\\Guilhem Leprince\\Anaconda3\\lib\\site-packages\\IPython\\core\\interactiveshell.py:3020: DtypeWarning: Columns (32,35,43,50,62,65,85,92,93,95,96,99,101,102,104,105,108,111,114,117,120,123,126,127,129,132,135,138,141,144,147,150,153,156,159,162,165,168,171,174,177,180,183,186,189,192,195,198,201,204,207,210,213,216,219,222,225,228,231,234,237,240,243,246,249,252,255,258,261,264,267,270,273,276,279,282,285,288,291,294,297,300,303,306,309,312) have mixed types. Specify dtype option on import or set low_memory=False.\n",
      "  interactivity=interactivity, compiler=compiler, result=result)\n"
     ]
    },
    {
     "name": "stdout",
     "output_type": "stream",
     "text": [
      "[219/279] Processing 7625459573.csv\n",
      "[220/279] Processing 7637966353.csv\n",
      "[221/279] Processing 7663348864.csv\n",
      "[222/279] Processing 7675594038.csv\n",
      "[223/279] Processing 7680591634.csv\n",
      "[224/279] Processing 7686332313.csv\n",
      "[225/279] Processing 7690642910.csv\n",
      "[226/279] Processing 7718630378.csv\n",
      "[227/279] Processing 7721547954.csv\n",
      "[228/279] Processing 7725515883.csv\n",
      "[229/279] Processing 7735653751.csv\n",
      "[230/279] Processing 7742215222.csv\n",
      "[231/279] Processing 7765670478.csv\n",
      "[232/279] Processing 7807593718.csv\n",
      "[233/279] Processing 7820938828.csv\n",
      "[234/279] Processing 7850165211.csv\n",
      "[235/279] Processing 7850174379.csv\n",
      "[236/279] Processing 7864641817.csv\n",
      "[237/279] Processing 7864652667.csv\n",
      "[238/279] Processing 7879240075.csv\n",
      "[239/279] Processing 7889601164.csv\n",
      "[240/279] Processing 7894270118.csv\n",
      "[241/279] Processing 7925520288.csv\n",
      "[242/279] Processing 7932331314.csv\n"
     ]
    },
    {
     "name": "stderr",
     "output_type": "stream",
     "text": [
      "C:\\Users\\Guilhem Leprince\\Anaconda3\\lib\\site-packages\\IPython\\core\\interactiveshell.py:3020: DtypeWarning: Columns (4,5,7,8,11,14,16,17,20,23,24,26,27,29,30,32,33,35,36,38,39,42,45,46,47,48,50,51,53,54,56,57,59,60,62,63,65,66,68,69,72,74,75,77,78,80,81,83,84,85,87,90,93,95,96,98,99,101,102,104,105,108,110,111,113,114,117,119,120,122,123,126,127,129,132,135,138,141,144,147,150,153,156,159,162,165,168,171,174,177,180,183,186,189,192,195,198,201,204,207,210,213,216,219,222,225,228,231,234,237,240,243,246,249,252,255,258,261,264,267,270,273,276,279,282,285,288,291,294,297,300,303,306,309,312) have mixed types. Specify dtype option on import or set low_memory=False.\n",
      "  interactivity=interactivity, compiler=compiler, result=result)\n"
     ]
    },
    {
     "name": "stdout",
     "output_type": "stream",
     "text": [
      "[243/279] Processing 7939097024.csv\n",
      "[244/279] Processing 7939097277.csv\n",
      "[245/279] Processing 7960357565.csv\n",
      "[246/279] Processing 7962013645.csv\n",
      "[247/279] Processing 7966890023.csv\n",
      "[248/279] Processing 7972458823.csv\n",
      "[249/279] Processing 7978030275.csv\n",
      "[250/279] Processing 7985326742.csv\n",
      "[251/279] Processing 7990518530.csv\n",
      "[252/279] Processing 8008900291.csv\n",
      "[253/279] Processing 8012138725.csv\n",
      "[254/279] Processing 8039725194.csv\n",
      "[255/279] Processing 8056460244.csv\n",
      "[256/279] Processing 8057544335.csv\n",
      "[257/279] Processing 8063381566.csv\n",
      "[258/279] Processing 8067624806.csv\n",
      "[259/279] Processing 8092611695.csv\n",
      "[260/279] Processing 8099929761.csv\n",
      "[261/279] Processing 8105125179.csv\n"
     ]
    },
    {
     "name": "stderr",
     "output_type": "stream",
     "text": [
      "C:\\Users\\Guilhem Leprince\\Anaconda3\\lib\\site-packages\\IPython\\core\\interactiveshell.py:3020: DtypeWarning: Columns (7,13,16,23,37,38,45,46,47,48,50,51,53,54,56,57,59,60,62,63,65,66,68,69,71,72,75,77,78,80,81,83,84,86,87,90,93,96,98,99,101,102,103,104,105,107,108,110,111,113,114,116,117,120,122,123,125,126,129,131,132,134,135,138,139,141,144,147,150,152,153,155,156,159,162,165,166,168,171,174,177,180,183,186,189,192,195,198,201,204,207,210,213,216,219,222,225,228,231,234,237,240,243,246,249,252,255,258,261,264,265,267,270,273,276,279,282,285,288,291,294,297,300,303,306,309,312,315,318,321,324,327,330,333,336,339,342,345,348) have mixed types. Specify dtype option on import or set low_memory=False.\n",
      "  interactivity=interactivity, compiler=compiler, result=result)\n"
     ]
    },
    {
     "name": "stdout",
     "output_type": "stream",
     "text": [
      "[262/279] Processing 8142146441.csv\n"
     ]
    },
    {
     "name": "stderr",
     "output_type": "stream",
     "text": [
      "C:\\Users\\Guilhem Leprince\\Anaconda3\\lib\\site-packages\\IPython\\core\\interactiveshell.py:3020: DtypeWarning: Columns (7,16,23,26,45,46,48,50,51,53,54,56,57,59,60,62,63,65,66,68,69,71,72,74,75,77,78,80,81,84,87,90,91,92,93,95,96,98,99,101,102,104,105,107,108,110,111,113,114,116,117,120,122,123,125,126,129,130,132,135,138,140,141,142,143,144,147,150,153,156,159,162,165,168,171,174,177,180,183,186,189,192,195,198,201,204,207,210,213,216,219,222,225,228,231,234,237,240,243,246,249,252,255,258,261,264,267,270,273,276,279) have mixed types. Specify dtype option on import or set low_memory=False.\n",
      "  interactivity=interactivity, compiler=compiler, result=result)\n"
     ]
    },
    {
     "name": "stdout",
     "output_type": "stream",
     "text": [
      "[263/279] Processing 8143140250.csv\n",
      "[264/279] Processing 8151820010.csv\n",
      "[265/279] Processing 8154587527.csv\n",
      "[266/279] Processing 8161076010.csv\n",
      "[267/279] Processing 8165178265.csv\n",
      "[268/279] Processing 8177630492.csv\n",
      "[269/279] Processing 8186991828.csv\n",
      "[270/279] Processing 8218536848.csv\n",
      "[271/279] Processing 8242818063.csv\n",
      "[272/279] Processing 8280696615.csv\n",
      "[273/279] Processing 8284024635.csv\n",
      "[274/279] Processing 8315509214.csv\n",
      "[275/279] Processing 8321616915.csv\n",
      "[276/279] Processing 8359198766.csv\n",
      "[277/279] Processing 8366182505.csv\n",
      "[278/279] Processing 8371556426.csv\n",
      "[279/279] Processing 8392493141.csv\n"
     ]
    }
   ],
   "source": [
    "c=1\n",
    "l = len(list_of_raw_csv_files)\n",
    "for csv_file in list_of_raw_csv_files:\n",
    "    filename = csv_file.split(\"\\\\\")[-1]\n",
    "    print(\"[\"+ str(c)+\"/\"+str(l)+\"] Processing \" + filename)\n",
    "    raw_data=pd.read_csv(csv_file)\n",
    "    raw_data[\"is_record\"]= raw_data.Message==\"record\"\n",
    "    raw_data[\"is_latlon\"]= raw_data[\"Field 3\"]==\"position_long\"\n",
    "    raw_data_12 = raw_data[raw_data.is_record & raw_data.is_latlon][[\"Local Number\",\n",
    "                                                      \"Value 1\",\"Value 2\",\"Value 3\",\"Value 4\",\"Value 5\",\"Value 6\",\n",
    "                                                      \"Value 7\",\"Value 8\",\"Value 9\",\"Value 10\",\"Value 11\",\"Value 12\"]]\n",
    "    raw_data_12=raw_data_12.rename(columns={\"Local Number\":\"datatype\", \"Value 1\": \"time\", \"Value 2\": \"lat\",\"Value 3\": \"lon\",\n",
    "                                        \"Value 4\": \"dist\", \"Value 5\": \"alti\", \"Value 6\": \"spd\", \"Value 7\": \"quid\",\n",
    "                                        \"Value 8\" :\"bpm\", \"Value 9\": \"cad\", \"Value 10\": \"fraq\", \"Value 11\": \"alti_corr\",\n",
    "                                        \"Value 12\": \"spd_corr\"})\n",
    "    raw_data_14 = raw_data[raw_data[\"Local Number\"]==14][[\"Local Number\",\n",
    "                                                      \"Value 1\",\"Value 2\",\"Value 3\",\"Value 4\",\"Value 5\",\"Value 6\",\n",
    "                                                      \"Value 7\",\"Value 8\"]]\n",
    "    raw_data_14 = raw_data_14.rename(columns={\"Local Number\":\"datatype\", \"Value 1\": \"time\", \"Value 2\": \"dist\",\"Value 3\": \"alt\",\n",
    "                                        \"Value 4\": \"quid\", \"Value 5\": \"bpm\", \"Value 6\": \"cad\", \"Value 7\": \"frac\",\n",
    "                                        \"Value 8\" :\"alti_corr\"})\n",
    "    raw_data_14[\"lat\"]=\"\"\n",
    "    raw_data_14[\"lon\"]=\"\"\n",
    "    raw_data_14[\"spd\"]=\"\"\n",
    "    raw_data_14[\"spd_corr\"]=\"\"\n",
    "    df=raw_data_12.append(raw_data_14)\n",
    "    df = df.set_index(\"time\")\n",
    "    df[\"lat\"] = df.lat.apply(convert_coordinate)\n",
    "    df[\"lon\"] = df.lon.apply(convert_coordinate)\n",
    "    df.to_csv(output_csv + filename)\n",
    "    c+=1"
   ]
  },
  {
   "cell_type": "code",
   "execution_count": null,
   "metadata": {},
   "outputs": [],
   "source": []
  }
 ],
 "metadata": {
  "kernelspec": {
   "display_name": "Python 3",
   "language": "python",
   "name": "python3"
  },
  "language_info": {
   "codemirror_mode": {
    "name": "ipython",
    "version": 3
   },
   "file_extension": ".py",
   "mimetype": "text/x-python",
   "name": "python",
   "nbconvert_exporter": "python",
   "pygments_lexer": "ipython3",
   "version": "3.7.1"
  }
 },
 "nbformat": 4,
 "nbformat_minor": 5
}
