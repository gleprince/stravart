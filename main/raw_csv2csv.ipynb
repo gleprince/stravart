{
 "cells": [
  {
   "cell_type": "markdown",
   "id": "97c89b8a",
   "metadata": {},
   "source": [
    "# From raw CSV to beautiful CSV"
   ]
  },
  {
   "cell_type": "code",
   "execution_count": 1,
   "id": "4d372a6a",
   "metadata": {},
   "outputs": [],
   "source": [
    "import re\n",
    "import os\n",
    "import pandas as pd\n",
    "from utils import convert_coordinate"
   ]
  },
  {
   "cell_type": "code",
   "execution_count": 2,
   "id": "6894998c",
   "metadata": {},
   "outputs": [],
   "source": [
    "person = r\"\\blondo\""
   ]
  },
  {
   "cell_type": "code",
   "execution_count": 5,
   "id": "78c4d2b5",
   "metadata": {},
   "outputs": [],
   "source": [
    "path_2 = r\"C:\\Users\\Guilhem Leprince\\repo\"\n",
    "path = r\"C:\\Users\\guilhem.leprince\\Documents\\strava\"\n",
    "directory = path + r\"\\data\" + person + r\"\\activities\"\n",
    "output_csv = path + r\"\\data\\processed_data\" + person + r\"\\csv\\\\\""
   ]
  },
  {
   "cell_type": "code",
   "execution_count": 6,
   "id": "ac04b8dd",
   "metadata": {},
   "outputs": [
    {
     "name": "stdout",
     "output_type": "stream",
     "text": [
      "A total of 65 csv files found\n"
     ]
    }
   ],
   "source": [
    "CSV_FILE = re.compile(\"\\\\d+.csv\")\n",
    "\n",
    "list_of_raw_csv_files = []\n",
    "\n",
    "\n",
    "for filename in os.listdir(directory):\n",
    "    f = os.path.join(directory, filename)\n",
    "    if os.path.isfile(f) and CSV_FILE.match(filename):\n",
    "        list_of_raw_csv_files.append(f)\n",
    "\n",
    "print(\"A total of \" + str(len(list_of_raw_csv_files)) + \" csv files found\")\n"
   ]
  },
  {
   "cell_type": "code",
   "execution_count": 7,
   "id": "149ca286",
   "metadata": {},
   "outputs": [
    {
     "name": "stdout",
     "output_type": "stream",
     "text": [
      "[1/65] Processing 1934211992.csv\n",
      "[2/65] Processing 2616606372.csv\n",
      "[3/65] Processing 2624836461.csv\n",
      "[4/65] Processing 2624837125.csv\n",
      "[5/65] Processing 2624837818.csv\n",
      "[6/65] Processing 2636539008.csv\n",
      "[7/65] Processing 2636713287.csv\n",
      "[8/65] Processing 2713288879.csv\n",
      "[9/65] Processing 3312998322.csv\n"
     ]
    },
    {
     "name": "stderr",
     "output_type": "stream",
     "text": [
      "C:\\Users\\guilhem.leprince\\Anaconda3\\lib\\site-packages\\IPython\\core\\interactiveshell.py:3106: DtypeWarning: Columns (4,22,40,47,80,83,98,231,234,237,240,243,246) have mixed types.Specify dtype option on import or set low_memory=False.\n",
      "  has_raised = await self.run_ast_nodes(code_ast.body, cell_name,\n"
     ]
    },
    {
     "name": "stdout",
     "output_type": "stream",
     "text": [
      "[10/65] Processing 3316816466.csv\n",
      "[11/65] Processing 3322676058.csv\n",
      "[12/65] Processing 3332268706.csv\n",
      "[13/65] Processing 3332270194.csv\n",
      "[14/65] Processing 3332270464.csv\n",
      "[15/65] Processing 3335343070.csv\n",
      "[16/65] Processing 5868262189.csv\n",
      "[17/65] Processing 6124429425.csv\n"
     ]
    },
    {
     "name": "stderr",
     "output_type": "stream",
     "text": [
      "C:\\Users\\guilhem.leprince\\Anaconda3\\lib\\site-packages\\IPython\\core\\interactiveshell.py:3106: DtypeWarning: Columns (7,10,13,16,78,79,80,81,83,84,86,87,89,90,92,93,95,96,98,99) have mixed types.Specify dtype option on import or set low_memory=False.\n",
      "  has_raised = await self.run_ast_nodes(code_ast.body, cell_name,\n"
     ]
    },
    {
     "name": "stdout",
     "output_type": "stream",
     "text": [
      "[18/65] Processing 6893921862.csv\n"
     ]
    },
    {
     "name": "stderr",
     "output_type": "stream",
     "text": [
      "C:\\Users\\guilhem.leprince\\Anaconda3\\lib\\site-packages\\IPython\\core\\interactiveshell.py:3106: DtypeWarning: Columns (7,16,42,45,46,47,48,50,51,53,54,56,57,59,60,62,63,65,66,68,69,72,74,75,77,78,80,81,83,84,85,87,90,93,95,96,98,99,101,102,104,105,108,110,111,113,114,117,119,120,122,123,126,127,129,132,135,138,141,144,147,150,153,156,159,162,165,168,171,174,177,180,183,186,189,192,195,198,201,204,207,210,213,216,219,222,225,228,231,234,237,240,243,246,249,252,255,258,261,264,267,270,273,276,279,282,285,288,291,294,297,300,303,306,309,312) have mixed types.Specify dtype option on import or set low_memory=False.\n",
      "  has_raised = await self.run_ast_nodes(code_ast.body, cell_name,\n"
     ]
    },
    {
     "name": "stdout",
     "output_type": "stream",
     "text": [
      "[19/65] Processing 6893922901.csv\n"
     ]
    },
    {
     "name": "stderr",
     "output_type": "stream",
     "text": [
      "C:\\Users\\guilhem.leprince\\Anaconda3\\lib\\site-packages\\IPython\\core\\interactiveshell.py:3106: DtypeWarning: Columns (7,16,38,39,42,45,46,47,48,50,51,53,54,56,57,59,60,62,63,65,66,68,69,72,74,75,77,78,80,81,83,84,85,87,90,93,95,96,98,99,101,102,104,105,108,110,111,113,114,117,119,120,122,123,126,127,129,132,135,138,141,144,147,150,153,156,159,162,165,168,171,174,177,180,183,186,189,192,195,198,201,204,207,210,213,216,219,222,225,228,231,234,237,240,243,246,249,252,255,258,261,264,267,270,273,276,279,282,285,288,291,294,297,300,303,306,309,312) have mixed types.Specify dtype option on import or set low_memory=False.\n",
      "  has_raised = await self.run_ast_nodes(code_ast.body, cell_name,\n"
     ]
    },
    {
     "name": "stdout",
     "output_type": "stream",
     "text": [
      "[20/65] Processing 6902749287.csv\n",
      "[21/65] Processing 6949197367.csv\n"
     ]
    },
    {
     "name": "stderr",
     "output_type": "stream",
     "text": [
      "C:\\Users\\guilhem.leprince\\Anaconda3\\lib\\site-packages\\IPython\\core\\interactiveshell.py:3106: DtypeWarning: Columns (4,7,16,19,23,37,44,47,50,53,56,59,66,68,69,71,72,75,77,78,80,81,83,84,86,87,89,90,93,96,99,102,105,108,111,114,117,120,123,126,129,132,135,138,141,144,147,150,153,156,159,162,165,168,171,174,177,180,183,186,189,192,195,198,201,204,207,210,213,216,219,222,225,228,231,234,237,240,243,246) have mixed types.Specify dtype option on import or set low_memory=False.\n",
      "  has_raised = await self.run_ast_nodes(code_ast.body, cell_name,\n"
     ]
    },
    {
     "name": "stdout",
     "output_type": "stream",
     "text": [
      "[22/65] Processing 7064076719.csv\n",
      "[23/65] Processing 7792203154.csv\n",
      "[24/65] Processing 7799273242.csv\n"
     ]
    },
    {
     "name": "stderr",
     "output_type": "stream",
     "text": [
      "C:\\Users\\guilhem.leprince\\Anaconda3\\lib\\site-packages\\IPython\\core\\interactiveshell.py:3106: DtypeWarning: Columns (38,41,43,62,65,73,91,96,99,102,104,105,107,108,111,114,115,117,120,123,125,126,128,129,132,135,138,141,142,144,147,150,153,156,159,162,165,168,171,174,177,180,183,186,189,192,195,198,201,204,207,210,213,216,219,222,225,228,231,234,237,240,243,246,249,252,255,258,261,264,267,270,273,276,279,282) have mixed types.Specify dtype option on import or set low_memory=False.\n",
      "  has_raised = await self.run_ast_nodes(code_ast.body, cell_name,\n",
      "C:\\Users\\guilhem.leprince\\Anaconda3\\lib\\site-packages\\IPython\\core\\interactiveshell.py:3106: DtypeWarning: Columns (38,43,62,65,91,104,107,115,125,128,142,243,246,249,252,255,258,261,264,267,270,273,276,279,282) have mixed types.Specify dtype option on import or set low_memory=False.\n",
      "  has_raised = await self.run_ast_nodes(code_ast.body, cell_name,\n"
     ]
    },
    {
     "name": "stdout",
     "output_type": "stream",
     "text": [
      "[25/65] Processing 7799273275.csv\n",
      "[26/65] Processing 7799273324.csv\n",
      "[27/65] Processing 7816301007.csv\n"
     ]
    },
    {
     "name": "stderr",
     "output_type": "stream",
     "text": [
      "C:\\Users\\guilhem.leprince\\Anaconda3\\lib\\site-packages\\IPython\\core\\interactiveshell.py:3106: DtypeWarning: Columns (4,7,46,65,68,91,98,105,107,108,111,113,114,116,117,120,123,125,126,128,129,132,135,138,141,142,144,147,150,153,156,159,162,165,168,171,174,177,180,183,186,189,192,195,198,201,204,207,210,213,216,219,222,225,228,231,234,237,240,243,246,249,252,255,258,261,264,267,270,273,276,279,282) have mixed types.Specify dtype option on import or set low_memory=False.\n",
      "  has_raised = await self.run_ast_nodes(code_ast.body, cell_name,\n"
     ]
    },
    {
     "name": "stdout",
     "output_type": "stream",
     "text": [
      "[28/65] Processing 7821011814.csv\n",
      "[29/65] Processing 7826515668.csv\n",
      "[30/65] Processing 7903457007.csv\n",
      "[31/65] Processing 7903457095.csv\n",
      "[32/65] Processing 7903457599.csv\n"
     ]
    },
    {
     "name": "stderr",
     "output_type": "stream",
     "text": [
      "C:\\Users\\guilhem.leprince\\Anaconda3\\lib\\site-packages\\IPython\\core\\interactiveshell.py:3106: DtypeWarning: Columns (4,7,16,46,50,53,56,59,62,65,68,71,74,86,89,91,92,95,98,101,104,107,113,116,125,128,142,219,222,225,228,231,234,237,240,243,246,249,252,255,258,261,264,267,270,273,276,279,282) have mixed types.Specify dtype option on import or set low_memory=False.\n",
      "  has_raised = await self.run_ast_nodes(code_ast.body, cell_name,\n",
      "C:\\Users\\guilhem.leprince\\Anaconda3\\lib\\site-packages\\IPython\\core\\interactiveshell.py:3106: DtypeWarning: Columns (4,7,16,46,65,68,91,98,105,107,108,111,113,114,116,117,120,123,125,126,128,129,132,135,138,141,142,144,147,150,153,156,159,162,165,168,171,174,177,180,183,186,189,192,195,198,201,204,207,210,213,216,219,222,225,228,231,234,237,240,243,246,249,252,255,258,261,264,267,270,273,276,279,282) have mixed types.Specify dtype option on import or set low_memory=False.\n",
      "  has_raised = await self.run_ast_nodes(code_ast.body, cell_name,\n"
     ]
    },
    {
     "name": "stdout",
     "output_type": "stream",
     "text": [
      "[33/65] Processing 7903458224.csv\n"
     ]
    },
    {
     "name": "stderr",
     "output_type": "stream",
     "text": [
      "C:\\Users\\guilhem.leprince\\Anaconda3\\lib\\site-packages\\IPython\\core\\interactiveshell.py:3106: DtypeWarning: Columns (4,7,16,46,50,53,56,59,62,65,68,71,74,86,89,91,92,95,98,101,104,107,113,116,125,128,142,219,222,225,228,231,234,237,240,243,246,249,252,255,258,261,264,267,270,273,276,279,282) have mixed types.Specify dtype option on import or set low_memory=False.\n",
      "  has_raised = await self.run_ast_nodes(code_ast.body, cell_name,\n",
      "C:\\Users\\guilhem.leprince\\Anaconda3\\lib\\site-packages\\IPython\\core\\interactiveshell.py:3106: DtypeWarning: Columns (4,7,16,46,50,53,56,59,62,65,68,71,74,86,89,91,92,95,98,101,104,105,107,108,111,113,114,116,117,120,123,125,126,128,129,132,135,138,141,142,144,147,150,153,156,159,162,165,168,171,174,177,180,183,186,189,192,195,198,201,204,207,210,213,216,219,222,225,228,231,234,237,240,243,246,249,252,255,258,261,264,267,270,273,276,279,282) have mixed types.Specify dtype option on import or set low_memory=False.\n",
      "  has_raised = await self.run_ast_nodes(code_ast.body, cell_name,\n"
     ]
    },
    {
     "name": "stdout",
     "output_type": "stream",
     "text": [
      "[34/65] Processing 7903459092.csv\n",
      "[35/65] Processing 7903459396.csv\n",
      "[36/65] Processing 7938240648.csv\n"
     ]
    },
    {
     "name": "stderr",
     "output_type": "stream",
     "text": [
      "C:\\Users\\guilhem.leprince\\Anaconda3\\lib\\site-packages\\IPython\\core\\interactiveshell.py:3106: DtypeWarning: Columns (4,7,16,46,65,68,91,98,107,113,116,125,128,142,243,246,249,252,255,258,261,264,267,270,273,276,279,282) have mixed types.Specify dtype option on import or set low_memory=False.\n",
      "  has_raised = await self.run_ast_nodes(code_ast.body, cell_name,\n",
      "C:\\Users\\guilhem.leprince\\Anaconda3\\lib\\site-packages\\IPython\\core\\interactiveshell.py:3106: DtypeWarning: Columns (4,7,16,46,65,68,91,98,105,107,108,111,113,114,116,117,120,123,125,126,128,129,132,135,138,141,142,144,147,150,153,156,159,162,165,168,171,174,177,180,183,186,189,192,195,198,201,204,207,210,213,216,219,222,225,228,231,234,237,240,243,246,249,252,255,258,261,264,267,270,273,276,279,282) have mixed types.Specify dtype option on import or set low_memory=False.\n",
      "  has_raised = await self.run_ast_nodes(code_ast.body, cell_name,\n"
     ]
    },
    {
     "name": "stdout",
     "output_type": "stream",
     "text": [
      "[37/65] Processing 7958878102.csv\n",
      "[38/65] Processing 7973352045.csv\n"
     ]
    },
    {
     "name": "stderr",
     "output_type": "stream",
     "text": [
      "C:\\Users\\guilhem.leprince\\Anaconda3\\lib\\site-packages\\IPython\\core\\interactiveshell.py:3106: DtypeWarning: Columns (4,7,16,46,65,68,91,98,105,107,108,111,113,114,116,117,120,123,125,126,128,129,132,135,138,141,142,144,147,150,153,156,159,162,165,168,171,174,177,180,183,186,189,192,195,198,201,204,207,210,213,216,219,222,225,228,231,234,237,240,243,246,249,252,255,258,261,264,267,270,273,276,279,282) have mixed types.Specify dtype option on import or set low_memory=False.\n",
      "  has_raised = await self.run_ast_nodes(code_ast.body, cell_name,\n",
      "C:\\Users\\guilhem.leprince\\Anaconda3\\lib\\site-packages\\IPython\\core\\interactiveshell.py:3106: DtypeWarning: Columns (4,7,16,46,65,68,91,98,105,107,108,111,113,114,116,117,120,123,125,126,128,129,132,135,138,141,142,144,147,150,153,156,159,162,165,168,171,174,177,180,183,186,189,192,195,198,201,204,207,210,213,216,219,222,225,228,231,234,237,240,243,246,249,252,255,258,261,264,267,270,273,276,279,282) have mixed types.Specify dtype option on import or set low_memory=False.\n",
      "  has_raised = await self.run_ast_nodes(code_ast.body, cell_name,\n"
     ]
    },
    {
     "name": "stdout",
     "output_type": "stream",
     "text": [
      "[39/65] Processing 7980414193.csv\n",
      "[40/65] Processing 8002809973.csv\n",
      "[41/65] Processing 8020987098.csv\n"
     ]
    },
    {
     "name": "stderr",
     "output_type": "stream",
     "text": [
      "C:\\Users\\guilhem.leprince\\Anaconda3\\lib\\site-packages\\IPython\\core\\interactiveshell.py:3106: DtypeWarning: Columns (4,7,16,39,42,45,46,48,50,51,53,54,56,57,59,60,62,63,65,66,68,69,71,72,74,75,78,81,84,86,87,89,90,91,92,93,95,96,98,99,101,102,104,105,107,108,111,113,114,116,117,120,123,125,126,128,129,132,135,138,141,142,144,147,150,153,156,159,162,165,168,171,174,177,180,183,186,189,192,195,198,201,204,207,210,213,216,219,222,225,228,231,234,237,240,243,246,249,252,255,258,261,264,267,270,273,276,279,282) have mixed types.Specify dtype option on import or set low_memory=False.\n",
      "  has_raised = await self.run_ast_nodes(code_ast.body, cell_name,\n",
      "C:\\Users\\guilhem.leprince\\Anaconda3\\lib\\site-packages\\IPython\\core\\interactiveshell.py:3106: DtypeWarning: Columns (4,7,16,39,42,45,46,48,50,51,53,54,56,57,59,60,62,63,65,66,68,69,71,72,74,75,78,81,84,86,87,89,90,91,92,93,95,96,98,99,101,102,104,105,107,108,111,113,114,116,117,120,123,125,126,128,129,132,135,138,141,142,144,147,150,153,156,159,162,165,168,171,174,177,180,183,186,189,192,195,198,201,204,207,210,213,216,219,222,225,228,231,234,237,240,243,246,249,252,255,258,261,264,267,270,273,276,279,282) have mixed types.Specify dtype option on import or set low_memory=False.\n",
      "  has_raised = await self.run_ast_nodes(code_ast.body, cell_name,\n"
     ]
    },
    {
     "name": "stdout",
     "output_type": "stream",
     "text": [
      "[42/65] Processing 8020987970.csv\n",
      "[43/65] Processing 8032478936.csv\n",
      "[44/65] Processing 8062579363.csv\n"
     ]
    },
    {
     "name": "stderr",
     "output_type": "stream",
     "text": [
      "C:\\Users\\guilhem.leprince\\Anaconda3\\lib\\site-packages\\IPython\\core\\interactiveshell.py:3106: DtypeWarning: Columns (4,46,65,68,91,104,111,113,114,116,117,120,122,123,125,126,129,130,132,135,138,140,141,142,143,144,147,150,153,156,159,162,165,168,171,174,177,180,183,186,189,192,195,198,201,204,207,210,213,216,219,222,225,228,231,234,237,240,243,246,249,252,255,258,261,264,267,270,273,276,279,282) have mixed types.Specify dtype option on import or set low_memory=False.\n",
      "  has_raised = await self.run_ast_nodes(code_ast.body, cell_name,\n"
     ]
    },
    {
     "name": "stdout",
     "output_type": "stream",
     "text": [
      "[45/65] Processing 8062581016.csv\n"
     ]
    },
    {
     "name": "stderr",
     "output_type": "stream",
     "text": [
      "C:\\Users\\guilhem.leprince\\Anaconda3\\lib\\site-packages\\IPython\\core\\interactiveshell.py:3106: DtypeWarning: Columns (4,46,65,68,91,104,111,113,114,116,117,120,122,123,125,126,129,130,132,135,138,140,141,142,143,144,147,150,153,156,159,162,165,168,171,174,177,180,183,186,189,192,195,198,201,204,207,210,213,216,219,222,225,228,231,234,237,240,243,246,249,252,255,258,261,264,267,270,273,276,279,282) have mixed types.Specify dtype option on import or set low_memory=False.\n",
      "  has_raised = await self.run_ast_nodes(code_ast.body, cell_name,\n",
      "C:\\Users\\guilhem.leprince\\Anaconda3\\lib\\site-packages\\IPython\\core\\interactiveshell.py:3106: DtypeWarning: Columns (4,7,16,46,65,68,91,98,105,107,108,111,113,114,116,117,120,123,125,126,128,129,132,135,138,141,142,144,147,150,153,156,159,162,165,168,171,174,177,180,183,186,189,192,195,198,201,204,207,210,213,216,219,222,225,228,231,234,237,240,243,246,249,252,255,258,261,264,267,270,273,276,279,282) have mixed types.Specify dtype option on import or set low_memory=False.\n",
      "  has_raised = await self.run_ast_nodes(code_ast.body, cell_name,\n"
     ]
    },
    {
     "name": "stdout",
     "output_type": "stream",
     "text": [
      "[46/65] Processing 8105980257.csv\n",
      "[47/65] Processing 8108909491.csv\n",
      "[48/65] Processing 8156049855.csv\n"
     ]
    },
    {
     "name": "stderr",
     "output_type": "stream",
     "text": [
      "C:\\Users\\guilhem.leprince\\Anaconda3\\lib\\site-packages\\IPython\\core\\interactiveshell.py:3106: DtypeWarning: Columns (4,5,7,11,14,16,17,20,23,24,26,27,29,30,32,33,35,36,38,39,42,45,46,48,50,51,53,54,56,57,59,60,62,63,65,66,68,69,71,72,74,75,78,81,84,86,87,89,90,91,92,93,95,96,98,99,101,102,104,105,107,108,111,113,114,116,117,120,123,125,126,128,129,132,135,138,141,142,144,147,150,153,156,159,162,165,168,171,174,177,180,183,186,189,192,195,198,201,204,207,210,213,216,219,222,225,228,231,234,237,240,243,246,249,252,255,258,261,264,267,270,273,276,279,282) have mixed types.Specify dtype option on import or set low_memory=False.\n",
      "  has_raised = await self.run_ast_nodes(code_ast.body, cell_name,\n",
      "C:\\Users\\guilhem.leprince\\Anaconda3\\lib\\site-packages\\IPython\\core\\interactiveshell.py:3106: DtypeWarning: Columns (4,46,65,68,91,104,113,116,122,125,130,140,142,143,243,246,249,252,255,258,261,264,267,270,273,276,279,282) have mixed types.Specify dtype option on import or set low_memory=False.\n",
      "  has_raised = await self.run_ast_nodes(code_ast.body, cell_name,\n"
     ]
    },
    {
     "name": "stdout",
     "output_type": "stream",
     "text": [
      "[49/65] Processing 8167756006.csv\n",
      "[50/65] Processing 8185357111.csv\n",
      "[51/65] Processing 8200017673.csv\n",
      "[52/65] Processing 8243965804.csv\n",
      "[53/65] Processing 8243966113.csv\n"
     ]
    },
    {
     "name": "stderr",
     "output_type": "stream",
     "text": [
      "C:\\Users\\guilhem.leprince\\Anaconda3\\lib\\site-packages\\IPython\\core\\interactiveshell.py:3106: DtypeWarning: Columns (4,7,16,46,50,53,56,59,62,65,68,71,74,86,89,91,92,95,98,101,104,107,113,116,125,128,142,219,222,225,228,231,234,237,240,243,246,249,252,255,258,261,264,267,270,273,276,279,282) have mixed types.Specify dtype option on import or set low_memory=False.\n",
      "  has_raised = await self.run_ast_nodes(code_ast.body, cell_name,\n",
      "C:\\Users\\guilhem.leprince\\Anaconda3\\lib\\site-packages\\IPython\\core\\interactiveshell.py:3106: DtypeWarning: Columns (4,7,16,23,39,42,45,46,48,50,51,53,54,56,57,59,60,62,63,65,66,68,69,71,72,74,75,78,81,84,86,87,89,90,91,92,93,95,96,98,99,101,102,104,105,107,108,111,113,114,116,117,120,123,125,126,128,129,132,135,138,141,142,144,147,150,153,156,159,162,165,168,171,174,177,180,183,186,189,192,195,198,201,204,207,210,213,216,219,222,225,228,231,234,237,240,243,246,249,252,255,258,261,264,267,270,273,276,279,282) have mixed types.Specify dtype option on import or set low_memory=False.\n",
      "  has_raised = await self.run_ast_nodes(code_ast.body, cell_name,\n"
     ]
    },
    {
     "name": "stdout",
     "output_type": "stream",
     "text": [
      "[54/65] Processing 8243966485.csv\n",
      "[55/65] Processing 8245944546.csv\n",
      "[56/65] Processing 8341254513.csv\n"
     ]
    },
    {
     "name": "stderr",
     "output_type": "stream",
     "text": [
      "C:\\Users\\guilhem.leprince\\Anaconda3\\lib\\site-packages\\IPython\\core\\interactiveshell.py:3106: DtypeWarning: Columns (4,7,16,46,50,53,56,59,62,65,68,71,74,86,89,91,92,95,98,101,104,107,113,116,125,128,142,219,222,225,228,231,234,237,240,243,246,249,252,255,258,261,264,267,270,273,276,279,282) have mixed types.Specify dtype option on import or set low_memory=False.\n",
      "  has_raised = await self.run_ast_nodes(code_ast.body, cell_name,\n"
     ]
    },
    {
     "name": "stdout",
     "output_type": "stream",
     "text": [
      "[57/65] Processing 8365946275.csv\n"
     ]
    },
    {
     "name": "stderr",
     "output_type": "stream",
     "text": [
      "C:\\Users\\guilhem.leprince\\Anaconda3\\lib\\site-packages\\IPython\\core\\interactiveshell.py:3106: DtypeWarning: Columns (4,7,16,39,42,45,46,48,50,51,53,54,56,57,59,60,62,63,65,66,68,69,71,72,74,75,78,81,84,86,87,89,90,91,92,93,95,96,98,99,101,102,104,105,107,108,111,113,114,116,117,120,123,125,126,128,129,132,135,138,141,142,144,147,150,153,156,159,162,165,168,171,174,177,180,183,186,189,192,195,198,201,204,207,210,213,216,219,222,225,228,231,234,237,240,243,246,249,252,255,258,261,264,267,270,273,276,279,282) have mixed types.Specify dtype option on import or set low_memory=False.\n",
      "  has_raised = await self.run_ast_nodes(code_ast.body, cell_name,\n"
     ]
    },
    {
     "name": "stdout",
     "output_type": "stream",
     "text": [
      "[58/65] Processing 8365947163.csv\n"
     ]
    },
    {
     "name": "stderr",
     "output_type": "stream",
     "text": [
      "C:\\Users\\guilhem.leprince\\Anaconda3\\lib\\site-packages\\IPython\\core\\interactiveshell.py:3106: DtypeWarning: Columns (4,7,16,23,39,42,45,46,48,50,51,53,54,56,57,59,60,62,63,65,66,68,69,71,72,74,75,78,81,84,86,87,89,90,91,92,93,95,96,98,99,101,102,104,105,107,108,111,113,114,116,117,120,123,125,126,128,129,132,135,138,141,142,144,147,150,153,156,159,162,165,168,171,174,177,180,183,186,189,192,195,198,201,204,207,210,213,216,219,222,225,228,231,234,237,240,243,246,249,252,255,258,261,264,267,270,273,276,279,282) have mixed types.Specify dtype option on import or set low_memory=False.\n",
      "  has_raised = await self.run_ast_nodes(code_ast.body, cell_name,\n"
     ]
    },
    {
     "name": "stdout",
     "output_type": "stream",
     "text": [
      "[59/65] Processing 8377021089.csv\n",
      "[60/65] Processing 8389028163.csv\n",
      "[61/65] Processing 8412123257.csv\n",
      "[62/65] Processing 8444030616.csv\n"
     ]
    },
    {
     "name": "stderr",
     "output_type": "stream",
     "text": [
      "C:\\Users\\guilhem.leprince\\Anaconda3\\lib\\site-packages\\IPython\\core\\interactiveshell.py:3106: DtypeWarning: Columns (4,46,65,68,91,104,111,113,114,116,117,120,122,123,125,126,129,130,132,135,138,140,141,142,143,144,147,150,153,156,159,162,165,168,171,174,177,180,183,186,189,192,195,198,201,204,207,210,213,216,219,222,225,228,231,234,237,240,243,246,249,252,255,258,261,264,267,270,273,276,279,282) have mixed types.Specify dtype option on import or set low_memory=False.\n",
      "  has_raised = await self.run_ast_nodes(code_ast.body, cell_name,\n"
     ]
    },
    {
     "name": "stdout",
     "output_type": "stream",
     "text": [
      "[63/65] Processing 8474692991.csv\n",
      "[64/65] Processing 8498784441.csv\n",
      "[65/65] Processing 8510505955.csv\n"
     ]
    }
   ],
   "source": [
    "c=1\n",
    "l = len(list_of_raw_csv_files)\n",
    "for csv_file in list_of_raw_csv_files:\n",
    "    filename = csv_file.split(\"\\\\\")[-1]\n",
    "    print(\"[\"+ str(c)+\"/\"+str(l)+\"] Processing \" + filename)\n",
    "    raw_data=pd.read_csv(csv_file)\n",
    "    raw_data[\"is_record\"]= raw_data.Message==\"record\"\n",
    "    raw_data[\"is_latlon\"]= raw_data[\"Field 3\"]==\"position_long\"\n",
    "    raw_data_12 = raw_data[raw_data.is_record & raw_data.is_latlon][[\"Local Number\",\n",
    "                                                      \"Value 1\",\"Value 2\",\"Value 3\",\"Value 4\",\"Value 5\",\"Value 6\",\n",
    "                                                      \"Value 7\",\"Value 8\",\"Value 9\",\"Value 10\",\"Value 11\",\"Value 12\"]]\n",
    "    raw_data_12=raw_data_12.rename(columns={\"Local Number\":\"datatype\", \"Value 1\": \"time\", \"Value 2\": \"lat\",\"Value 3\": \"lon\",\n",
    "                                        \"Value 4\": \"dist\", \"Value 5\": \"alti\", \"Value 6\": \"spd\", \"Value 7\": \"quid\",\n",
    "                                        \"Value 8\" :\"bpm\", \"Value 9\": \"cad\", \"Value 10\": \"fraq\", \"Value 11\": \"alti_corr\",\n",
    "                                        \"Value 12\": \"spd_corr\"})\n",
    "    raw_data_14 = raw_data[raw_data[\"Local Number\"]==14][[\"Local Number\",\n",
    "                                                      \"Value 1\",\"Value 2\",\"Value 3\",\"Value 4\",\"Value 5\",\"Value 6\",\n",
    "                                                      \"Value 7\",\"Value 8\"]]\n",
    "    raw_data_14 = raw_data_14.rename(columns={\"Local Number\":\"datatype\", \"Value 1\": \"time\", \"Value 2\": \"dist\",\"Value 3\": \"alt\",\n",
    "                                        \"Value 4\": \"quid\", \"Value 5\": \"bpm\", \"Value 6\": \"cad\", \"Value 7\": \"frac\",\n",
    "                                        \"Value 8\" :\"alti_corr\"})\n",
    "    raw_data_14[\"lat\"]=\"\"\n",
    "    raw_data_14[\"lon\"]=\"\"\n",
    "    raw_data_14[\"spd\"]=\"\"\n",
    "    raw_data_14[\"spd_corr\"]=\"\"\n",
    "    df=raw_data_12.append(raw_data_14)\n",
    "    df = df.set_index(\"time\")\n",
    "    df[\"lat\"] = df.lat.apply(convert_coordinate)\n",
    "    df[\"lon\"] = df.lon.apply(convert_coordinate)\n",
    "    df.to_csv(output_csv + filename)\n",
    "    c+=1"
   ]
  },
  {
   "cell_type": "code",
   "execution_count": null,
   "id": "1c7f4352",
   "metadata": {},
   "outputs": [],
   "source": []
  }
 ],
 "metadata": {
  "kernelspec": {
   "display_name": "Python 3 (ipykernel)",
   "language": "python",
   "name": "python3"
  },
  "language_info": {
   "codemirror_mode": {
    "name": "ipython",
    "version": 3
   },
   "file_extension": ".py",
   "mimetype": "text/x-python",
   "name": "python",
   "nbconvert_exporter": "python",
   "pygments_lexer": "ipython3",
   "version": "3.9.12"
  }
 },
 "nbformat": 4,
 "nbformat_minor": 5
}
