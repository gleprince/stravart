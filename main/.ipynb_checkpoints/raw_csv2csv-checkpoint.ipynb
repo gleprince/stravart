{
 "cells": [
  {
   "cell_type": "markdown",
   "id": "42a5116f",
   "metadata": {},
   "source": [
    "# From raw CSV to beautiful CSV"
   ]
  },
  {
   "cell_type": "code",
   "execution_count": 9,
   "id": "92d4e430",
   "metadata": {},
   "outputs": [],
   "source": [
    "import re\n",
    "import os\n",
    "import pandas as pd\n",
    "from utils import convert_coordinate"
   ]
  },
  {
   "cell_type": "code",
   "execution_count": 10,
   "id": "fb8200d5",
   "metadata": {},
   "outputs": [],
   "source": [
    "person = r\"\\manue\""
   ]
  },
  {
   "cell_type": "code",
   "execution_count": 11,
   "id": "5a8aa523",
   "metadata": {},
   "outputs": [],
   "source": [
    "path_2 = r\"C:\\Users\\Guilhem Leprince\\repo\"\n",
    "path = r\"C:\\Users\\guilhem.leprince\\Documents\\strava\"\n",
    "directory = path + r\"\\data\\manue\\activities\"\n",
    "output_csv = path + r\"\\data\\processed_data\" + person + r\"\\csv\\\\\""
   ]
  },
  {
   "cell_type": "code",
   "execution_count": 12,
   "id": "72c0cd47",
   "metadata": {},
   "outputs": [
    {
     "name": "stdout",
     "output_type": "stream",
     "text": [
      "A total of 195 csv files found\n"
     ]
    }
   ],
   "source": [
    "CSV_FILE = re.compile(\"\\\\d+.csv\")\n",
    "\n",
    "list_of_raw_csv_files = []\n",
    "\n",
    "\n",
    "for filename in os.listdir(directory):\n",
    "    f = os.path.join(directory, filename)\n",
    "    if os.path.isfile(f) and CSV_FILE.match(filename):\n",
    "        list_of_raw_csv_files.append(f)\n",
    "\n",
    "print(\"A total of \" + str(len(list_of_raw_csv_files)) + \" csv files found\")\n"
   ]
  },
  {
   "cell_type": "code",
   "execution_count": 13,
   "id": "c46b8133",
   "metadata": {},
   "outputs": [
    {
     "name": "stdout",
     "output_type": "stream",
     "text": [
      "[1/195] Processing 2062380536.csv\n",
      "[2/195] Processing 2071986615.csv\n",
      "[3/195] Processing 2083959364.csv\n",
      "[4/195] Processing 2095695676.csv\n",
      "[5/195] Processing 2099314939.csv\n",
      "[6/195] Processing 2106979809.csv\n",
      "[7/195] Processing 2110703651.csv\n",
      "[8/195] Processing 2113573762.csv\n",
      "[9/195] Processing 2163025334.csv\n",
      "[10/195] Processing 2166025078.csv\n",
      "[11/195] Processing 2194127721.csv\n",
      "[12/195] Processing 2197623650.csv\n",
      "[13/195] Processing 2206037630.csv\n",
      "[14/195] Processing 2212579279.csv\n",
      "[15/195] Processing 2229280510.csv\n",
      "[16/195] Processing 2270227900.csv\n",
      "[17/195] Processing 2279375143.csv\n",
      "[18/195] Processing 2286012912.csv\n",
      "[19/195] Processing 2303797667.csv\n",
      "[20/195] Processing 2314574377.csv\n",
      "[21/195] Processing 2317179433.csv\n",
      "[22/195] Processing 2327122396.csv\n",
      "[23/195] Processing 2329459962.csv\n",
      "[24/195] Processing 2337316605.csv\n",
      "[25/195] Processing 2359814819.csv\n",
      "[26/195] Processing 2361882201.csv\n",
      "[27/195] Processing 2406641927.csv\n",
      "[28/195] Processing 2447538558.csv\n",
      "[29/195] Processing 2483067882.csv\n",
      "[30/195] Processing 2494214145.csv\n",
      "[31/195] Processing 2522621115.csv\n",
      "[32/195] Processing 2562305295.csv\n",
      "[33/195] Processing 2565937290.csv\n",
      "[34/195] Processing 2626664300.csv\n",
      "[35/195] Processing 2626664682.csv\n",
      "[36/195] Processing 2628814973.csv\n",
      "[37/195] Processing 2665044124.csv\n",
      "[38/195] Processing 2685262275.csv\n",
      "[39/195] Processing 2739373400.csv\n",
      "[40/195] Processing 2751174022.csv\n",
      "[41/195] Processing 2783777433.csv\n",
      "[42/195] Processing 2838485516.csv\n",
      "[43/195] Processing 2850983650.csv\n",
      "[44/195] Processing 2855359158.csv\n",
      "[45/195] Processing 2865338398.csv\n",
      "[46/195] Processing 2873671990.csv\n",
      "[47/195] Processing 2873691136.csv\n",
      "[48/195] Processing 2897861279.csv\n",
      "[49/195] Processing 2911789114.csv\n",
      "[50/195] Processing 2916989744.csv\n",
      "[51/195] Processing 2952812776.csv\n",
      "[52/195] Processing 2962918969.csv\n",
      "[53/195] Processing 2982685294.csv\n",
      "[54/195] Processing 3000580796.csv\n",
      "[55/195] Processing 3003112259.csv\n",
      "[56/195] Processing 3028747576.csv\n",
      "[57/195] Processing 3030259431.csv\n",
      "[58/195] Processing 3155428583.csv\n",
      "[59/195] Processing 3181588465.csv\n",
      "[60/195] Processing 3217179019.csv\n",
      "[61/195] Processing 3316847909.csv\n",
      "[62/195] Processing 3329257771.csv\n",
      "[63/195] Processing 3342700664.csv\n",
      "[64/195] Processing 3357245551.csv\n",
      "[65/195] Processing 3360477949.csv\n",
      "[66/195] Processing 3709136195.csv\n",
      "[67/195] Processing 3743757395.csv\n",
      "[68/195] Processing 3760891446.csv\n",
      "[69/195] Processing 3880368083.csv\n",
      "[70/195] Processing 3902414557.csv\n",
      "[71/195] Processing 3923803257.csv\n",
      "[72/195] Processing 3952973052.csv\n",
      "[73/195] Processing 4017409468.csv\n",
      "[74/195] Processing 4017411041.csv\n",
      "[75/195] Processing 4058018749.csv\n",
      "[76/195] Processing 4062636638.csv\n",
      "[77/195] Processing 4155338376.csv\n",
      "[78/195] Processing 4166854634.csv\n",
      "[79/195] Processing 4186875922.csv\n",
      "[80/195] Processing 4192434497.csv\n",
      "[81/195] Processing 4340274776.csv\n",
      "[82/195] Processing 4360082076.csv\n",
      "[83/195] Processing 4390065639.csv\n",
      "[84/195] Processing 4441825474.csv\n",
      "[85/195] Processing 4621535629.csv\n",
      "[86/195] Processing 4642146498.csv\n",
      "[87/195] Processing 4711860853.csv\n",
      "[88/195] Processing 4743292149.csv\n",
      "[89/195] Processing 4774442451.csv\n",
      "[90/195] Processing 4794939179.csv\n",
      "[91/195] Processing 4799247411.csv\n",
      "[92/195] Processing 4808607160.csv\n",
      "[93/195] Processing 4816623206.csv\n",
      "[94/195] Processing 4952735821.csv\n",
      "[95/195] Processing 5065675859.csv\n",
      "[96/195] Processing 5071258745.csv\n",
      "[97/195] Processing 5101820472.csv\n",
      "[98/195] Processing 5207667221.csv\n",
      "[99/195] Processing 5221073446.csv\n",
      "[100/195] Processing 5245093323.csv\n",
      "[101/195] Processing 5317647889.csv\n",
      "[102/195] Processing 5358336304.csv\n",
      "[103/195] Processing 5433854356.csv\n",
      "[104/195] Processing 5504544190.csv\n",
      "[105/195] Processing 5535117679.csv\n",
      "[106/195] Processing 5546942652.csv\n",
      "[107/195] Processing 5582172482.csv\n",
      "[108/195] Processing 5641615254.csv\n",
      "[109/195] Processing 5652965500.csv\n",
      "[110/195] Processing 5664906679.csv\n",
      "[111/195] Processing 5686461077.csv\n",
      "[112/195] Processing 5989878023.csv\n",
      "[113/195] Processing 6017325857.csv\n",
      "[114/195] Processing 6113686746.csv\n",
      "[115/195] Processing 6113690537.csv\n",
      "[116/195] Processing 6113695011.csv\n",
      "[117/195] Processing 6113698348.csv\n",
      "[118/195] Processing 6113701116.csv\n",
      "[119/195] Processing 6131307284.csv\n",
      "[120/195] Processing 6146928836.csv\n",
      "[121/195] Processing 6158649376.csv\n",
      "[122/195] Processing 6213479373.csv\n",
      "[123/195] Processing 6239071638.csv\n",
      "[124/195] Processing 6244571794.csv\n",
      "[125/195] Processing 6275420152.csv\n",
      "[126/195] Processing 6317661756.csv\n",
      "[127/195] Processing 6388116607.csv\n",
      "[128/195] Processing 6475634566.csv\n",
      "[129/195] Processing 6475642256.csv\n",
      "[130/195] Processing 6477235124.csv\n",
      "[131/195] Processing 6519307121.csv\n",
      "[132/195] Processing 6548057655.csv\n",
      "[133/195] Processing 6548058868.csv\n",
      "[134/195] Processing 6548064098.csv\n",
      "[135/195] Processing 6710708758.csv\n"
     ]
    },
    {
     "name": "stderr",
     "output_type": "stream",
     "text": [
      "C:\\Users\\guilhem.leprince\\Anaconda3\\lib\\site-packages\\IPython\\core\\interactiveshell.py:3106: DtypeWarning: Columns (4,7,16,22,40,44,47,50,53,56,59,62,71,74,77,79,80,83,86,89,92,95,98,101,104,107,110,129,132) have mixed types.Specify dtype option on import or set low_memory=False.\n",
      "  has_raised = await self.run_ast_nodes(code_ast.body, cell_name,\n"
     ]
    },
    {
     "name": "stdout",
     "output_type": "stream",
     "text": [
      "[136/195] Processing 6714970002.csv\n",
      "[137/195] Processing 6840979007.csv\n",
      "[138/195] Processing 6844564087.csv\n",
      "[139/195] Processing 6854689567.csv\n",
      "[140/195] Processing 6859222904.csv\n",
      "[141/195] Processing 6871607822.csv\n",
      "[142/195] Processing 6871611712.csv\n",
      "[143/195] Processing 6876266094.csv\n",
      "[144/195] Processing 6887330915.csv\n"
     ]
    },
    {
     "name": "stderr",
     "output_type": "stream",
     "text": [
      "C:\\Users\\guilhem.leprince\\Anaconda3\\lib\\site-packages\\IPython\\core\\interactiveshell.py:3106: DtypeWarning: Columns (4,7,16,22,23,40,44,47,50,53,56,59,62,71,74,77,79,80,83,86,89,92,95,98,101,104,107,110,129,132) have mixed types.Specify dtype option on import or set low_memory=False.\n",
      "  has_raised = await self.run_ast_nodes(code_ast.body, cell_name,\n",
      "C:\\Users\\guilhem.leprince\\Anaconda3\\lib\\site-packages\\IPython\\core\\interactiveshell.py:3106: DtypeWarning: Columns (4,7,16,22,40,44,47,50,53,56,59,62,71,74,77,79,80,83,86,89,92,95,98,101,104,107,110,129,132) have mixed types.Specify dtype option on import or set low_memory=False.\n",
      "  has_raised = await self.run_ast_nodes(code_ast.body, cell_name,\n"
     ]
    },
    {
     "name": "stdout",
     "output_type": "stream",
     "text": [
      "[145/195] Processing 6949112450.csv\n",
      "[146/195] Processing 6985963227.csv\n",
      "[147/195] Processing 6985971499.csv\n",
      "[148/195] Processing 7025408088.csv\n",
      "[149/195] Processing 7025415303.csv\n",
      "[150/195] Processing 7131080219.csv\n",
      "[151/195] Processing 7138398259.csv\n"
     ]
    },
    {
     "name": "stderr",
     "output_type": "stream",
     "text": [
      "C:\\Users\\guilhem.leprince\\Anaconda3\\lib\\site-packages\\IPython\\core\\interactiveshell.py:3106: DtypeWarning: Columns (4,22,40,44,68,79,89,104,107,110,129,132) have mixed types.Specify dtype option on import or set low_memory=False.\n",
      "  has_raised = await self.run_ast_nodes(code_ast.body, cell_name,\n"
     ]
    },
    {
     "name": "stdout",
     "output_type": "stream",
     "text": [
      "[152/195] Processing 7160636675.csv\n",
      "[153/195] Processing 7160638740.csv\n",
      "[154/195] Processing 7163593692.csv\n",
      "[155/195] Processing 7186938223.csv\n",
      "[156/195] Processing 7195795886.csv\n",
      "[157/195] Processing 7195796648.csv\n",
      "[158/195] Processing 7200979338.csv\n",
      "[159/195] Processing 7247834787.csv\n",
      "[160/195] Processing 7253651574.csv\n",
      "[161/195] Processing 7292148075.csv\n",
      "[162/195] Processing 7333000445.csv\n",
      "[163/195] Processing 7333009606.csv\n",
      "[164/195] Processing 7400973789.csv\n",
      "[165/195] Processing 7407014226.csv\n",
      "[166/195] Processing 7417741586.csv\n",
      "[167/195] Processing 7417745407.csv\n",
      "[168/195] Processing 7429005937.csv\n",
      "[169/195] Processing 7434805642.csv\n",
      "[170/195] Processing 7441803893.csv\n"
     ]
    },
    {
     "name": "stderr",
     "output_type": "stream",
     "text": [
      "C:\\Users\\guilhem.leprince\\Anaconda3\\lib\\site-packages\\IPython\\core\\interactiveshell.py:3106: DtypeWarning: Columns (4,7,16,22,40,44,47,50,53,56,59,62,71,74,77,79,80,83,86,89,92,95,98,101,104,107,110,129,132) have mixed types.Specify dtype option on import or set low_memory=False.\n",
      "  has_raised = await self.run_ast_nodes(code_ast.body, cell_name,\n",
      "C:\\Users\\guilhem.leprince\\Anaconda3\\lib\\site-packages\\IPython\\core\\interactiveshell.py:3106: DtypeWarning: Columns (4,7,16,22,40,44,47,50,53,56,59,62,71,74,77,79,80,83,86,89,92,95,98,101,104,107,110,129,132) have mixed types.Specify dtype option on import or set low_memory=False.\n",
      "  has_raised = await self.run_ast_nodes(code_ast.body, cell_name,\n"
     ]
    },
    {
     "name": "stdout",
     "output_type": "stream",
     "text": [
      "[171/195] Processing 7450869560.csv\n",
      "[172/195] Processing 7514769276.csv\n",
      "[173/195] Processing 7527194982.csv\n",
      "[174/195] Processing 7527205241.csv\n",
      "[175/195] Processing 7732339889.csv\n",
      "[176/195] Processing 7732346270.csv\n",
      "[177/195] Processing 7732350331.csv\n",
      "[178/195] Processing 7772541615.csv\n",
      "[179/195] Processing 7813262703.csv\n",
      "[180/195] Processing 7847968377.csv\n",
      "[181/195] Processing 8072345583.csv\n",
      "[182/195] Processing 8099882045.csv\n",
      "[183/195] Processing 8109700897.csv\n",
      "[184/195] Processing 8117120062.csv\n",
      "[185/195] Processing 8124582354.csv\n",
      "[186/195] Processing 8135241242.csv\n",
      "[187/195] Processing 8147299272.csv\n",
      "[188/195] Processing 8184935877.csv\n",
      "[189/195] Processing 8274352012.csv\n",
      "[190/195] Processing 8279264048.csv\n",
      "[191/195] Processing 8321365511.csv\n",
      "[192/195] Processing 8366014777.csv\n",
      "[193/195] Processing 8366018645.csv\n",
      "[194/195] Processing 8405186685.csv\n",
      "[195/195] Processing 8409171482.csv\n"
     ]
    },
    {
     "name": "stderr",
     "output_type": "stream",
     "text": [
      "C:\\Users\\guilhem.leprince\\Anaconda3\\lib\\site-packages\\IPython\\core\\interactiveshell.py:3106: DtypeWarning: Columns (4,7,16,22,40,44,47,50,53,56,59,62,71,74,77,79,80,83,86,89,92,95,98,101,104,107,110,129,132) have mixed types.Specify dtype option on import or set low_memory=False.\n",
      "  has_raised = await self.run_ast_nodes(code_ast.body, cell_name,\n"
     ]
    }
   ],
   "source": [
    "c=1\n",
    "l = len(list_of_raw_csv_files)\n",
    "for csv_file in list_of_raw_csv_files:\n",
    "    filename = csv_file.split(\"\\\\\")[-1]\n",
    "    print(\"[\"+ str(c)+\"/\"+str(l)+\"] Processing \" + filename)\n",
    "    raw_data=pd.read_csv(csv_file)\n",
    "    raw_data[\"is_record\"]= raw_data.Message==\"record\"\n",
    "    raw_data[\"is_latlon\"]= raw_data[\"Field 3\"]==\"position_long\"\n",
    "    raw_data_12 = raw_data[raw_data.is_record & raw_data.is_latlon][[\"Local Number\",\n",
    "                                                      \"Value 1\",\"Value 2\",\"Value 3\",\"Value 4\",\"Value 5\",\"Value 6\",\n",
    "                                                      \"Value 7\",\"Value 8\",\"Value 9\",\"Value 10\",\"Value 11\",\"Value 12\"]]\n",
    "    raw_data_12=raw_data_12.rename(columns={\"Local Number\":\"datatype\", \"Value 1\": \"time\", \"Value 2\": \"lat\",\"Value 3\": \"lon\",\n",
    "                                        \"Value 4\": \"dist\", \"Value 5\": \"alti\", \"Value 6\": \"spd\", \"Value 7\": \"quid\",\n",
    "                                        \"Value 8\" :\"bpm\", \"Value 9\": \"cad\", \"Value 10\": \"fraq\", \"Value 11\": \"alti_corr\",\n",
    "                                        \"Value 12\": \"spd_corr\"})\n",
    "    raw_data_14 = raw_data[raw_data[\"Local Number\"]==14][[\"Local Number\",\n",
    "                                                      \"Value 1\",\"Value 2\",\"Value 3\",\"Value 4\",\"Value 5\",\"Value 6\",\n",
    "                                                      \"Value 7\",\"Value 8\"]]\n",
    "    raw_data_14 = raw_data_14.rename(columns={\"Local Number\":\"datatype\", \"Value 1\": \"time\", \"Value 2\": \"dist\",\"Value 3\": \"alt\",\n",
    "                                        \"Value 4\": \"quid\", \"Value 5\": \"bpm\", \"Value 6\": \"cad\", \"Value 7\": \"frac\",\n",
    "                                        \"Value 8\" :\"alti_corr\"})\n",
    "    raw_data_14[\"lat\"]=\"\"\n",
    "    raw_data_14[\"lon\"]=\"\"\n",
    "    raw_data_14[\"spd\"]=\"\"\n",
    "    raw_data_14[\"spd_corr\"]=\"\"\n",
    "    df=raw_data_12.append(raw_data_14)\n",
    "    df = df.set_index(\"time\")\n",
    "    df[\"lat\"] = df.lat.apply(convert_coordinate)\n",
    "    df[\"lon\"] = df.lon.apply(convert_coordinate)\n",
    "    df.to_csv(output_csv + filename)\n",
    "    c+=1"
   ]
  },
  {
   "cell_type": "code",
   "execution_count": null,
   "id": "6fa23d83",
   "metadata": {},
   "outputs": [],
   "source": []
  }
 ],
 "metadata": {
  "kernelspec": {
   "display_name": "Python 3 (ipykernel)",
   "language": "python",
   "name": "python3"
  },
  "language_info": {
   "codemirror_mode": {
    "name": "ipython",
    "version": 3
   },
   "file_extension": ".py",
   "mimetype": "text/x-python",
   "name": "python",
   "nbconvert_exporter": "python",
   "pygments_lexer": "ipython3",
   "version": "3.9.12"
  }
 },
 "nbformat": 4,
 "nbformat_minor": 5
}
