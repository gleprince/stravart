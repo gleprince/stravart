{
 "cells": [
  {
   "cell_type": "markdown",
   "metadata": {},
   "source": [
    "# Handling CSV files"
   ]
  },
  {
   "cell_type": "code",
   "execution_count": 42,
   "metadata": {},
   "outputs": [],
   "source": [
    "import simplekml\n",
    "import pandas as pd\n",
    "import math\n",
    "import re\n",
    "import os"
   ]
  },
  {
   "cell_type": "code",
   "execution_count": 43,
   "metadata": {},
   "outputs": [],
   "source": [
    "path = r\"C:\\Users\\Guilhem Leprince\\repo\"\n",
    "csv_directory = path + r\"\\data\\processed_data\\manue\\csv\"\n",
    "kml_directory = path + r\"\\data\\processed_data\\manue\\kml\""
   ]
  },
  {
   "cell_type": "code",
   "execution_count": 44,
   "metadata": {},
   "outputs": [
    {
     "name": "stdout",
     "output_type": "stream",
     "text": [
      "A total of 190 csv files found\n"
     ]
    }
   ],
   "source": [
    "CSV_FILE = re.compile(\"\\\\d+.csv\")\n",
    "\n",
    "list_of_csv_files = []\n",
    "\n",
    "\n",
    "for filename in os.listdir(csv_directory):\n",
    "    f = os.path.join(csv_directory, filename)\n",
    "    if os.path.isfile(f) and CSV_FILE.match(filename):\n",
    "        list_of_csv_files.append(f)\n",
    "\n",
    "print(\"A total of \" + str(len(list_of_csv_files)) + \" csv files found\")"
   ]
  },
  {
   "cell_type": "code",
   "execution_count": 45,
   "metadata": {},
   "outputs": [],
   "source": [
    "list_of_coor = []"
   ]
  },
  {
   "cell_type": "code",
   "execution_count": 46,
   "metadata": {},
   "outputs": [
    {
     "name": "stdout",
     "output_type": "stream",
     "text": [
      "Processing 2062380536.csv\n",
      "Processing 2071986615.csv\n",
      "Processing 2083959364.csv\n",
      "Processing 2095695676.csv\n",
      "Processing 2099314939.csv\n",
      "Processing 2106979809.csv\n",
      "Processing 2110703651.csv\n",
      "Processing 2113573762.csv\n",
      "Processing 2163025334.csv\n",
      "Processing 2166025078.csv\n",
      "Processing 2194127721.csv\n",
      "Processing 2197623650.csv\n",
      "Processing 2206037630.csv\n",
      "Processing 2212579279.csv\n",
      "Processing 2229280510.csv\n",
      "Processing 2270227900.csv\n",
      "Processing 2279375143.csv\n",
      "Processing 2286012912.csv\n",
      "Processing 2303797667.csv\n",
      "Processing 2314574377.csv\n",
      "Processing 2317179433.csv\n",
      "Processing 2327122396.csv\n",
      "Processing 2329459962.csv\n",
      "Processing 2337316605.csv\n",
      "Processing 2359814819.csv\n",
      "Processing 2361882201.csv\n",
      "Processing 2406641927.csv\n",
      "Processing 2447538558.csv\n",
      "Processing 2483067882.csv\n",
      "Processing 2494214145.csv\n",
      "Processing 2522621115.csv\n",
      "Processing 2562305295.csv\n",
      "Processing 2565937290.csv\n",
      "Processing 2626664300.csv\n",
      "Processing 2626664682.csv\n",
      "Processing 2628814973.csv\n",
      "Processing 2665044124.csv\n",
      "Processing 2685262275.csv\n",
      "Processing 2739373400.csv\n",
      "Processing 2751174022.csv\n",
      "Processing 2783777433.csv\n",
      "Processing 2838485516.csv\n",
      "Processing 2850983650.csv\n",
      "Processing 2855359158.csv\n",
      "Processing 2865338398.csv\n",
      "Processing 2873671990.csv\n",
      "Processing 2873691136.csv\n",
      "Processing 2897861279.csv\n",
      "Processing 2911789114.csv\n",
      "Processing 2916989744.csv\n",
      "Processing 2952812776.csv\n",
      "Processing 2962918969.csv\n",
      "Processing 2982685294.csv\n",
      "Processing 3000580796.csv\n",
      "Processing 3003112259.csv\n",
      "Processing 3028747576.csv\n",
      "Processing 3030259431.csv\n",
      "Processing 3155428583.csv\n",
      "Processing 3181588465.csv\n",
      "Processing 3217179019.csv\n",
      "Processing 3316847909.csv\n",
      "Processing 3329257771.csv\n",
      "Processing 3342700664.csv\n",
      "Processing 3357245551.csv\n",
      "Processing 3360477949.csv\n",
      "Processing 3709136195.csv\n",
      "Processing 3743757395.csv\n",
      "Processing 3760891446.csv\n",
      "Processing 3880368083.csv\n",
      "Processing 3902414557.csv\n",
      "Processing 3923803257.csv\n",
      "Processing 3952973052.csv\n",
      "Processing 4017409468.csv\n",
      "Processing 4017411041.csv\n",
      "Processing 4058018749.csv\n",
      "Processing 4062636638.csv\n",
      "Processing 4155338376.csv\n",
      "Processing 4166854634.csv\n",
      "Processing 4186875922.csv\n",
      "Processing 4192434497.csv\n",
      "Processing 4340274776.csv\n",
      "Processing 4360082076.csv\n",
      "Processing 4390065639.csv\n",
      "Processing 4441825474.csv\n",
      "Processing 4621535629.csv\n",
      "Processing 4642146498.csv\n",
      "Processing 4711860853.csv\n",
      "Processing 4743292149.csv\n",
      "Processing 4774442451.csv\n",
      "Processing 4794939179.csv\n",
      "Processing 4799247411.csv\n",
      "Processing 4808607160.csv\n",
      "Processing 4816623206.csv\n",
      "Processing 4952735821.csv\n",
      "Processing 5065675859.csv\n",
      "Processing 5071258745.csv\n",
      "Processing 5101820472.csv\n",
      "Processing 5207667221.csv\n",
      "Processing 5221073446.csv\n",
      "Processing 5245093323.csv\n",
      "Processing 5317647889.csv\n",
      "Processing 5358336304.csv\n",
      "Processing 5433854356.csv\n",
      "Processing 5504544190.csv\n",
      "Processing 5535117679.csv\n",
      "Processing 5546942652.csv\n",
      "Processing 5582172482.csv\n",
      "Processing 5641615254.csv\n",
      "Processing 5652965500.csv\n",
      "Processing 5664906679.csv\n",
      "Processing 5686461077.csv\n",
      "Processing 5989878023.csv\n",
      "Processing 6017325857.csv\n",
      "Processing 6113686746.csv\n",
      "Processing 6113690537.csv\n",
      "Processing 6113695011.csv\n",
      "Processing 6113698348.csv\n",
      "Processing 6113701116.csv\n",
      "Processing 6131307284.csv\n",
      "Processing 6146928836.csv\n",
      "Processing 6158649376.csv\n",
      "Processing 6213479373.csv\n",
      "Processing 6239071638.csv\n",
      "Processing 6244571794.csv\n",
      "Processing 6275420152.csv\n",
      "Processing 6317661756.csv\n",
      "Processing 6388116607.csv\n",
      "Processing 6475634566.csv\n",
      "Processing 6475642256.csv\n",
      "Processing 6477235124.csv\n",
      "Processing 6519307121.csv\n",
      "Processing 6548057655.csv\n",
      "Processing 6548058868.csv\n",
      "Processing 6548064098.csv\n",
      "Processing 6710708758.csv\n",
      "Processing 6714970002.csv\n",
      "Processing 6840979007.csv\n",
      "Processing 6844564087.csv\n",
      "Processing 6854689567.csv\n",
      "Processing 6859222904.csv\n",
      "Processing 6871607822.csv\n",
      "Processing 6871611712.csv\n",
      "Processing 6876266094.csv\n",
      "Processing 6887330915.csv\n",
      "Processing 6949112450.csv\n",
      "Processing 6985963227.csv\n",
      "Processing 6985971499.csv\n",
      "Processing 7025408088.csv\n",
      "Processing 7025415303.csv\n",
      "Processing 7131080219.csv\n",
      "Processing 7138398259.csv\n",
      "Processing 7160636675.csv\n",
      "Processing 7160638740.csv\n",
      "Processing 7163593692.csv\n",
      "Processing 7186938223.csv\n",
      "Processing 7195795886.csv\n",
      "Processing 7195796648.csv\n",
      "Processing 7200979338.csv\n",
      "Processing 7247834787.csv\n",
      "Processing 7253651574.csv\n",
      "Processing 7292148075.csv\n",
      "Processing 7333000445.csv\n",
      "Processing 7333009606.csv\n",
      "Processing 7400973789.csv\n",
      "Processing 7407014226.csv\n",
      "Processing 7417741586.csv\n",
      "Processing 7417745407.csv\n",
      "Processing 7429005937.csv\n",
      "Processing 7434805642.csv\n",
      "Processing 7441803893.csv\n",
      "Processing 7450869560.csv\n",
      "Processing 7514769276.csv\n",
      "Processing 7527194982.csv\n",
      "Processing 7527205241.csv\n",
      "Processing 7732339889.csv\n",
      "Processing 7732346270.csv\n",
      "Processing 7732350331.csv\n",
      "Processing 7772541615.csv\n",
      "Processing 7813262703.csv\n",
      "Processing 7847968377.csv\n",
      "Processing 8072345583.csv\n",
      "Processing 8099882045.csv\n",
      "Processing 8109700897.csv\n",
      "Processing 8117120062.csv\n",
      "Processing 8124582354.csv\n",
      "Processing 8135241242.csv\n",
      "Processing 8147299272.csv\n",
      "Processing 8184935877.csv\n",
      "Processing 8274352012.csv\n",
      "Processing 8279264048.csv\n"
     ]
    }
   ],
   "source": [
    "for csv_file in list_of_csv_files:\n",
    "    filename = csv_file.split(\"\\\\\")[-1]\n",
    "    print(\"Processing \" + filename)\n",
    "    df=pd.read_csv(csv_file)\n",
    "    latitude = df.lat.values.tolist()\n",
    "    longitude = df.lon.values.tolist()           \n",
    "    coor=[]\n",
    "    for i in range(1,len(latitude)):\n",
    "        if ((type(latitude[i])!= str) and (type(longitude[i])!= str) and math.isnan(longitude[i])==False and math.isnan(latitude[i])==False and abs(longitude[i])>0.01):\n",
    "            coor.append([longitude[i],latitude[i]])\n",
    "    list_of_coor.append(coor)"
   ]
  },
  {
   "cell_type": "code",
   "execution_count": 47,
   "metadata": {},
   "outputs": [
    {
     "data": {
      "text/plain": [
       "190"
      ]
     },
     "execution_count": 47,
     "metadata": {},
     "output_type": "execute_result"
    }
   ],
   "source": [
    "len(list_of_coor)"
   ]
  },
  {
   "cell_type": "markdown",
   "metadata": {},
   "source": [
    "# Handling GPX files"
   ]
  },
  {
   "cell_type": "code",
   "execution_count": 48,
   "metadata": {},
   "outputs": [],
   "source": [
    "import gpxpy\n",
    "import gpxpy.gpx\n",
    "import re\n",
    "import os"
   ]
  },
  {
   "cell_type": "code",
   "execution_count": 49,
   "metadata": {},
   "outputs": [],
   "source": [
    "gpx_directory = path + r\"\\data\\manue\\activities\\\\\""
   ]
  },
  {
   "cell_type": "code",
   "execution_count": 50,
   "metadata": {},
   "outputs": [
    {
     "name": "stdout",
     "output_type": "stream",
     "text": [
      "A total of 33 gpx files found\n"
     ]
    }
   ],
   "source": [
    "GPX_FILE = re.compile(\"\\\\d+.gpx\")\n",
    "\n",
    "list_of_gpx_files = []\n",
    "\n",
    "\n",
    "for filename in os.listdir(gpx_directory):\n",
    "    f = os.path.join(gpx_directory, filename)\n",
    "    if os.path.isfile(f) and GPX_FILE.match(filename):\n",
    "        list_of_gpx_files.append(f)\n",
    "\n",
    "print(\"A total of \" + str(len(list_of_gpx_files)) + \" gpx files found\")"
   ]
  },
  {
   "cell_type": "code",
   "execution_count": 51,
   "metadata": {},
   "outputs": [
    {
     "name": "stdout",
     "output_type": "stream",
     "text": [
      "Processing 1738100309.gpx\n",
      "Processing 1774795118.gpx\n",
      "Processing 1788317817.gpx\n",
      "Processing 1823751651.gpx\n",
      "Processing 1830955902.gpx\n",
      "Processing 1834996484.gpx\n",
      "Processing 1837434063.gpx\n",
      "Processing 1839348501.gpx\n",
      "Processing 1842369662.gpx\n",
      "Processing 1850521029.gpx\n",
      "Processing 1852810281.gpx\n",
      "Processing 1859970923.gpx\n",
      "Processing 1863326029.gpx\n",
      "Processing 1865282425.gpx\n",
      "Processing 1879928005.gpx\n",
      "Processing 1894506353.gpx\n",
      "Processing 1908758198.gpx\n",
      "Processing 1917907975.gpx\n",
      "Processing 1921114537.gpx\n",
      "Processing 1923150900.gpx\n",
      "Processing 2472353084.gpx\n",
      "Processing 2472353154.gpx\n",
      "Processing 2626820035.gpx\n",
      "Processing 3199783132.gpx\n",
      "Processing 3259505951.gpx\n",
      "Processing 3272033518.gpx\n",
      "Processing 3294463080.gpx\n",
      "Processing 3308265357.gpx\n",
      "Processing 3332173956.gpx\n",
      "Processing 3352166615.gpx\n",
      "Processing 3367111412.gpx\n",
      "Processing 3386822038.gpx\n",
      "Processing 3408946610.gpx\n"
     ]
    }
   ],
   "source": [
    "for gpx_file in list_of_gpx_files:\n",
    "    filename = gpx_file.split(\"\\\\\")[-1]\n",
    "    print(\"Processing \" + filename)\n",
    "    \n",
    "    gpx_file = open( gpx_directory + filename, 'r', encoding=\"utf8\")\n",
    "    gpx = gpxpy.parse(gpx_file)\n",
    "\n",
    "    coor_gpx =[]\n",
    "    for track in gpx.tracks:\n",
    "        for segment in track.segments:\n",
    "            for point in segment.points:\n",
    "                coor_gpx.append([point.longitude,point.latitude])\n",
    "    list_of_coor.append(coor_gpx)   "
   ]
  },
  {
   "cell_type": "code",
   "execution_count": 52,
   "metadata": {},
   "outputs": [
    {
     "name": "stdout",
     "output_type": "stream",
     "text": [
      "223\n"
     ]
    }
   ],
   "source": [
    "print(len(list_of_coor))"
   ]
  },
  {
   "cell_type": "markdown",
   "metadata": {},
   "source": [
    "# Handling Metadata"
   ]
  },
  {
   "cell_type": "code",
   "execution_count": 83,
   "metadata": {},
   "outputs": [],
   "source": [
    "metadata_path = r\"C:\\Users\\Guilhem Leprince\\repo\\data\\manue\""
   ]
  },
  {
   "cell_type": "code",
   "execution_count": 84,
   "metadata": {},
   "outputs": [],
   "source": [
    "df=pd.read_csv(metadata_path + \"\\\\activities.csv\")\n",
    "\n",
    "# renaming columns in french or english\n",
    "df=df.rename(columns={\"ID de l'activité\":\"ID\", \"Date de l'activité\":\"date\", \"Nom de l'activité\":\"name\",\n",
    "                      \"Type d'activité\":\"type\", \"Temps écoulé\":\"duration\", \"Distance\":\"dist\", \"Nom du fichier\":\"filename\",\n",
    "                      \"Poids de l'athlète\":\"weight\", \"Temps écoulé.1\":\"duration_1\", \"Durée de déplacement\":\"duration_mvt\",\n",
    "                      \"Distance.1\":\"dist_1\", \"Vitesse max.\":\"max_spd\",\"Dénivelé positif\":\"d_plus\", \"Altitude min.\":\"alti_min\",\n",
    "                      \"Altitude max.\":\"alti_max\", \"Pente max.\":\"max_slope\", \"Pente moyenne\":\"avg_slope\", \"Calories\":\"calories\"})\n",
    "df=df.rename(columns={\"Activity ID\":\"ID\", \"Activity Date\":\"date\", \"Activity Name\":\"name\",\n",
    "                      \"Activity Type\":\"type\", \"Elapsed Time\":\"duration\", \"Distance\":\"dist\", \"Filename\":\"filename\",\n",
    "                      \"Athlete Weight\":\"weight\", \"Elapsed Time.1\":\"duration_1\", \"Moving Time\":\"duration_mvt\",\n",
    "                      \"Distance.1\":\"dist_1\", \"Max Speed\":\"max_spd\",\"Elevation Gain\":\"d_plus\", \"Elevation Low\":\"alti_min\",\n",
    "                      \"Elevation High\":\"alti_max\", \"Max Grade\":\"max_slope\", \"Average Grade\":\"avg_slope\", \"Calories\":\"calories\"})\n",
    "\n",
    "\n",
    "# filtering columns\n",
    "df=df[[\"ID\", \"date\", \"name\", \"type\", \"duration\", \"dist\",\n",
    "       \"filename\", \"weight\", \"duration_1\", \"duration_mvt\", \"dist_1\", \"max_spd\",\n",
    "       \"d_plus\", \"alti_min\", \"alti_max\", \"max_slope\", \"avg_slope\", \"calories\"]]\n"
   ]
  },
  {
   "cell_type": "code",
   "execution_count": 85,
   "metadata": {},
   "outputs": [],
   "source": [
    "df.set_index(\"ID\")\n",
    "list_of_filename = df.filename.values.tolist()\n",
    "corrected_filename=[]\n",
    "for i in list_of_filename:\n",
    "    if type(i)==str and i.__contains__(\"/\"):\n",
    "        corrected_filename.append(i.split(\"/\")[1])\n",
    "    else:\n",
    "        corrected_filename.append(\"\")\n",
    "df.filename= corrected_filename"
   ]
  },
  {
   "cell_type": "code",
   "execution_count": 86,
   "metadata": {},
   "outputs": [],
   "source": [
    "# Configuration .yaml?\n",
    "activity_nb = {\n",
    "    \"Randonnée\" : 1,\n",
    "    \"Hike\" : 1,\n",
    "    \"Course à pied\" : 2,\n",
    "    \"Run\" : 2,\n",
    "    \"Ski de randonnée\" : 3,\n",
    "    \"Ski alpin\" : 4,\n",
    "    \"Alpine Ski\" : 4,\n",
    "    \"Escalade\" : 5,\n",
    "    \"Ride\" : 6,\n",
    "    \"Walk\" : 7,\n",
    "    \"Stand Up Paddling\" : 8,\n",
    "    \"Rowing\" : 9,\n",
    "    \"Virtual Ride\" : 10}\n",
    "\n",
    "df=df.replace({\"type\":activity_nb})"
   ]
  },
  {
   "cell_type": "code",
   "execution_count": 87,
   "metadata": {},
   "outputs": [
    {
     "data": {
      "text/html": [
       "<div>\n",
       "<style scoped>\n",
       "    .dataframe tbody tr th:only-of-type {\n",
       "        vertical-align: middle;\n",
       "    }\n",
       "\n",
       "    .dataframe tbody tr th {\n",
       "        vertical-align: top;\n",
       "    }\n",
       "\n",
       "    .dataframe thead th {\n",
       "        text-align: right;\n",
       "    }\n",
       "</style>\n",
       "<table border=\"1\" class=\"dataframe\">\n",
       "  <thead>\n",
       "    <tr style=\"text-align: right;\">\n",
       "      <th></th>\n",
       "      <th>ID</th>\n",
       "      <th>date</th>\n",
       "      <th>name</th>\n",
       "      <th>type</th>\n",
       "      <th>duration</th>\n",
       "      <th>dist</th>\n",
       "      <th>filename</th>\n",
       "      <th>weight</th>\n",
       "      <th>duration_1</th>\n",
       "      <th>duration_mvt</th>\n",
       "      <th>dist_1</th>\n",
       "      <th>max_spd</th>\n",
       "      <th>d_plus</th>\n",
       "      <th>alti_min</th>\n",
       "      <th>alti_max</th>\n",
       "      <th>max_slope</th>\n",
       "      <th>avg_slope</th>\n",
       "      <th>calories</th>\n",
       "    </tr>\n",
       "  </thead>\n",
       "  <tbody>\n",
       "    <tr>\n",
       "      <th>0</th>\n",
       "      <td>1738100309</td>\n",
       "      <td>30 juil. 2018 à 12:31:22</td>\n",
       "      <td>Évacuation des toxines ☀️🕶</td>\n",
       "      <td>1</td>\n",
       "      <td>13595</td>\n",
       "      <td>8,86</td>\n",
       "      <td>1738100309.gpx</td>\n",
       "      <td>52.0</td>\n",
       "      <td>13595.0</td>\n",
       "      <td>7829.0</td>\n",
       "      <td>8863.700195</td>\n",
       "      <td>2.9</td>\n",
       "      <td>438.732666</td>\n",
       "      <td>-4.800000</td>\n",
       "      <td>179.699997</td>\n",
       "      <td>50.000000</td>\n",
       "      <td>0.093640</td>\n",
       "      <td>566.313843</td>\n",
       "    </tr>\n",
       "    <tr>\n",
       "      <th>1</th>\n",
       "      <td>1774795118</td>\n",
       "      <td>15 août 2018 à 18:54:18</td>\n",
       "      <td>Histoire de s’y remettre... 🌅🏃‍♀️</td>\n",
       "      <td>2</td>\n",
       "      <td>4001</td>\n",
       "      <td>10,12</td>\n",
       "      <td>1774795118.gpx</td>\n",
       "      <td>52.0</td>\n",
       "      <td>4001.0</td>\n",
       "      <td>3933.0</td>\n",
       "      <td>10126.700195</td>\n",
       "      <td>4.0</td>\n",
       "      <td>199.973068</td>\n",
       "      <td>-1.900000</td>\n",
       "      <td>49.299999</td>\n",
       "      <td>49.299999</td>\n",
       "      <td>0.000000</td>\n",
       "      <td>700.000122</td>\n",
       "    </tr>\n",
       "    <tr>\n",
       "      <th>2</th>\n",
       "      <td>1788317817</td>\n",
       "      <td>21 août 2018 à 18:58:36</td>\n",
       "      <td>🌅🏃‍♀️🌊</td>\n",
       "      <td>2</td>\n",
       "      <td>3164</td>\n",
       "      <td>7,12</td>\n",
       "      <td>1788317817.gpx</td>\n",
       "      <td>52.0</td>\n",
       "      <td>3164.0</td>\n",
       "      <td>2763.0</td>\n",
       "      <td>7128.000000</td>\n",
       "      <td>4.2</td>\n",
       "      <td>132.118851</td>\n",
       "      <td>-1.800000</td>\n",
       "      <td>49.299999</td>\n",
       "      <td>24.400000</td>\n",
       "      <td>-0.248316</td>\n",
       "      <td>483.363708</td>\n",
       "    </tr>\n",
       "    <tr>\n",
       "      <th>3</th>\n",
       "      <td>1823751651</td>\n",
       "      <td>6 sept. 2018 à 17:06:06</td>\n",
       "      <td>Run in Toulouse - reprise</td>\n",
       "      <td>2</td>\n",
       "      <td>2881</td>\n",
       "      <td>8,34</td>\n",
       "      <td>1823751651.gpx</td>\n",
       "      <td>52.0</td>\n",
       "      <td>2881.0</td>\n",
       "      <td>2762.0</td>\n",
       "      <td>8341.900391</td>\n",
       "      <td>5.2</td>\n",
       "      <td>108.345497</td>\n",
       "      <td>128.100006</td>\n",
       "      <td>165.000000</td>\n",
       "      <td>27.500000</td>\n",
       "      <td>0.001199</td>\n",
       "      <td>562.569824</td>\n",
       "    </tr>\n",
       "    <tr>\n",
       "      <th>4</th>\n",
       "      <td>1830955902</td>\n",
       "      <td>9 sept. 2018 à 18:01:50</td>\n",
       "      <td>Post-soirée ✌🏼</td>\n",
       "      <td>2</td>\n",
       "      <td>3184</td>\n",
       "      <td>7,86</td>\n",
       "      <td>1830955902.gpx</td>\n",
       "      <td>52.0</td>\n",
       "      <td>3184.0</td>\n",
       "      <td>3113.0</td>\n",
       "      <td>7863.200195</td>\n",
       "      <td>4.8</td>\n",
       "      <td>101.039322</td>\n",
       "      <td>129.000000</td>\n",
       "      <td>187.800003</td>\n",
       "      <td>41.099998</td>\n",
       "      <td>0.188219</td>\n",
       "      <td>534.783447</td>\n",
       "    </tr>\n",
       "  </tbody>\n",
       "</table>\n",
       "</div>"
      ],
      "text/plain": [
       "           ID                      date                               name  \\\n",
       "0  1738100309  30 juil. 2018 à 12:31:22         Évacuation des toxines ☀️🕶   \n",
       "1  1774795118   15 août 2018 à 18:54:18  Histoire de s’y remettre... 🌅🏃‍♀️   \n",
       "2  1788317817   21 août 2018 à 18:58:36                             🌅🏃‍♀️🌊   \n",
       "3  1823751651   6 sept. 2018 à 17:06:06         Run in Toulouse - reprise    \n",
       "4  1830955902   9 sept. 2018 à 18:01:50                     Post-soirée ✌🏼   \n",
       "\n",
       "  type  duration   dist        filename  weight  duration_1  duration_mvt  \\\n",
       "0    1     13595   8,86  1738100309.gpx    52.0     13595.0        7829.0   \n",
       "1    2      4001  10,12  1774795118.gpx    52.0      4001.0        3933.0   \n",
       "2    2      3164   7,12  1788317817.gpx    52.0      3164.0        2763.0   \n",
       "3    2      2881   8,34  1823751651.gpx    52.0      2881.0        2762.0   \n",
       "4    2      3184   7,86  1830955902.gpx    52.0      3184.0        3113.0   \n",
       "\n",
       "         dist_1  max_spd      d_plus    alti_min    alti_max  max_slope  \\\n",
       "0   8863.700195      2.9  438.732666   -4.800000  179.699997  50.000000   \n",
       "1  10126.700195      4.0  199.973068   -1.900000   49.299999  49.299999   \n",
       "2   7128.000000      4.2  132.118851   -1.800000   49.299999  24.400000   \n",
       "3   8341.900391      5.2  108.345497  128.100006  165.000000  27.500000   \n",
       "4   7863.200195      4.8  101.039322  129.000000  187.800003  41.099998   \n",
       "\n",
       "   avg_slope    calories  \n",
       "0   0.093640  566.313843  \n",
       "1   0.000000  700.000122  \n",
       "2  -0.248316  483.363708  \n",
       "3   0.001199  562.569824  \n",
       "4   0.188219  534.783447  "
      ]
     },
     "execution_count": 87,
     "metadata": {},
     "output_type": "execute_result"
    }
   ],
   "source": [
    "df.head()"
   ]
  },
  {
   "cell_type": "markdown",
   "metadata": {},
   "source": [
    "# Writting kml file "
   ]
  },
  {
   "cell_type": "code",
   "execution_count": 101,
   "metadata": {},
   "outputs": [],
   "source": [
    "list_of_filename = []\n",
    "list_of_filename = list_of_csv_files + list_of_gpx_files"
   ]
  },
  {
   "cell_type": "code",
   "execution_count": 114,
   "metadata": {},
   "outputs": [],
   "source": [
    "i=100\n",
    "p = int(len(list_of_coor[i])/4)\n",
    "kml = simplekml.Kml()\n",
    "namefile = list_of_filename[i].split(\"\\\\\")[-1].split(\".\")[0]\n",
    "year_2018=kml.newfolder(name=\"2018\")\n",
    "\n",
    "\n",
    "ls = year_2018.newlinestring(coords=list_of_coor[i], name = namefile)  \n",
    "ls.style.linestyle.color = simplekml.Color.hex(\"ff0000\")\n",
    "ls.style.linestyle.width = 3\n",
    "ls.description = \"ukzieufhizuefiuze \\n zjehfbjzhb\\n eef\"\n",
    "pnt = year_2018.newpoint(name= namefile)\n",
    "pnt.coords = [(list_of_coor[i][p][0],list_of_coor[i][p][1])]\n",
    "pnt.style.labelstyle.scale = 0.7\n",
    "pnt.style.labelstyle.color = simplekml.Color.blue\n",
    "pnt.description = df[df.filename==namefile+\".fit.gz\"].name.values[0]\n",
    "kml.save(kml_directory + \"\\\\test_style.kml\")"
   ]
  },
  {
   "cell_type": "code",
   "execution_count": 107,
   "metadata": {},
   "outputs": [
    {
     "data": {
      "text/plain": [
       "'5317647889'"
      ]
     },
     "execution_count": 107,
     "metadata": {},
     "output_type": "execute_result"
    }
   ],
   "source": [
    "namefile"
   ]
  },
  {
   "cell_type": "code",
   "execution_count": 113,
   "metadata": {},
   "outputs": [
    {
     "data": {
      "text/plain": [
       "'Pic Prada... ah beh non '"
      ]
     },
     "execution_count": 113,
     "metadata": {},
     "output_type": "execute_result"
    }
   ],
   "source": [
    "df[df.filename==namefile+\".fit.gz\"].name.values[0]"
   ]
  },
  {
   "cell_type": "code",
   "execution_count": null,
   "metadata": {},
   "outputs": [],
   "source": []
  },
  {
   "cell_type": "code",
   "execution_count": null,
   "metadata": {},
   "outputs": [],
   "source": []
  },
  {
   "cell_type": "code",
   "execution_count": 27,
   "metadata": {},
   "outputs": [],
   "source": [
    "kml = simplekml.Kml()\n",
    "\n",
    "i=0\n",
    "for coor in list_of_coor:\n",
    "    filename = list_of_filename[i].split(\"\\\\\")[-1]\n",
    "    \n",
    "    ls = kml.newlinestring(coords=coor, name = filename)  \n",
    "    ls.style.linestyle.color = simplekml.Color.red\n",
    "    ls.style.linestyle.width = 5\n",
    "    i+=1\n",
    "\n",
    "kml.save(kml_directory + \"\\manue_tracemap.kml\")"
   ]
  },
  {
   "cell_type": "code",
   "execution_count": null,
   "metadata": {},
   "outputs": [],
   "source": []
  }
 ],
 "metadata": {
  "kernelspec": {
   "display_name": "Python 3",
   "language": "python",
   "name": "python3"
  },
  "language_info": {
   "codemirror_mode": {
    "name": "ipython",
    "version": 3
   },
   "file_extension": ".py",
   "mimetype": "text/x-python",
   "name": "python",
   "nbconvert_exporter": "python",
   "pygments_lexer": "ipython3",
   "version": "3.7.1"
  }
 },
 "nbformat": 4,
 "nbformat_minor": 5
}
