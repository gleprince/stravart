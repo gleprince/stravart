{
 "cells": [
  {
   "cell_type": "code",
   "execution_count": 1,
   "metadata": {},
   "outputs": [],
   "source": [
    "import pandas as pd"
   ]
  },
  {
   "cell_type": "code",
   "execution_count": 56,
   "metadata": {},
   "outputs": [],
   "source": [
    "path = r\"C:\\Users\\Guilhem Leprince\\repo\\data\\remi\""
   ]
  },
  {
   "cell_type": "code",
   "execution_count": 57,
   "metadata": {},
   "outputs": [],
   "source": [
    "df=pd.read_csv(path + \"\\\\activities.csv\")"
   ]
  },
  {
   "cell_type": "code",
   "execution_count": 61,
   "metadata": {},
   "outputs": [
    {
     "data": {
      "text/plain": [
       "Index(['Activity ID', 'Activity Date', 'Activity Name', 'Activity Type',\n",
       "       'Activity Description', 'Elapsed Time', 'Distance', 'Max Heart Rate',\n",
       "       'Relative Effort', 'Commute', 'Activity Gear', 'Filename',\n",
       "       'Athlete Weight', 'Bike Weight', 'Elapsed Time.1', 'Moving Time',\n",
       "       'Distance.1', 'Max Speed', 'Average Speed', 'Elevation Gain',\n",
       "       'Elevation Loss', 'Elevation Low', 'Elevation High', 'Max Grade',\n",
       "       'Average Grade', 'Average Positive Grade', 'Average Negative Grade',\n",
       "       'Max Cadence', 'Average Cadence', 'Max Heart Rate.1',\n",
       "       'Average Heart Rate', 'Max Watts', 'Average Watts', 'Calories',\n",
       "       'Max Temperature', 'Average Temperature', 'Relative Effort.1',\n",
       "       'Total Work', 'Number of Runs', 'Uphill Time', 'Downhill Time',\n",
       "       'Other Time', 'Perceived Exertion',\n",
       "       '<span class=\"translation_missing\" title=\"translation missing: en-US.lib.export.portability_exporter.activities.horton_values.type\">Type</span>',\n",
       "       '<span class=\"translation_missing\" title=\"translation missing: en-US.lib.export.portability_exporter.activities.horton_values.start_time\">Start Time</span>',\n",
       "       'Weighted Average Power', 'Power Count', 'Prefer Perceived Exertion',\n",
       "       'Perceived Relative Effort', 'Commute.1', 'Total Weight Lifted',\n",
       "       'From Upload', 'Grade Adjusted Distance', 'Weather Observation Time',\n",
       "       'Weather Condition', 'Weather Temperature', 'Apparent Temperature',\n",
       "       'Dewpoint', 'Humidity', 'Weather Pressure', 'Wind Speed', 'Wind Gust',\n",
       "       'Wind Bearing', 'Precipitation Intensity', 'Sunrise Time',\n",
       "       'Sunset Time', 'Moon Phase', 'Bike', 'Gear',\n",
       "       'Precipitation Probability', 'Precipitation Type', 'Cloud Cover',\n",
       "       'Weather Visibility', 'UV Index', 'Weather Ozone',\n",
       "       '<span class=\"translation_missing\" title=\"translation missing: en-US.lib.export.portability_exporter.activities.horton_values.jump_count\">Jump Count</span>',\n",
       "       '<span class=\"translation_missing\" title=\"translation missing: en-US.lib.export.portability_exporter.activities.horton_values.total_grit\">Total Grit</span>',\n",
       "       '<span class=\"translation_missing\" title=\"translation missing: en-US.lib.export.portability_exporter.activities.horton_values.avg_flow\">Avg Flow</span>',\n",
       "       '<span class=\"translation_missing\" title=\"translation missing: en-US.lib.export.portability_exporter.activities.horton_values.flagged\">Flagged</span>',\n",
       "       '<span class=\"translation_missing\" title=\"translation missing: en-US.lib.export.portability_exporter.activities.horton_values.avg_elapsed_speed\">Avg Elapsed Speed</span>',\n",
       "       '<span class=\"translation_missing\" title=\"translation missing: en-US.lib.export.portability_exporter.activities.horton_values.dirt_distance\">Dirt Distance</span>',\n",
       "       '<span class=\"translation_missing\" title=\"translation missing: en-US.lib.export.portability_exporter.activities.horton_values.newly_explored_distance\">Newly Explored Distance</span>',\n",
       "       '<span class=\"translation_missing\" title=\"translation missing: en-US.lib.export.portability_exporter.activities.horton_values.newly_explored_dirt_distance\">Newly Explored Dirt Distance</span>',\n",
       "       '<span class=\"translation_missing\" title=\"translation missing: en-US.lib.export.portability_exporter.activities.horton_values.sport_type\">Sport Type</span>'],\n",
       "      dtype='object')"
      ]
     },
     "execution_count": 61,
     "metadata": {},
     "output_type": "execute_result"
    }
   ],
   "source": [
    "df.columns"
   ]
  },
  {
   "cell_type": "code",
   "execution_count": 62,
   "metadata": {},
   "outputs": [],
   "source": [
    "df=df.rename(columns={\"Activity ID\":\"ID\", \"Activity Date\":\"date\", \"Activity Name\":\"name\",\n",
    "                      \"Activity Type\":\"type\", \"Elapsed Time\":\"duration\", \"Distance\":\"dist\", \"Filename\":\"filename\",\n",
    "                      \"Athlete Weight\":\"weight\", \"Elapsed Time.1\":\"duration_1\", \"Moving Time\":\"duration_mvt\",\n",
    "                      \"Distance.1\":\"dist_1\", \"Max Speed\":\"max_spd\",\"Elevation Gain\":\"d_plus\", \"Elevation Low\":\"alti_min\",\n",
    "                      \"Elevation High\":\"alti_max\", \"Max Grade\":\"max_slope\", \"Average Grade\":\"avg_slope\", \"Calories\":\"calories\"})\n"
   ]
  },
  {
   "cell_type": "code",
   "execution_count": 24,
   "metadata": {},
   "outputs": [],
   "source": [
    "df=df[[\"ID de l'activité\", \"Date de l'activité\", \"Nom de l'activité\", \"Type d'activité\", \"Temps écoulé\", \"Distance\",\n",
    "       \"Nom du fichier\", \"Poids de l'athlète\", \"Temps écoulé.1\", \"Durée de déplacement\", \"Distance.1\", \"Vitesse max.\",\n",
    "       \"Dénivelé positif\", \"Altitude min.\", \"Altitude max.\", \"Pente max.\", \"Pente moyenne\", \"Calories\"]]"
   ]
  },
  {
   "cell_type": "code",
   "execution_count": 43,
   "metadata": {},
   "outputs": [],
   "source": [
    "df.set_index(\"ID\")\n",
    "list_of_filename = df.filename.values.tolist()\n",
    "corrected_filename=[]\n",
    "for i in list_of_filename:\n",
    "    if type(i)==str and i.__contains__(\"/\"):\n",
    "        corrected_filename.append(i.split(\"/\")[1])\n",
    "    else:\n",
    "        corrected_filename.append(\"\")\n",
    "df.filename= corrected_filename"
   ]
  },
  {
   "cell_type": "code",
   "execution_count": 53,
   "metadata": {},
   "outputs": [],
   "source": [
    "activity_nb = {\n",
    "    \"Randonnée\" : 1,\n",
    "    \"Hike\" : 1,\n",
    "    \"Course à pied\" : 2,\n",
    "    \"Run\" : 2,\n",
    "    \"Ski de randonnée\" : 3,\n",
    "    \"Ski alpin\" : 4,\n",
    "    \"Alpine Ski\" : 4,\n",
    "    \"Escalade\" : 5,\n",
    "    \"Ride\" : 6,\n",
    "    \"Walk\" : 7,\n",
    "    \"Stand Up Paddling\" : 8,\n",
    "    \"Rowing\" : 9,\n",
    "    \"Virtual Ride\" : 10}"
   ]
  },
  {
   "cell_type": "code",
   "execution_count": 63,
   "metadata": {},
   "outputs": [],
   "source": [
    "df=df.replace({\"type\":activity_nb})"
   ]
  },
  {
   "cell_type": "code",
   "execution_count": 48,
   "metadata": {},
   "outputs": [
    {
     "data": {
      "text/plain": [
       "count               265\n",
       "unique                6\n",
       "top       Course à pied\n",
       "freq                166\n",
       "Name: type, dtype: object"
      ]
     },
     "execution_count": 48,
     "metadata": {},
     "output_type": "execute_result"
    }
   ],
   "source": []
  },
  {
   "cell_type": "code",
   "execution_count": null,
   "metadata": {},
   "outputs": [],
   "source": []
  }
 ],
 "metadata": {
  "kernelspec": {
   "display_name": "Python 3",
   "language": "python",
   "name": "python3"
  },
  "language_info": {
   "codemirror_mode": {
    "name": "ipython",
    "version": 3
   },
   "file_extension": ".py",
   "mimetype": "text/x-python",
   "name": "python",
   "nbconvert_exporter": "python",
   "pygments_lexer": "ipython3",
   "version": "3.7.1"
  }
 },
 "nbformat": 4,
 "nbformat_minor": 2
}
