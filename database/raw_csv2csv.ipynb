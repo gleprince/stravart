{
 "cells": [
  {
   "cell_type": "markdown",
   "id": "42a5116f",
   "metadata": {},
   "source": [
    "# From raw CSV to CSV process"
   ]
  },
  {
   "cell_type": "code",
   "execution_count": 18,
   "id": "92d4e430",
   "metadata": {},
   "outputs": [],
   "source": [
    "import re\n",
    "import os\n",
    "import pandas as pd"
   ]
  },
  {
   "cell_type": "code",
   "execution_count": 19,
   "id": "5a8aa523",
   "metadata": {},
   "outputs": [],
   "source": [
    "path_2 = r\"C:\\Users\\Guilhem Leprince\\repo\"\n",
    "path = r\"C:\\Users\\guilhem.leprince\\Documents\\strava\"\n",
    "directory = path + r\"\\data\\gab\\activities\"\n",
    "output_csv = path + r\"\\data\\processed_data\\gab\\csv\\\\\""
   ]
  },
  {
   "cell_type": "code",
   "execution_count": 20,
   "id": "72c0cd47",
   "metadata": {},
   "outputs": [
    {
     "name": "stdout",
     "output_type": "stream",
     "text": [
      "A total of 279 csv files found\n"
     ]
    }
   ],
   "source": [
    "CSV_FILE = re.compile(\"\\\\d+.csv\")\n",
    "\n",
    "list_of_raw_csv_files = []\n",
    "\n",
    "\n",
    "for filename in os.listdir(directory):\n",
    "    f = os.path.join(directory, filename)\n",
    "    if os.path.isfile(f) and CSV_FILE.match(filename):\n",
    "        list_of_raw_csv_files.append(f)\n",
    "\n",
    "print(\"A total of \" + str(len(list_of_raw_csv_files)) + \" csv files found\")\n"
   ]
  },
  {
   "cell_type": "code",
   "execution_count": 21,
   "id": "c46b8133",
   "metadata": {},
   "outputs": [
    {
     "name": "stdout",
     "output_type": "stream",
     "text": [
      "Processing 2362511257.csv\n",
      "Processing 2616598250.csv\n",
      "Processing 2623093060.csv\n",
      "Processing 2623093544.csv\n",
      "Processing 2623093769.csv\n",
      "Processing 2636543769.csv\n",
      "Processing 2636732398.csv\n",
      "Processing 3273963261.csv\n",
      "Processing 3273964321.csv\n",
      "Processing 3776800151.csv\n"
     ]
    },
    {
     "name": "stderr",
     "output_type": "stream",
     "text": [
      "C:\\Users\\guilhem.leprince\\Anaconda3\\lib\\site-packages\\IPython\\core\\interactiveshell.py:3106: DtypeWarning: Columns (4,22,40,47,83,86,89,104,107,231,234,237,240,243,246) have mixed types.Specify dtype option on import or set low_memory=False.\n",
      "  has_raised = await self.run_ast_nodes(code_ast.body, cell_name,\n",
      "C:\\Users\\guilhem.leprince\\Anaconda3\\lib\\site-packages\\IPython\\core\\interactiveshell.py:3106: DtypeWarning: Columns (4,22,40,47,83,86,89,104,107,231,234,237,240,243,246) have mixed types.Specify dtype option on import or set low_memory=False.\n",
      "  has_raised = await self.run_ast_nodes(code_ast.body, cell_name,\n"
     ]
    },
    {
     "name": "stdout",
     "output_type": "stream",
     "text": [
      "Processing 3786869228.csv\n",
      "Processing 3810459266.csv\n",
      "Processing 3813529714.csv\n"
     ]
    },
    {
     "name": "stderr",
     "output_type": "stream",
     "text": [
      "C:\\Users\\guilhem.leprince\\Anaconda3\\lib\\site-packages\\IPython\\core\\interactiveshell.py:3106: DtypeWarning: Columns (4,7,16,22,23,26,40,45,47,48,50,51,53,54,56,57,59,60,62,63,66,69,71,72,74,75,77,78,80,81,83,84,86,87,89,90,92,93,95,96,98,99,101,102,104,105,107,108,111,114,117,120,123,126,129,132,135,138,141,144,147,150,153,156,159,162,165,168,171,174,177,180,183,186,189,192,195,198,201,204,207,210,213,216,219,222,225,228,231,234,237,240,243,246) have mixed types.Specify dtype option on import or set low_memory=False.\n",
      "  has_raised = await self.run_ast_nodes(code_ast.body, cell_name,\n"
     ]
    },
    {
     "name": "stdout",
     "output_type": "stream",
     "text": [
      "Processing 3860288016.csv\n"
     ]
    },
    {
     "name": "stderr",
     "output_type": "stream",
     "text": [
      "C:\\Users\\guilhem.leprince\\Anaconda3\\lib\\site-packages\\IPython\\core\\interactiveshell.py:3106: DtypeWarning: Columns (4,22,23,39,40,42,45,47,48,50,51,53,54,56,57,59,60,62,63,66,69,71,72,74,75,78,80,81,83,84,86,87,89,90,92,93,95,96,98,99,102,105,108,111,114,117,120,123,126,129,132,135,138,141,144,147,150,153,156,159,162,165,168,171,174,177,180,183,186,189,192,195,198,201,204,207,210,213,216,219,222,225,228,231,234,237,240,243,246) have mixed types.Specify dtype option on import or set low_memory=False.\n",
      "  has_raised = await self.run_ast_nodes(code_ast.body, cell_name,\n"
     ]
    },
    {
     "name": "stdout",
     "output_type": "stream",
     "text": [
      "Processing 4777737896.csv\n",
      "Processing 4850653013.csv\n",
      "Processing 4854615033.csv\n"
     ]
    },
    {
     "name": "stderr",
     "output_type": "stream",
     "text": [
      "C:\\Users\\guilhem.leprince\\Anaconda3\\lib\\site-packages\\IPython\\core\\interactiveshell.py:3106: DtypeWarning: Columns (4,22,40,47,83,86,89,104,107,231,234,237,240,243,246) have mixed types.Specify dtype option on import or set low_memory=False.\n",
      "  has_raised = await self.run_ast_nodes(code_ast.body, cell_name,\n",
      "C:\\Users\\guilhem.leprince\\Anaconda3\\lib\\site-packages\\IPython\\core\\interactiveshell.py:3106: DtypeWarning: Columns (4,10,22,40,47,83,86,89,104,107,110,113,234,237,240,243,246,249,252) have mixed types.Specify dtype option on import or set low_memory=False.\n",
      "  has_raised = await self.run_ast_nodes(code_ast.body, cell_name,\n"
     ]
    },
    {
     "name": "stdout",
     "output_type": "stream",
     "text": [
      "Processing 4860060575.csv\n",
      "Processing 4873354693.csv\n",
      "Processing 4900590631.csv\n",
      "Processing 4912778213.csv\n",
      "Processing 4941706916.csv\n"
     ]
    },
    {
     "name": "stderr",
     "output_type": "stream",
     "text": [
      "C:\\Users\\guilhem.leprince\\Anaconda3\\lib\\site-packages\\IPython\\core\\interactiveshell.py:3106: DtypeWarning: Columns (4,7,10,16,22,40,47,50,56,59,62,71,74,77,80,83,86,89,92,95,98,101,104,107,110,113,153,156,159,162,165,168,171,174,177,180,183,186,189,192,195,198,201,204,207,210,213,216,219,222,225,228,231,234,237,240,243,246,249,252) have mixed types.Specify dtype option on import or set low_memory=False.\n",
      "  has_raised = await self.run_ast_nodes(code_ast.body, cell_name,\n",
      "C:\\Users\\guilhem.leprince\\Anaconda3\\lib\\site-packages\\IPython\\core\\interactiveshell.py:3106: DtypeWarning: Columns (4,10,22,40,47,83,86,89,104,107,110,113,234,237,240,243,246,249,252) have mixed types.Specify dtype option on import or set low_memory=False.\n",
      "  has_raised = await self.run_ast_nodes(code_ast.body, cell_name,\n"
     ]
    },
    {
     "name": "stdout",
     "output_type": "stream",
     "text": [
      "Processing 4945073030.csv\n",
      "Processing 4962867565.csv\n",
      "Processing 4967165411.csv\n",
      "Processing 4977939800.csv\n",
      "Processing 4989209048.csv\n",
      "Processing 4989212212.csv\n",
      "Processing 4989212861.csv\n",
      "Processing 4992300315.csv\n",
      "Processing 4999846959.csv\n",
      "Processing 5007744394.csv\n",
      "Processing 5030246146.csv\n",
      "Processing 5042215621.csv\n",
      "Processing 5063890368.csv\n",
      "Processing 5063890762.csv\n",
      "Processing 5071180071.csv\n",
      "Processing 5087771005.csv\n",
      "Processing 5105216212.csv\n",
      "Processing 5105217267.csv\n"
     ]
    },
    {
     "name": "stderr",
     "output_type": "stream",
     "text": [
      "C:\\Users\\guilhem.leprince\\Anaconda3\\lib\\site-packages\\IPython\\core\\interactiveshell.py:3106: DtypeWarning: Columns (4,10,22,40,47,83,86,89,104,107,110,113,234,237,240,243,246,249,252) have mixed types.Specify dtype option on import or set low_memory=False.\n",
      "  has_raised = await self.run_ast_nodes(code_ast.body, cell_name,\n",
      "C:\\Users\\guilhem.leprince\\Anaconda3\\lib\\site-packages\\IPython\\core\\interactiveshell.py:3106: DtypeWarning: Columns (4,7,10,16,22,40,47,50,56,59,62,71,74,77,80,83,86,89,92,95,98,101,104,107,110,113,153,156,159,162,165,168,171,174,177,180,183,186,189,192,195,198,201,204,207,210,213,216,219,222,225,228,231,234,237,240,243,246,249,252) have mixed types.Specify dtype option on import or set low_memory=False.\n",
      "  has_raised = await self.run_ast_nodes(code_ast.body, cell_name,\n"
     ]
    },
    {
     "name": "stdout",
     "output_type": "stream",
     "text": [
      "Processing 5107505150.csv\n",
      "Processing 5109724868.csv\n",
      "Processing 5118986679.csv\n",
      "Processing 5124488533.csv\n",
      "Processing 5139653381.csv\n",
      "Processing 5139655842.csv\n",
      "Processing 5154670515.csv\n",
      "Processing 5154675817.csv\n",
      "Processing 5166950720.csv\n",
      "Processing 5184907546.csv\n",
      "Processing 5191802080.csv\n"
     ]
    },
    {
     "name": "stderr",
     "output_type": "stream",
     "text": [
      "C:\\Users\\guilhem.leprince\\Anaconda3\\lib\\site-packages\\IPython\\core\\interactiveshell.py:3106: DtypeWarning: Columns (4,7,10,16,22,40,47,50,56,59,62,71,74,77,80,83,86,89,92,95,98,101,104,107,110,113,153,156,159,162,165,168,171,174,177,180,183,186,189,192,195,198,201,204,207,210,213,216,219,222,225,228,231,234,237,240,243,246,249,252) have mixed types.Specify dtype option on import or set low_memory=False.\n",
      "  has_raised = await self.run_ast_nodes(code_ast.body, cell_name,\n",
      "C:\\Users\\guilhem.leprince\\Anaconda3\\lib\\site-packages\\IPython\\core\\interactiveshell.py:3106: DtypeWarning: Columns (4,7,10,16,22,40,47,50,56,59,62,71,74,77,80,83,86,89,92,95,98,101,104,107,110,113,153,156,159,162,165,168,171,174,177,180,183,186,189,192,195,198,201,204,207,210,213,216,219,222,225,228,231,234,237,240,243,246,249,252) have mixed types.Specify dtype option on import or set low_memory=False.\n",
      "  has_raised = await self.run_ast_nodes(code_ast.body, cell_name,\n"
     ]
    },
    {
     "name": "stdout",
     "output_type": "stream",
     "text": [
      "Processing 5191802564.csv\n",
      "Processing 5211421498.csv\n",
      "Processing 5235753328.csv\n",
      "Processing 5252319875.csv\n",
      "Processing 5275993430.csv\n",
      "Processing 5294256350.csv\n",
      "Processing 5313771013.csv\n",
      "Processing 5333674660.csv\n",
      "Processing 5334381235.csv\n",
      "Processing 5359869004.csv\n"
     ]
    },
    {
     "name": "stderr",
     "output_type": "stream",
     "text": [
      "C:\\Users\\guilhem.leprince\\Anaconda3\\lib\\site-packages\\IPython\\core\\interactiveshell.py:3106: DtypeWarning: Columns (4,7,10,16,22,40,47,50,56,59,62,71,74,77,80,83,86,89,92,95,98,101,104,107,110,113,153,156,159,162,165,168,171,174,177,180,183,186,189,192,195,198,201,204,207,210,213,216,219,222,225,228,231,234,237,240,243,246,249,252) have mixed types.Specify dtype option on import or set low_memory=False.\n",
      "  has_raised = await self.run_ast_nodes(code_ast.body, cell_name,\n",
      "C:\\Users\\guilhem.leprince\\Anaconda3\\lib\\site-packages\\IPython\\core\\interactiveshell.py:3106: DtypeWarning: Columns (4,10,22,40,47,83,86,89,104,107,110,113,234,237,240,243,246,249,252) have mixed types.Specify dtype option on import or set low_memory=False.\n",
      "  has_raised = await self.run_ast_nodes(code_ast.body, cell_name,\n"
     ]
    },
    {
     "name": "stdout",
     "output_type": "stream",
     "text": [
      "Processing 5376601813.csv\n",
      "Processing 5391285548.csv\n",
      "Processing 5404357528.csv\n",
      "Processing 5404363495.csv\n"
     ]
    },
    {
     "name": "stderr",
     "output_type": "stream",
     "text": [
      "C:\\Users\\guilhem.leprince\\Anaconda3\\lib\\site-packages\\IPython\\core\\interactiveshell.py:3106: DtypeWarning: Columns (4,7,10,16,22,26,29,40,45,47,48,50,51,53,54,56,57,59,60,62,63,66,69,71,72,74,75,77,78,80,81,83,84,86,87,89,90,92,93,95,96,98,99,101,102,104,105,107,108,110,111,113,114,117,120,123,126,129,132,135,138,141,144,147,150,153,156,159,162,165,168,171,174,177,180,183,186,189,192,195,198,201,204,207,210,213,216,219,222,225,228,231,234,237,240,243,246,249,252) have mixed types.Specify dtype option on import or set low_memory=False.\n",
      "  has_raised = await self.run_ast_nodes(code_ast.body, cell_name,\n"
     ]
    },
    {
     "name": "stdout",
     "output_type": "stream",
     "text": [
      "Processing 5409849745.csv\n",
      "Processing 5414737296.csv\n",
      "Processing 5425443794.csv\n",
      "Processing 5426495242.csv\n",
      "Processing 5433194148.csv\n",
      "Processing 5446971776.csv\n",
      "Processing 5465387383.csv\n",
      "Processing 5479985207.csv\n",
      "Processing 5518814984.csv\n"
     ]
    },
    {
     "name": "stderr",
     "output_type": "stream",
     "text": [
      "C:\\Users\\guilhem.leprince\\Anaconda3\\lib\\site-packages\\IPython\\core\\interactiveshell.py:3106: DtypeWarning: Columns (4,10,22,40,41,47,83,98,101,104,234,237,240,243,246,249,252) have mixed types.Specify dtype option on import or set low_memory=False.\n",
      "  has_raised = await self.run_ast_nodes(code_ast.body, cell_name,\n",
      "C:\\Users\\guilhem.leprince\\Anaconda3\\lib\\site-packages\\IPython\\core\\interactiveshell.py:3106: DtypeWarning: Columns (4,10,22,40,41,47,50,56,59,62,71,74,83,86,89,92,95,98,101,104,153,156,159,162,165,168,171,174,177,180,183,186,189,192,195,198,201,204,207,210,213,216,219,222,225,228,231,234,237,240,243,246,249,252) have mixed types.Specify dtype option on import or set low_memory=False.\n",
      "  has_raised = await self.run_ast_nodes(code_ast.body, cell_name,\n"
     ]
    },
    {
     "name": "stdout",
     "output_type": "stream",
     "text": [
      "Processing 5518826221.csv\n",
      "Processing 5522816648.csv\n",
      "Processing 5532929309.csv\n",
      "Processing 5574423793.csv\n",
      "Processing 5590855540.csv\n",
      "Processing 5606870554.csv\n",
      "Processing 5613749453.csv\n",
      "Processing 5613750248.csv\n",
      "Processing 5635758615.csv\n",
      "Processing 5635763856.csv\n",
      "Processing 5639784077.csv\n",
      "Processing 5645997424.csv\n",
      "Processing 5649646597.csv\n",
      "Processing 5653176119.csv\n",
      "Processing 5699861294.csv\n",
      "Processing 5699862454.csv\n",
      "Processing 5716725907.csv\n",
      "Processing 5730648091.csv\n",
      "Processing 5734039131.csv\n",
      "Processing 5752117915.csv\n",
      "Processing 5762334537.csv\n",
      "Processing 5784590653.csv\n",
      "Processing 5794678943.csv\n",
      "Processing 5807210577.csv\n",
      "Processing 5810633141.csv\n",
      "Processing 5827599576.csv\n",
      "Processing 5835461305.csv\n",
      "Processing 5835468124.csv\n",
      "Processing 5853349458.csv\n",
      "Processing 5853350083.csv\n",
      "Processing 5853351661.csv\n",
      "Processing 5891271933.csv\n"
     ]
    },
    {
     "name": "stderr",
     "output_type": "stream",
     "text": [
      "C:\\Users\\guilhem.leprince\\Anaconda3\\lib\\site-packages\\IPython\\core\\interactiveshell.py:3106: DtypeWarning: Columns (4,10,22,40,41,47,83,98,101,104,234,237,240,243,246,249,252) have mixed types.Specify dtype option on import or set low_memory=False.\n",
      "  has_raised = await self.run_ast_nodes(code_ast.body, cell_name,\n",
      "C:\\Users\\guilhem.leprince\\Anaconda3\\lib\\site-packages\\IPython\\core\\interactiveshell.py:3106: DtypeWarning: Columns (4,10,22,40,41,47,83,98,101,104,234,237,240,243,246,249,252) have mixed types.Specify dtype option on import or set low_memory=False.\n",
      "  has_raised = await self.run_ast_nodes(code_ast.body, cell_name,\n"
     ]
    },
    {
     "name": "stdout",
     "output_type": "stream",
     "text": [
      "Processing 5893934300.csv\n",
      "Processing 5949326914.csv\n",
      "Processing 5967592896.csv\n"
     ]
    },
    {
     "name": "stderr",
     "output_type": "stream",
     "text": [
      "C:\\Users\\guilhem.leprince\\Anaconda3\\lib\\site-packages\\IPython\\core\\interactiveshell.py:3106: DtypeWarning: Columns (4,10,22,40,41,47,83,98,101,104,234,237,240,243,246,249,252) have mixed types.Specify dtype option on import or set low_memory=False.\n",
      "  has_raised = await self.run_ast_nodes(code_ast.body, cell_name,\n",
      "C:\\Users\\guilhem.leprince\\Anaconda3\\lib\\site-packages\\IPython\\core\\interactiveshell.py:3106: DtypeWarning: Columns (4,10,22,40,47,83,86,89,102,104,105,107,108,110,111,113,114,117,120,123,126,129,132,135,138,141,144,147,150,153,156,159,162,165,168,171,174,177,180,183,186,189,192,195,198,201,204,207,210,213,216,219,222,225,228,231,234,237,240,243,246,249,252) have mixed types.Specify dtype option on import or set low_memory=False.\n",
      "  has_raised = await self.run_ast_nodes(code_ast.body, cell_name,\n"
     ]
    },
    {
     "name": "stdout",
     "output_type": "stream",
     "text": [
      "Processing 6009544903.csv\n",
      "Processing 6009547686.csv\n",
      "Processing 6026116344.csv\n",
      "Processing 6043065549.csv\n",
      "Processing 6054677948.csv\n",
      "Processing 6064770480.csv\n",
      "Processing 6092115609.csv\n",
      "Processing 6124374712.csv\n",
      "Processing 6124389177.csv\n",
      "Processing 6125541956.csv\n"
     ]
    },
    {
     "name": "stderr",
     "output_type": "stream",
     "text": [
      "C:\\Users\\guilhem.leprince\\Anaconda3\\lib\\site-packages\\IPython\\core\\interactiveshell.py:3106: DtypeWarning: Columns (4,10,22,40,47,83,86,89,102,104,105,107,108,110,111,113,114,117,120,123,126,129,132,135,138,141,144,147,150,153,156,159,162,165,168,171,174,177,180,183,186,189,192,195,198,201,204,207,210,213,216,219,222,225,228,231,234,237,240,243,246,249,252) have mixed types.Specify dtype option on import or set low_memory=False.\n",
      "  has_raised = await self.run_ast_nodes(code_ast.body, cell_name,\n"
     ]
    },
    {
     "name": "stdout",
     "output_type": "stream",
     "text": [
      "Processing 6142520975.csv\n",
      "Processing 6142523895.csv\n",
      "Processing 6155293708.csv\n",
      "Processing 6157666689.csv\n",
      "Processing 6166009486.csv\n",
      "Processing 6199662144.csv\n",
      "Processing 6276994952.csv\n",
      "Processing 6366361941.csv\n"
     ]
    },
    {
     "name": "stderr",
     "output_type": "stream",
     "text": [
      "C:\\Users\\guilhem.leprince\\Anaconda3\\lib\\site-packages\\IPython\\core\\interactiveshell.py:3106: DtypeWarning: Columns (4,10,22,40,41,47,83,96,98,99,101,102,104,105,108,111,114,117,120,123,126,129,132,135,138,141,144,147,150,153,156,159,162,165,168,171,174,177,180,183,186,189,192,195,198,201,204,207,210,213,216,219,222,225,228,231,234,237,240,243,246,249,252) have mixed types.Specify dtype option on import or set low_memory=False.\n",
      "  has_raised = await self.run_ast_nodes(code_ast.body, cell_name,\n"
     ]
    },
    {
     "name": "stdout",
     "output_type": "stream",
     "text": [
      "Processing 6454629235.csv\n",
      "Processing 6464953261.csv\n"
     ]
    },
    {
     "name": "stderr",
     "output_type": "stream",
     "text": [
      "C:\\Users\\guilhem.leprince\\Anaconda3\\lib\\site-packages\\IPython\\core\\interactiveshell.py:3106: DtypeWarning: Columns (7,16,23,26,42,45,46,47,48,50,51,53,54,56,57,59,60,62,63,65,66,68,69,72,74,75,77,78,80,81,83,84,85,87,90,93,95,96,98,99,101,102,104,105,108,110,111,113,114,117,119,120,122,123,126,127,129,132,135,138,141,144,147,150,153,156,159,162,165,168,171,174,177,180,183,186,189,192,195,198,201,204,207,210,213,216,219,222,225,228,231,234,237,240,243,246,249,252,255,258,261,264,267,270,273,276,279,282,285,288,291,294,297,300,303,306,309,312) have mixed types.Specify dtype option on import or set low_memory=False.\n",
      "  has_raised = await self.run_ast_nodes(code_ast.body, cell_name,\n"
     ]
    },
    {
     "name": "stdout",
     "output_type": "stream",
     "text": [
      "Processing 6470389136.csv\n"
     ]
    },
    {
     "name": "stderr",
     "output_type": "stream",
     "text": [
      "C:\\Users\\guilhem.leprince\\Anaconda3\\lib\\site-packages\\IPython\\core\\interactiveshell.py:3106: DtypeWarning: Columns (7,16,23,26,42,45,46,47,48,50,51,53,54,56,57,59,60,62,63,65,66,68,69,72,74,75,77,78,80,81,83,84,85,87,90,93,95,96,98,99,101,102,104,105,108,110,111,113,114,117,119,120,122,123,126,127,129,132,135,138,141,144,147,150,153,156,159,162,165,168,171,174,177,180,183,186,189,192,195,198,201,204,207,210,213,216,219,222,225,228,231,234,237,240,243,246,249,252,255,258,261,264,267,270,273,276,279,282,285,288,291,294,297,300,303,306,309,312) have mixed types.Specify dtype option on import or set low_memory=False.\n",
      "  has_raised = await self.run_ast_nodes(code_ast.body, cell_name,\n"
     ]
    },
    {
     "name": "stdout",
     "output_type": "stream",
     "text": [
      "Processing 6501076598.csv\n"
     ]
    },
    {
     "name": "stderr",
     "output_type": "stream",
     "text": [
      "C:\\Users\\guilhem.leprince\\Anaconda3\\lib\\site-packages\\IPython\\core\\interactiveshell.py:3106: DtypeWarning: Columns (7,16,38,42,45,46,47,48,50,51,53,54,56,57,59,60,62,63,65,66,68,69,72,74,75,77,78,80,81,83,84,85,87,90,93,95,96,98,99,101,102,104,105,108,110,111,113,114,117,119,120,122,123,126,127,129,132,135,138,141,144,147,150,153,156,159,162,165,168,171,174,177,180,183,186,189,192,195,198,201,204,207,210,213,216,219,222,225,228,231,234,237,240,243,246,249,252,255,258,261,264,267,270,273,276,279,282,285,288,291,294,297,300,303,306,309,312) have mixed types.Specify dtype option on import or set low_memory=False.\n",
      "  has_raised = await self.run_ast_nodes(code_ast.body, cell_name,\n"
     ]
    },
    {
     "name": "stdout",
     "output_type": "stream",
     "text": [
      "Processing 6514218227.csv\n"
     ]
    },
    {
     "name": "stderr",
     "output_type": "stream",
     "text": [
      "C:\\Users\\guilhem.leprince\\Anaconda3\\lib\\site-packages\\IPython\\core\\interactiveshell.py:3106: DtypeWarning: Columns (7,16,38,42,45,46,47,48,50,51,53,54,56,57,59,60,62,63,65,66,68,69,72,74,75,77,78,80,81,83,84,85,87,90,93,95,96,98,99,101,102,104,105,108,110,111,113,114,117,119,120,122,123,126,127,129,132,135,138,141,144,147,150,153,156,159,162,165,168,171,174,177,180,183,186,189,192,195,198,201,204,207,210,213,216,219,222,225,228,231,234,237,240,243,246,249,252,255,258,261,264,267,270,273,276,279,282,285,288,291,294,297,300,303,306,309,312) have mixed types.Specify dtype option on import or set low_memory=False.\n",
      "  has_raised = await self.run_ast_nodes(code_ast.body, cell_name,\n"
     ]
    },
    {
     "name": "stdout",
     "output_type": "stream",
     "text": [
      "Processing 6546908996.csv\n"
     ]
    },
    {
     "name": "stderr",
     "output_type": "stream",
     "text": [
      "C:\\Users\\guilhem.leprince\\Anaconda3\\lib\\site-packages\\IPython\\core\\interactiveshell.py:3106: DtypeWarning: Columns (7,16,42,45,46,47,48,50,51,53,54,56,57,59,60,62,63,65,66,68,69,72,74,75,77,78,80,81,83,84,85,87,90,93,95,96,98,99,101,102,104,105,108,110,111,113,114,117,119,120,122,123,126,127,129,132,135,138,141,144,147,150,153,156,159,162,165,168,171,174,177,180,183,186,189,192,195,198,201,204,207,210,213,216,219,222,225,228,231,234,237,240,243,246,249,252,255,258,261,264,267,270,273,276,279,282,285,288,291,294,297,300,303,306,309,312) have mixed types.Specify dtype option on import or set low_memory=False.\n",
      "  has_raised = await self.run_ast_nodes(code_ast.body, cell_name,\n"
     ]
    },
    {
     "name": "stdout",
     "output_type": "stream",
     "text": [
      "Processing 6546917855.csv\n"
     ]
    },
    {
     "name": "stderr",
     "output_type": "stream",
     "text": [
      "C:\\Users\\guilhem.leprince\\Anaconda3\\lib\\site-packages\\IPython\\core\\interactiveshell.py:3106: DtypeWarning: Columns (7,16,23,38,39,42,45,46,47,48,50,51,53,54,56,57,59,60,62,63,65,66,68,69,72,74,75,77,78,80,81,83,84,85,87,90,93,95,96,98,99,101,102,104,105,108,110,111,113,114,117,119,120,122,123,126,127,129,132,135,138,141,144,147,150,153,156,159,162,165,168,171,174,177,180,183,186,189,192,195,198,201,204,207,210,213,216,219,222,225,228,231,234,237,240,243,246,249,252,255,258,261,264,267,270,273,276,279,282,285,288,291,294,297,300,303,306,309,312) have mixed types.Specify dtype option on import or set low_memory=False.\n",
      "  has_raised = await self.run_ast_nodes(code_ast.body, cell_name,\n"
     ]
    },
    {
     "name": "stdout",
     "output_type": "stream",
     "text": [
      "Processing 6578602814.csv\n"
     ]
    },
    {
     "name": "stderr",
     "output_type": "stream",
     "text": [
      "C:\\Users\\guilhem.leprince\\Anaconda3\\lib\\site-packages\\IPython\\core\\interactiveshell.py:3106: DtypeWarning: Columns (38,46,53,65,68,85,108,110,111,113,114,117,119,120,122,123,126,127,129,132,135,138,141,144,147,150,153,156,159,162,165,168,171,174,177,180,183,186,189,192,195,198,201,204,207,210,213,216,219,222,225,228,231,234,237,240,243,246,249,252,255,258,261,264,267,270,273,276,279,282,285,288,291,294,297,300,303,306,309,312) have mixed types.Specify dtype option on import or set low_memory=False.\n",
      "  has_raised = await self.run_ast_nodes(code_ast.body, cell_name,\n"
     ]
    },
    {
     "name": "stdout",
     "output_type": "stream",
     "text": [
      "Processing 6605158758.csv\n",
      "Processing 6615438641.csv\n"
     ]
    },
    {
     "name": "stderr",
     "output_type": "stream",
     "text": [
      "C:\\Users\\guilhem.leprince\\Anaconda3\\lib\\site-packages\\IPython\\core\\interactiveshell.py:3106: DtypeWarning: Columns (38,46,53,65,68,85,108,110,111,113,114,117,119,120,122,123,126,127,129,132,135,138,141,144,147,150,153,156,159,162,165,168,171,174,177,180,183,186,189,192,195,198,201,204,207,210,213,216,219,222,225,228,231,234,237,240,243,246,249,252,255,258,261,264,267,270,273,276,279,282,285,288,291,294,297,300,303,306,309,312) have mixed types.Specify dtype option on import or set low_memory=False.\n",
      "  has_raised = await self.run_ast_nodes(code_ast.body, cell_name,\n",
      "C:\\Users\\guilhem.leprince\\Anaconda3\\lib\\site-packages\\IPython\\core\\interactiveshell.py:3106: DtypeWarning: Columns (38,46,53,65,68,85,108,110,111,113,114,117,119,120,122,123,126,127,129,132,135,138,141,144,147,150,153,156,159,162,165,168,171,174,177,180,183,186,189,192,195,198,201,204,207,210,213,216,219,222,225,228,231,234,237,240,243,246,249,252,255,258,261,264,267,270,273,276,279,282,285,288,291,294,297,300,303,306,309,312) have mixed types.Specify dtype option on import or set low_memory=False.\n",
      "  has_raised = await self.run_ast_nodes(code_ast.body, cell_name,\n"
     ]
    },
    {
     "name": "stdout",
     "output_type": "stream",
     "text": [
      "Processing 6645248204.csv\n"
     ]
    },
    {
     "name": "stderr",
     "output_type": "stream",
     "text": [
      "C:\\Users\\guilhem.leprince\\Anaconda3\\lib\\site-packages\\IPython\\core\\interactiveshell.py:3106: DtypeWarning: Columns (7,16,23,38,39,42,45,46,47,48,50,51,53,54,56,57,59,60,62,63,65,66,68,69,72,74,75,77,78,80,81,83,84,87,90,93,94,95,96,98,99,101,102,104,105,108,110,111,113,114,117,119,120,122,123,126,129,132,135,136,138,141,144,147,150,153,156,159,162,165,168,171,174,177,180,183,186,189,192,195,198,201,204,207,210,213,216,219,222,225,228,231,234,237,240,243,246,249,252,255,258,261,264,267,270,273,276,279,282,285,288,291,294,297,300,303,306,309,312) have mixed types.Specify dtype option on import or set low_memory=False.\n",
      "  has_raised = await self.run_ast_nodes(code_ast.body, cell_name,\n"
     ]
    },
    {
     "name": "stdout",
     "output_type": "stream",
     "text": [
      "Processing 6664504116.csv\n",
      "Processing 6681118401.csv\n"
     ]
    },
    {
     "name": "stderr",
     "output_type": "stream",
     "text": [
      "C:\\Users\\guilhem.leprince\\Anaconda3\\lib\\site-packages\\IPython\\core\\interactiveshell.py:3106: DtypeWarning: Columns (46,53,65,68,85,110,113,119,122,127,267,270,273,276,279,282,285,288,291,294,297,300,303,306,309,312) have mixed types.Specify dtype option on import or set low_memory=False.\n",
      "  has_raised = await self.run_ast_nodes(code_ast.body, cell_name,\n",
      "C:\\Users\\guilhem.leprince\\Anaconda3\\lib\\site-packages\\IPython\\core\\interactiveshell.py:3106: DtypeWarning: Columns (7,16,38,39,42,45,46,47,48,50,51,53,54,56,57,59,60,62,63,65,66,68,69,72,74,75,77,78,80,81,83,84,85,87,90,93,95,96,98,99,101,102,104,105,108,110,111,113,114,117,119,120,122,123,126,127,129,132,135,138,141,144,147,150,153,156,159,162,165,168,171,174,177,180,183,186,189,192,195,198,201,204,207,210,213,216,219,222,225,228,231,234,237,240,243,246,249,252,255,258,261,264,267,270,273,276,279,282,285,288,291,294,297,300,303,306,309,312) have mixed types.Specify dtype option on import or set low_memory=False.\n",
      "  has_raised = await self.run_ast_nodes(code_ast.body, cell_name,\n"
     ]
    },
    {
     "name": "stdout",
     "output_type": "stream",
     "text": [
      "Processing 6681123126.csv\n"
     ]
    },
    {
     "name": "stderr",
     "output_type": "stream",
     "text": [
      "C:\\Users\\guilhem.leprince\\Anaconda3\\lib\\site-packages\\IPython\\core\\interactiveshell.py:3106: DtypeWarning: Columns (7,16,42,45,46,47,48,50,51,53,54,56,57,59,60,62,63,65,66,68,69,72,74,75,77,78,80,81,83,84,85,87,90,93,95,96,98,99,101,102,104,105,108,110,111,113,114,117,119,120,122,123,126,127,129,132,135,138,141,144,147,150,153,156,159,162,165,168,171,174,177,180,183,186,189,192,195,198,201,204,207,210,213,216,219,222,225,228,231,234,237,240,243,246,249,252,255,258,261,264,267,270,273,276,279,282,285,288,291,294,297,300,303,306,309,312) have mixed types.Specify dtype option on import or set low_memory=False.\n",
      "  has_raised = await self.run_ast_nodes(code_ast.body, cell_name,\n"
     ]
    },
    {
     "name": "stdout",
     "output_type": "stream",
     "text": [
      "Processing 6682419781.csv\n",
      "Processing 6698345595.csv\n"
     ]
    },
    {
     "name": "stderr",
     "output_type": "stream",
     "text": [
      "C:\\Users\\guilhem.leprince\\Anaconda3\\lib\\site-packages\\IPython\\core\\interactiveshell.py:3106: DtypeWarning: Columns (7,16,42,45,46,47,48,50,51,53,54,56,57,59,60,62,63,65,66,68,69,72,74,75,77,78,80,81,83,84,85,87,90,93,95,96,98,99,101,102,104,105,108,110,111,113,114,117,119,120,122,123,126,127,129,132,135,138,141,144,147,150,153,156,159,162,165,168,171,174,177,180,183,186,189,192,195,198,201,204,207,210,213,216,219,222,225,228,231,234,237,240,243,246,249,252,255,258,261,264,267,270,273,276,279,282,285,288,291,294,297,300,303,306,309,312) have mixed types.Specify dtype option on import or set low_memory=False.\n",
      "  has_raised = await self.run_ast_nodes(code_ast.body, cell_name,\n",
      "C:\\Users\\guilhem.leprince\\Anaconda3\\lib\\site-packages\\IPython\\core\\interactiveshell.py:3106: DtypeWarning: Columns (46,53,65,68,85,110,113,119,122,127,267,270,273,276,279,282,285,288,291,294,297,300,303,306,309,312) have mixed types.Specify dtype option on import or set low_memory=False.\n",
      "  has_raised = await self.run_ast_nodes(code_ast.body, cell_name,\n"
     ]
    },
    {
     "name": "stdout",
     "output_type": "stream",
     "text": [
      "Processing 6729609405.csv\n",
      "Processing 6735914237.csv\n"
     ]
    },
    {
     "name": "stderr",
     "output_type": "stream",
     "text": [
      "C:\\Users\\guilhem.leprince\\Anaconda3\\lib\\site-packages\\IPython\\core\\interactiveshell.py:3106: DtypeWarning: Columns (7,16,42,45,46,47,48,50,51,53,54,56,57,59,60,62,63,65,66,68,69,72,74,75,77,78,80,81,83,84,85,87,90,93,95,96,98,99,101,102,104,105,108,110,111,113,114,117,119,120,122,123,126,127,129,132,135,138,141,144,147,150,153,156,159,162,165,168,171,174,177,180,183,186,189,192,195,198,201,204,207,210,213,216,219,222,225,228,231,234,237,240,243,246,249,252,255,258,261,264,267,270,273,276,279,282,285,288,291,294,297,300,303,306,309,312) have mixed types.Specify dtype option on import or set low_memory=False.\n",
      "  has_raised = await self.run_ast_nodes(code_ast.body, cell_name,\n",
      "C:\\Users\\guilhem.leprince\\Anaconda3\\lib\\site-packages\\IPython\\core\\interactiveshell.py:3106: DtypeWarning: Columns (7,16,23,26,42,45,46,47,48,50,51,53,54,56,57,59,60,62,63,65,66,68,69,72,74,75,77,78,80,81,83,84,85,87,90,93,95,96,98,99,101,102,104,105,108,110,111,113,114,117,119,120,122,123,126,127,129,132,135,138,141,144,147,150,153,156,159,162,165,168,171,174,177,180,183,186,189,192,195,198,201,204,207,210,213,216,219,222,225,228,231,234,237,240,243,246,249,252,255,258,261,264,267,270,273,276,279,282,285,288,291,294,297,300,303,306,309,312) have mixed types.Specify dtype option on import or set low_memory=False.\n",
      "  has_raised = await self.run_ast_nodes(code_ast.body, cell_name,\n"
     ]
    },
    {
     "name": "stdout",
     "output_type": "stream",
     "text": [
      "Processing 6755918077.csv\n",
      "Processing 6764451390.csv\n"
     ]
    },
    {
     "name": "stderr",
     "output_type": "stream",
     "text": [
      "C:\\Users\\guilhem.leprince\\Anaconda3\\lib\\site-packages\\IPython\\core\\interactiveshell.py:3106: DtypeWarning: Columns (7,16,42,45,46,47,48,50,51,53,54,56,57,59,60,62,63,65,66,68,69,72,74,75,77,78,80,81,83,84,85,87,90,93,95,96,98,99,101,102,104,105,108,110,111,113,114,117,119,120,122,123,126,127,129,132,135,138,141,144,147,150,153,156,159,162,165,168,171,174,177,180,183,186,189,192,195,198,201,204,207,210,213,216,219,222,225,228,231,234,237,240,243,246,249,252,255,258,261,264,267,270,273,276,279,282,285,288,291,294,297,300,303,306,309,312) have mixed types.Specify dtype option on import or set low_memory=False.\n",
      "  has_raised = await self.run_ast_nodes(code_ast.body, cell_name,\n",
      "C:\\Users\\guilhem.leprince\\Anaconda3\\lib\\site-packages\\IPython\\core\\interactiveshell.py:3106: DtypeWarning: Columns (7,16,23,26,42,45,46,47,48,50,51,53,54,56,57,59,60,62,63,65,66,68,69,72,74,75,77,78,80,81,83,84,85,87,90,93,95,96,98,99,101,102,104,105,108,110,111,113,114,117,119,120,122,123,126,127,129,132,135,138,141,144,147,150,153,156,159,162,165,168,171,174,177,180,183,186,189,192,195,198,201,204,207,210,213,216,219,222,225,228,231,234,237,240,243,246,249,252,255,258,261,264,267,270,273,276,279,282,285,288,291,294,297,300,303,306,309,312) have mixed types.Specify dtype option on import or set low_memory=False.\n",
      "  has_raised = await self.run_ast_nodes(code_ast.body, cell_name,\n"
     ]
    },
    {
     "name": "stdout",
     "output_type": "stream",
     "text": [
      "Processing 6772694863.csv\n"
     ]
    },
    {
     "name": "stderr",
     "output_type": "stream",
     "text": [
      "C:\\Users\\guilhem.leprince\\Anaconda3\\lib\\site-packages\\IPython\\core\\interactiveshell.py:3106: DtypeWarning: Columns (7,16,23,26,42,45,46,47,48,50,51,53,54,56,57,59,60,62,63,65,66,68,69,72,74,75,77,78,80,81,83,84,85,87,90,93,95,96,98,99,101,102,104,105,108,110,111,113,114,117,119,120,122,123,126,127,129,132,135,138,141,144,147,150,153,156,159,162,165,168,171,174,177,180,183,186,189,192,195,198,201,204,207,210,213,216,219,222,225,228,231,234,237,240,243,246,249,252,255,258,261,264,267,270,273,276,279,282,285,288,291,294,297,300,303,306,309,312) have mixed types.Specify dtype option on import or set low_memory=False.\n",
      "  has_raised = await self.run_ast_nodes(code_ast.body, cell_name,\n"
     ]
    },
    {
     "name": "stdout",
     "output_type": "stream",
     "text": [
      "Processing 6776327978.csv\n"
     ]
    },
    {
     "name": "stderr",
     "output_type": "stream",
     "text": [
      "C:\\Users\\guilhem.leprince\\Anaconda3\\lib\\site-packages\\IPython\\core\\interactiveshell.py:3106: DtypeWarning: Columns (7,16,42,45,46,47,48,50,51,53,54,56,57,59,60,62,63,65,66,68,69,72,74,75,77,78,80,81,83,84,85,87,90,93,95,96,98,99,101,102,104,105,108,110,111,113,114,117,119,120,122,123,126,127,129,132,135,138,141,144,147,150,153,156,159,162,165,168,171,174,177,180,183,186,189,192,195,198,201,204,207,210,213,216,219,222,225,228,231,234,237,240,243,246,249,252,255,258,261,264,267,270,273,276,279,282,285,288,291,294,297,300,303,306,309,312) have mixed types.Specify dtype option on import or set low_memory=False.\n",
      "  has_raised = await self.run_ast_nodes(code_ast.body, cell_name,\n"
     ]
    },
    {
     "name": "stdout",
     "output_type": "stream",
     "text": [
      "Processing 6797583269.csv\n"
     ]
    },
    {
     "name": "stderr",
     "output_type": "stream",
     "text": [
      "C:\\Users\\guilhem.leprince\\Anaconda3\\lib\\site-packages\\IPython\\core\\interactiveshell.py:3106: DtypeWarning: Columns (7,16,23,26,42,45,46,47,48,50,51,53,54,56,57,59,60,62,63,65,66,68,69,72,74,75,77,78,80,81,83,84,85,87,90,93,95,96,98,99,101,102,104,105,108,110,111,113,114,117,119,120,122,123,126,127,129,132,135,138,141,144,147,150,153,156,159,162,165,168,171,174,177,180,183,186,189,192,195,198,201,204,207,210,213,216,219,222,225,228,231,234,237,240,243,246,249,252,255,258,261,264,267,270,273,276,279,282,285,288,291,294,297,300,303,306,309,312) have mixed types.Specify dtype option on import or set low_memory=False.\n",
      "  has_raised = await self.run_ast_nodes(code_ast.body, cell_name,\n"
     ]
    },
    {
     "name": "stdout",
     "output_type": "stream",
     "text": [
      "Processing 6807469203.csv\n"
     ]
    },
    {
     "name": "stderr",
     "output_type": "stream",
     "text": [
      "C:\\Users\\guilhem.leprince\\Anaconda3\\lib\\site-packages\\IPython\\core\\interactiveshell.py:3106: DtypeWarning: Columns (7,16,42,45,46,47,48,50,51,53,54,56,57,59,60,62,63,65,66,68,69,72,74,75,77,78,80,81,83,84,85,87,90,93,95,96,98,99,101,102,104,105,108,110,111,113,114,117,119,120,122,123,126,127,129,132,135,138,141,144,147,150,153,156,159,162,165,168,171,174,177,180,183,186,189,192,195,198,201,204,207,210,213,216,219,222,225,228,231,234,237,240,243,246,249,252,255,258,261,264,267,270,273,276,279,282,285,288,291,294,297,300,303,306,309,312) have mixed types.Specify dtype option on import or set low_memory=False.\n",
      "  has_raised = await self.run_ast_nodes(code_ast.body, cell_name,\n"
     ]
    },
    {
     "name": "stdout",
     "output_type": "stream",
     "text": [
      "Processing 6835538524.csv\n",
      "Processing 6836294307.csv\n",
      "Processing 6838938320.csv\n"
     ]
    },
    {
     "name": "stderr",
     "output_type": "stream",
     "text": [
      "C:\\Users\\guilhem.leprince\\Anaconda3\\lib\\site-packages\\IPython\\core\\interactiveshell.py:3106: DtypeWarning: Columns (46,53,65,68,85,110,113,119,122,127,267,270,273,276,279,282,285,288,291,294,297,300,303,306,309,312) have mixed types.Specify dtype option on import or set low_memory=False.\n",
      "  has_raised = await self.run_ast_nodes(code_ast.body, cell_name,\n",
      "C:\\Users\\guilhem.leprince\\Anaconda3\\lib\\site-packages\\IPython\\core\\interactiveshell.py:3106: DtypeWarning: Columns (38,46,53,65,68,85,108,110,111,113,114,117,119,120,122,123,126,127,129,132,135,138,141,144,147,150,153,156,159,162,165,168,171,174,177,180,183,186,189,192,195,198,201,204,207,210,213,216,219,222,225,228,231,234,237,240,243,246,249,252,255,258,261,264,267,270,273,276,279,282,285,288,291,294,297,300,303,306,309,312) have mixed types.Specify dtype option on import or set low_memory=False.\n",
      "  has_raised = await self.run_ast_nodes(code_ast.body, cell_name,\n",
      "C:\\Users\\guilhem.leprince\\Anaconda3\\lib\\site-packages\\IPython\\core\\interactiveshell.py:3106: DtypeWarning: Columns (38,46,53,65,68,85,108,110,111,113,114,117,119,120,122,123,126,127,129,132,135,138,141,144,147,150,153,156,159,162,165,168,171,174,177,180,183,186,189,192,195,198,201,204,207,210,213,216,219,222,225,228,231,234,237,240,243,246,249,252,255,258,261,264,267,270,273,276,279,282,285,288,291,294,297,300,303,306,309,312) have mixed types.Specify dtype option on import or set low_memory=False.\n",
      "  has_raised = await self.run_ast_nodes(code_ast.body, cell_name,\n",
      "C:\\Users\\guilhem.leprince\\Anaconda3\\lib\\site-packages\\IPython\\core\\interactiveshell.py:3106: DtypeWarning: Columns (7,16,42,45,46,47,48,50,51,53,54,56,57,59,60,62,63,65,66,68,69,72,74,75,77,78,80,81,83,84,85,87,90,93,95,96,98,99,101,102,104,105,108,110,111,113,114,117,119,120,122,123,126,127,129,132,135,138,141,144,147,150,153,156,159,162,165,168,171,174,177,180,183,186,189,192,195,198,201,204,207,210,213,216,219,222,225,228,231,234,237,240,243,246,249,252,255,258,261,264,267,270,273,276,279,282,285,288,291,294,297,300,303,306,309,312) have mixed types.Specify dtype option on import or set low_memory=False.\n",
      "  has_raised = await self.run_ast_nodes(code_ast.body, cell_name,\n"
     ]
    },
    {
     "name": "stdout",
     "output_type": "stream",
     "text": [
      "Processing 6843867405.csv\n",
      "Processing 6848083289.csv\n"
     ]
    },
    {
     "name": "stderr",
     "output_type": "stream",
     "text": [
      "C:\\Users\\guilhem.leprince\\Anaconda3\\lib\\site-packages\\IPython\\core\\interactiveshell.py:3106: DtypeWarning: Columns (7,16,23,42,45,46,47,48,50,51,53,54,56,57,59,60,62,63,65,66,68,69,72,74,75,77,78,80,81,83,84,85,87,90,93,95,96,98,99,101,102,104,105,108,110,111,113,114,117,119,120,122,123,126,127,129,132,135,138,141,144,147,150,153,156,159,162,165,168,171,174,177,180,183,186,189,192,195,198,201,204,207,210,213,216,219,222,225,228,231,234,237,240,243,246,249,252,255,258,261,264,267,270,273,276,279,282,285,288,291,294,297,300,303,306,309,312) have mixed types.Specify dtype option on import or set low_memory=False.\n",
      "  has_raised = await self.run_ast_nodes(code_ast.body, cell_name,\n",
      "C:\\Users\\guilhem.leprince\\Anaconda3\\lib\\site-packages\\IPython\\core\\interactiveshell.py:3106: DtypeWarning: Columns (46,53,65,68,85,108,110,111,113,114,117,119,120,122,123,126,127,129,132,135,138,141,144,147,150,153,156,159,162,165,168,171,174,177,180,183,186,189,192,195,198,201,204,207,210,213,216,219,222,225,228,231,234,237,240,243,246,249,252,255,258,261,264,267,270,273,276,279,282,285,288,291,294,297,300,303,306,309,312) have mixed types.Specify dtype option on import or set low_memory=False.\n",
      "  has_raised = await self.run_ast_nodes(code_ast.body, cell_name,\n"
     ]
    },
    {
     "name": "stdout",
     "output_type": "stream",
     "text": [
      "Processing 6848295805.csv\n",
      "Processing 6850810029.csv\n"
     ]
    },
    {
     "name": "stderr",
     "output_type": "stream",
     "text": [
      "C:\\Users\\guilhem.leprince\\Anaconda3\\lib\\site-packages\\IPython\\core\\interactiveshell.py:3106: DtypeWarning: Columns (7,16,23,42,45,46,47,48,50,51,53,54,56,57,59,60,62,63,65,66,68,69,72,74,75,77,78,80,81,83,84,85,87,90,93,95,96,98,99,101,102,104,105,108,110,111,113,114,117,119,120,122,123,126,127,129,132,135,138,141,144,147,150,153,156,159,162,165,168,171,174,177,180,183,186,189,192,195,198,201,204,207,210,213,216,219,222,225,228,231,234,237,240,243,246,249,252,255,258,261,264,267,270,273,276,279,282,285,288,291,294,297,300,303,306,309,312) have mixed types.Specify dtype option on import or set low_memory=False.\n",
      "  has_raised = await self.run_ast_nodes(code_ast.body, cell_name,\n",
      "C:\\Users\\guilhem.leprince\\Anaconda3\\lib\\site-packages\\IPython\\core\\interactiveshell.py:3106: DtypeWarning: Columns (7,16,23,42,45,46,47,48,50,51,53,54,56,57,59,60,62,63,65,66,68,69,72,74,75,77,78,80,81,83,84,85,87,90,93,95,96,98,99,101,102,104,105,108,110,111,113,114,117,119,120,122,123,126,127,129,132,135,138,141,144,147,150,153,156,159,162,165,168,171,174,177,180,183,186,189,192,195,198,201,204,207,210,213,216,219,222,225,228,231,234,237,240,243,246,249,252,255,258,261,264,267,270,273,276,279,282,285,288,291,294,297,300,303,306,309,312) have mixed types.Specify dtype option on import or set low_memory=False.\n",
      "  has_raised = await self.run_ast_nodes(code_ast.body, cell_name,\n"
     ]
    },
    {
     "name": "stdout",
     "output_type": "stream",
     "text": [
      "Processing 6860529326.csv\n",
      "Processing 6867739148.csv\n"
     ]
    },
    {
     "name": "stderr",
     "output_type": "stream",
     "text": [
      "C:\\Users\\guilhem.leprince\\Anaconda3\\lib\\site-packages\\IPython\\core\\interactiveshell.py:3106: DtypeWarning: Columns (7,16,23,38,39,42,45,46,47,48,50,51,53,54,56,57,59,60,62,63,65,66,68,69,72,74,75,77,78,80,81,83,84,85,87,90,93,95,96,98,99,101,102,104,105,108,110,111,113,114,117,119,120,122,123,126,127,129,132,135,138,141,144,147,150,153,156,159,162,165,168,171,174,177,180,183,186,189,192,195,198,201,204,207,210,213,216,219,222,225,228,231,234,237,240,243,246,249,252,255,258,261,264,267,270,273,276,279,282,285,288,291,294,297,300,303,306,309,312) have mixed types.Specify dtype option on import or set low_memory=False.\n",
      "  has_raised = await self.run_ast_nodes(code_ast.body, cell_name,\n"
     ]
    },
    {
     "name": "stdout",
     "output_type": "stream",
     "text": [
      "Processing 6871346267.csv\n"
     ]
    },
    {
     "name": "stderr",
     "output_type": "stream",
     "text": [
      "C:\\Users\\guilhem.leprince\\Anaconda3\\lib\\site-packages\\IPython\\core\\interactiveshell.py:3106: DtypeWarning: Columns (7,16,38,39,42,45,46,47,48,50,51,53,54,56,57,59,60,62,63,65,66,68,69,72,74,75,77,78,80,81,83,84,85,87,90,93,95,96,98,99,101,102,104,105,108,110,111,113,114,117,119,120,122,123,126,127,129,132,135,138,141,144,147,150,153,156,159,162,165,168,171,174,177,180,183,186,189,192,195,198,201,204,207,210,213,216,219,222,225,228,231,234,237,240,243,246,249,252,255,258,261,264,267,270,273,276,279,282,285,288,291,294,297,300,303,306,309,312) have mixed types.Specify dtype option on import or set low_memory=False.\n",
      "  has_raised = await self.run_ast_nodes(code_ast.body, cell_name,\n"
     ]
    },
    {
     "name": "stdout",
     "output_type": "stream",
     "text": [
      "Processing 6877939016.csv\n"
     ]
    },
    {
     "name": "stderr",
     "output_type": "stream",
     "text": [
      "C:\\Users\\guilhem.leprince\\Anaconda3\\lib\\site-packages\\IPython\\core\\interactiveshell.py:3106: DtypeWarning: Columns (7,16,38,39,42,45,46,47,48,50,51,53,54,56,57,59,60,62,63,65,66,68,69,72,74,75,77,78,80,81,83,84,85,87,90,93,95,96,98,99,101,102,104,105,108,110,111,113,114,117,119,120,122,123,126,127,129,132,135,138,141,144,147,150,153,156,159,162,165,168,171,174,177,180,183,186,189,192,195,198,201,204,207,210,213,216,219,222,225,228,231,234,237,240,243,246,249,252,255,258,261,264,267,270,273,276,279,282,285,288,291,294,297,300,303,306,309,312) have mixed types.Specify dtype option on import or set low_memory=False.\n",
      "  has_raised = await self.run_ast_nodes(code_ast.body, cell_name,\n"
     ]
    },
    {
     "name": "stdout",
     "output_type": "stream",
     "text": [
      "Processing 6890046426.csv\n"
     ]
    },
    {
     "name": "stderr",
     "output_type": "stream",
     "text": [
      "C:\\Users\\guilhem.leprince\\Anaconda3\\lib\\site-packages\\IPython\\core\\interactiveshell.py:3106: DtypeWarning: Columns (7,16,38,39,42,45,46,47,48,50,51,53,54,56,57,59,60,62,63,65,66,68,69,72,74,75,77,78,80,81,83,84,85,87,90,93,95,96,98,99,101,102,104,105,108,110,111,113,114,117,119,120,122,123,126,127,129,132,135,138,141,144,147,150,153,156,159,162,165,168,171,174,177,180,183,186,189,192,195,198,201,204,207,210,213,216,219,222,225,228,231,234,237,240,243,246,249,252,255,258,261,264,267,270,273,276,279,282,285,288,291,294,297,300,303,306,309,312) have mixed types.Specify dtype option on import or set low_memory=False.\n",
      "  has_raised = await self.run_ast_nodes(code_ast.body, cell_name,\n"
     ]
    },
    {
     "name": "stdout",
     "output_type": "stream",
     "text": [
      "Processing 6892140253.csv\n"
     ]
    },
    {
     "name": "stderr",
     "output_type": "stream",
     "text": [
      "C:\\Users\\guilhem.leprince\\Anaconda3\\lib\\site-packages\\IPython\\core\\interactiveshell.py:3106: DtypeWarning: Columns (7,16,42,45,46,47,48,50,51,53,54,56,57,59,60,62,63,65,66,68,69,72,74,75,77,78,80,81,83,84,85,87,90,93,95,96,98,99,101,102,104,105,108,110,111,113,114,117,119,120,122,123,126,127,129,132,135,138,141,144,147,150,153,156,159,162,165,168,171,174,177,180,183,186,189,192,195,198,201,204,207,210,213,216,219,222,225,228,231,234,237,240,243,246,249,252,255,258,261,264,267,270,273,276,279,282,285,288,291,294,297,300,303,306,309,312) have mixed types.Specify dtype option on import or set low_memory=False.\n",
      "  has_raised = await self.run_ast_nodes(code_ast.body, cell_name,\n"
     ]
    },
    {
     "name": "stdout",
     "output_type": "stream",
     "text": [
      "Processing 6903476295.csv\n"
     ]
    },
    {
     "name": "stderr",
     "output_type": "stream",
     "text": [
      "C:\\Users\\guilhem.leprince\\Anaconda3\\lib\\site-packages\\IPython\\core\\interactiveshell.py:3106: DtypeWarning: Columns (7,16,23,42,45,46,47,48,50,51,53,54,56,57,59,60,62,63,65,66,68,69,72,74,75,77,78,80,81,83,84,85,87,90,93,95,96,98,99,101,102,104,105,108,110,111,113,114,117,119,120,122,123,126,127,129,132,135,138,141,144,147,150,153,156,159,162,165,168,171,174,177,180,183,186,189,192,195,198,201,204,207,210,213,216,219,222,225,228,231,234,237,240,243,246,249,252,255,258,261,264,267,270,273,276,279,282,285,288,291,294,297,300,303,306,309,312) have mixed types.Specify dtype option on import or set low_memory=False.\n",
      "  has_raised = await self.run_ast_nodes(code_ast.body, cell_name,\n"
     ]
    },
    {
     "name": "stdout",
     "output_type": "stream",
     "text": [
      "Processing 6925744248.csv\n"
     ]
    },
    {
     "name": "stderr",
     "output_type": "stream",
     "text": [
      "C:\\Users\\guilhem.leprince\\Anaconda3\\lib\\site-packages\\IPython\\core\\interactiveshell.py:3106: DtypeWarning: Columns (7,16,38,39,42,45,46,47,48,50,51,53,54,56,57,59,60,62,63,65,66,68,69,72,74,75,77,78,80,81,83,84,85,87,90,93,95,96,98,99,101,102,104,105,108,110,111,113,114,117,119,120,122,123,126,127,129,132,135,138,141,144,147,150,153,156,159,162,165,168,171,174,177,180,183,186,189,192,195,198,201,204,207,210,213,216,219,222,225,228,231,234,237,240,243,246,249,252,255,258,261,264,267,270,273,276,279,282,285,288,291,294,297,300,303,306,309,312) have mixed types.Specify dtype option on import or set low_memory=False.\n",
      "  has_raised = await self.run_ast_nodes(code_ast.body, cell_name,\n"
     ]
    },
    {
     "name": "stdout",
     "output_type": "stream",
     "text": [
      "Processing 6949094780.csv\n",
      "Processing 6964815044.csv\n"
     ]
    },
    {
     "name": "stderr",
     "output_type": "stream",
     "text": [
      "C:\\Users\\guilhem.leprince\\Anaconda3\\lib\\site-packages\\IPython\\core\\interactiveshell.py:3106: DtypeWarning: Columns (7,16,23,26,42,45,46,47,48,50,51,53,54,56,57,59,60,62,63,65,66,68,69,72,74,75,77,78,80,81,83,84,85,87,90,93,95,96,98,99,101,102,104,105,108,110,111,113,114,117,119,120,122,123,126,127,129,132,135,138,141,144,147,150,153,156,159,162,165,168,171,174,177,180,183,186,189,192,195,198,201,204,207,210,213,216,219,222,225,228,231,234,237,240,243,246,249,252,255,258,261,264,267,270,273,276,279,282,285,288,291,294,297,300,303,306,309,312) have mixed types.Specify dtype option on import or set low_memory=False.\n",
      "  has_raised = await self.run_ast_nodes(code_ast.body, cell_name,\n"
     ]
    },
    {
     "name": "stdout",
     "output_type": "stream",
     "text": [
      "Processing 6979257427.csv\n"
     ]
    },
    {
     "name": "stderr",
     "output_type": "stream",
     "text": [
      "C:\\Users\\guilhem.leprince\\Anaconda3\\lib\\site-packages\\IPython\\core\\interactiveshell.py:3106: DtypeWarning: Columns (7,16,42,45,46,47,48,50,51,53,54,56,57,59,60,62,63,65,66,68,69,72,74,75,77,78,80,81,83,84,85,87,90,93,95,96,98,99,101,102,104,105,108,110,111,113,114,117,119,120,122,123,126,127,129,132,135,138,141,144,147,150,153,156,159,162,165,168,171,174,177,180,183,186,189,192,195,198,201,204,207,210,213,216,219,222,225,228,231,234,237,240,243,246,249,252,255,258,261,264,267,270,273,276,279,282,285,288,291,294,297,300,303,306,309,312) have mixed types.Specify dtype option on import or set low_memory=False.\n",
      "  has_raised = await self.run_ast_nodes(code_ast.body, cell_name,\n"
     ]
    },
    {
     "name": "stdout",
     "output_type": "stream",
     "text": [
      "Processing 6986460021.csv\n"
     ]
    },
    {
     "name": "stderr",
     "output_type": "stream",
     "text": [
      "C:\\Users\\guilhem.leprince\\Anaconda3\\lib\\site-packages\\IPython\\core\\interactiveshell.py:3106: DtypeWarning: Columns (38,46,53,65,68,85,108,110,111,113,114,117,119,120,122,123,126,127,129,132,135,138,141,144,147,150,153,156,159,162,165,168,171,174,177,180,183,186,189,192,195,198,201,204,207,210,213,216,219,222,225,228,231,234,237,240,243,246,249,252,255,258,261,264,267,270,273,276,279,282,285,288,291,294,297,300,303,306,309,312) have mixed types.Specify dtype option on import or set low_memory=False.\n",
      "  has_raised = await self.run_ast_nodes(code_ast.body, cell_name,\n"
     ]
    },
    {
     "name": "stdout",
     "output_type": "stream",
     "text": [
      "Processing 7013045375.csv\n"
     ]
    },
    {
     "name": "stderr",
     "output_type": "stream",
     "text": [
      "C:\\Users\\guilhem.leprince\\Anaconda3\\lib\\site-packages\\IPython\\core\\interactiveshell.py:3106: DtypeWarning: Columns (7,16,42,45,46,47,48,50,51,53,54,56,57,59,60,62,63,65,66,68,69,72,74,75,77,78,80,81,83,84,85,87,90,93,95,96,98,99,101,102,104,105,108,110,111,113,114,117,119,120,122,123,126,127,129,132,135,138,141,144,147,150,153,156,159,162,165,168,171,174,177,180,183,186,189,192,195,198,201,204,207,210,213,216,219,222,225,228,231,234,237,240,243,246,249,252,255,258,261,264,267,270,273,276,279,282,285,288,291,294,297,300,303,306,309,312) have mixed types.Specify dtype option on import or set low_memory=False.\n",
      "  has_raised = await self.run_ast_nodes(code_ast.body, cell_name,\n"
     ]
    },
    {
     "name": "stdout",
     "output_type": "stream",
     "text": [
      "Processing 7020156851.csv\n"
     ]
    },
    {
     "name": "stderr",
     "output_type": "stream",
     "text": [
      "C:\\Users\\guilhem.leprince\\Anaconda3\\lib\\site-packages\\IPython\\core\\interactiveshell.py:3106: DtypeWarning: Columns (7,16,42,45,46,47,48,50,51,53,54,56,57,59,60,62,63,65,66,68,69,72,74,75,77,78,80,81,83,84,85,87,90,93,95,96,98,99,101,102,104,105,108,110,111,113,114,117,119,120,122,123,126,127,129,132,135,138,141,144,147,150,153,156,159,162,165,168,171,174,177,180,183,186,189,192,195,198,201,204,207,210,213,216,219,222,225,228,231,234,237,240,243,246,249,252,255,258,261,264,267,270,273,276,279,282,285,288,291,294,297,300,303,306,309,312) have mixed types.Specify dtype option on import or set low_memory=False.\n",
      "  has_raised = await self.run_ast_nodes(code_ast.body, cell_name,\n"
     ]
    },
    {
     "name": "stdout",
     "output_type": "stream",
     "text": [
      "Processing 7023767464.csv\n"
     ]
    },
    {
     "name": "stderr",
     "output_type": "stream",
     "text": [
      "C:\\Users\\guilhem.leprince\\Anaconda3\\lib\\site-packages\\IPython\\core\\interactiveshell.py:3106: DtypeWarning: Columns (7,16,23,26,42,45,46,47,48,50,51,53,54,56,57,59,60,62,63,65,66,68,69,72,74,75,77,78,80,81,83,84,85,87,90,93,95,96,98,99,101,102,104,105,108,110,111,113,114,117,119,120,122,123,126,127,129,132,135,138,141,144,147,150,153,156,159,162,165,168,171,174,177,180,183,186,189,192,195,198,201,204,207,210,213,216,219,222,225,228,231,234,237,240,243,246,249,252,255,258,261,264,267,270,273,276,279,282,285,288,291,294,297,300,303,306,309,312) have mixed types.Specify dtype option on import or set low_memory=False.\n",
      "  has_raised = await self.run_ast_nodes(code_ast.body, cell_name,\n"
     ]
    },
    {
     "name": "stdout",
     "output_type": "stream",
     "text": [
      "Processing 7041724596.csv\n"
     ]
    },
    {
     "name": "stderr",
     "output_type": "stream",
     "text": [
      "C:\\Users\\guilhem.leprince\\Anaconda3\\lib\\site-packages\\IPython\\core\\interactiveshell.py:3106: DtypeWarning: Columns (7,16,42,45,46,47,48,50,51,53,54,56,57,59,60,62,63,65,66,68,69,72,74,75,77,78,80,81,83,84,85,87,90,93,95,96,98,99,101,102,104,105,108,110,111,113,114,117,119,120,122,123,126,127,129,132,135,138,141,144,147,150,153,156,159,162,165,168,171,174,177,180,183,186,189,192,195,198,201,204,207,210,213,216,219,222,225,228,231,234,237,240,243,246,249,252,255,258,261,264,267,270,273,276,279,282,285,288,291,294,297,300,303,306,309,312) have mixed types.Specify dtype option on import or set low_memory=False.\n",
      "  has_raised = await self.run_ast_nodes(code_ast.body, cell_name,\n"
     ]
    },
    {
     "name": "stdout",
     "output_type": "stream",
     "text": [
      "Processing 7054992441.csv\n"
     ]
    },
    {
     "name": "stderr",
     "output_type": "stream",
     "text": [
      "C:\\Users\\guilhem.leprince\\Anaconda3\\lib\\site-packages\\IPython\\core\\interactiveshell.py:3106: DtypeWarning: Columns (7,16,23,26,42,45,46,47,48,50,51,53,54,56,57,59,60,62,63,65,66,68,69,72,74,75,77,78,80,81,83,84,85,87,90,93,95,96,98,99,101,102,104,105,108,110,111,113,114,117,119,120,122,123,126,127,129,132,135,138,141,144,147,150,153,156,159,162,165,168,171,174,177,180,183,186,189,192,195,198,201,204,207,210,213,216,219,222,225,228,231,234,237,240,243,246,249,252,255,258,261,264,267,270,273,276,279,282,285,288,291,294,297,300,303,306,309,312) have mixed types.Specify dtype option on import or set low_memory=False.\n",
      "  has_raised = await self.run_ast_nodes(code_ast.body, cell_name,\n"
     ]
    },
    {
     "name": "stdout",
     "output_type": "stream",
     "text": [
      "Processing 7062248208.csv\n"
     ]
    },
    {
     "name": "stderr",
     "output_type": "stream",
     "text": [
      "C:\\Users\\guilhem.leprince\\Anaconda3\\lib\\site-packages\\IPython\\core\\interactiveshell.py:3106: DtypeWarning: Columns (7,16,42,45,46,47,48,50,51,53,54,56,57,59,60,62,63,65,66,68,69,72,74,75,77,78,80,81,83,84,85,87,90,93,95,96,98,99,101,102,104,105,108,110,111,113,114,117,119,120,122,123,126,127,129,132,135,138,141,144,147,150,153,156,159,162,165,168,171,174,177,180,183,186,189,192,195,198,201,204,207,210,213,216,219,222,225,228,231,234,237,240,243,246,249,252,255,258,261,264,267,270,273,276,279,282,285,288,291,294,297,300,303,306,309,312) have mixed types.Specify dtype option on import or set low_memory=False.\n",
      "  has_raised = await self.run_ast_nodes(code_ast.body, cell_name,\n"
     ]
    },
    {
     "name": "stdout",
     "output_type": "stream",
     "text": [
      "Processing 7078442963.csv\n"
     ]
    },
    {
     "name": "stderr",
     "output_type": "stream",
     "text": [
      "C:\\Users\\guilhem.leprince\\Anaconda3\\lib\\site-packages\\IPython\\core\\interactiveshell.py:3106: DtypeWarning: Columns (7,16,23,26,42,45,46,47,48,50,51,53,54,56,57,59,60,62,63,65,66,68,69,72,74,75,77,78,80,81,83,84,85,87,90,93,95,96,98,99,101,102,104,105,108,110,111,113,114,117,119,120,122,123,126,127,129,132,135,138,141,144,147,150,153,156,159,162,165,168,171,174,177,180,183,186,189,192,195,198,201,204,207,210,213,216,219,222,225,228,231,234,237,240,243,246,249,252,255,258,261,264,267,270,273,276,279,282,285,288,291,294,297,300,303,306,309,312) have mixed types.Specify dtype option on import or set low_memory=False.\n",
      "  has_raised = await self.run_ast_nodes(code_ast.body, cell_name,\n"
     ]
    },
    {
     "name": "stdout",
     "output_type": "stream",
     "text": [
      "Processing 7084574064.csv\n",
      "Processing 7098702306.csv\n"
     ]
    },
    {
     "name": "stderr",
     "output_type": "stream",
     "text": [
      "C:\\Users\\guilhem.leprince\\Anaconda3\\lib\\site-packages\\IPython\\core\\interactiveshell.py:3106: DtypeWarning: Columns (46,53,65,68,85,110,113,119,122,127,267,270,273,276,279,282,285,288,291,294,297,300,303,306,309,312) have mixed types.Specify dtype option on import or set low_memory=False.\n",
      "  has_raised = await self.run_ast_nodes(code_ast.body, cell_name,\n",
      "C:\\Users\\guilhem.leprince\\Anaconda3\\lib\\site-packages\\IPython\\core\\interactiveshell.py:3106: DtypeWarning: Columns (7,16,23,38,39,42,45,46,47,48,50,51,53,54,56,57,59,60,62,63,65,66,68,69,72,74,75,77,78,80,81,83,84,85,87,90,93,95,96,98,99,101,102,104,105,108,110,111,113,114,117,119,120,122,123,126,127,129,132,135,138,141,144,147,150,153,156,159,162,165,168,171,174,177,180,183,186,189,192,195,198,201,204,207,210,213,216,219,222,225,228,231,234,237,240,243,246,249,252,255,258,261,264,267,270,273,276,279,282,285,288,291,294,297,300,303,306,309,312) have mixed types.Specify dtype option on import or set low_memory=False.\n",
      "  has_raised = await self.run_ast_nodes(code_ast.body, cell_name,\n"
     ]
    },
    {
     "name": "stdout",
     "output_type": "stream",
     "text": [
      "Processing 7101615979.csv\n"
     ]
    },
    {
     "name": "stderr",
     "output_type": "stream",
     "text": [
      "C:\\Users\\guilhem.leprince\\Anaconda3\\lib\\site-packages\\IPython\\core\\interactiveshell.py:3106: DtypeWarning: Columns (7,16,38,39,42,45,46,47,48,50,51,53,54,56,57,59,60,62,63,65,66,68,69,72,74,75,77,78,80,81,83,84,85,87,90,93,95,96,98,99,101,102,104,105,108,110,111,113,114,117,119,120,122,123,126,127,129,132,135,138,141,144,147,150,153,156,159,162,165,168,171,174,177,180,183,186,189,192,195,198,201,204,207,210,213,216,219,222,225,228,231,234,237,240,243,246,249,252,255,258,261,264,267,270,273,276,279,282,285,288,291,294,297,300,303,306,309,312) have mixed types.Specify dtype option on import or set low_memory=False.\n",
      "  has_raised = await self.run_ast_nodes(code_ast.body, cell_name,\n"
     ]
    },
    {
     "name": "stdout",
     "output_type": "stream",
     "text": [
      "Processing 7136121606.csv\n"
     ]
    },
    {
     "name": "stderr",
     "output_type": "stream",
     "text": [
      "C:\\Users\\guilhem.leprince\\Anaconda3\\lib\\site-packages\\IPython\\core\\interactiveshell.py:3106: DtypeWarning: Columns (7,16,23,38,39,42,45,46,47,48,50,51,53,54,56,57,59,60,62,63,65,66,68,69,72,74,75,77,78,80,81,83,84,85,87,90,93,95,96,98,99,101,102,104,105,108,110,111,113,114,117,119,120,122,123,126,127,129,132,135,138,141,144,147,150,153,156,159,162,165,168,171,174,177,180,183,186,189,192,195,198,201,204,207,210,213,216,219,222,225,228,231,234,237,240,243,246,249,252,255,258,261,264,267,270,273,276,279,282,285,288,291,294,297,300,303,306,309,312) have mixed types.Specify dtype option on import or set low_memory=False.\n",
      "  has_raised = await self.run_ast_nodes(code_ast.body, cell_name,\n"
     ]
    },
    {
     "name": "stdout",
     "output_type": "stream",
     "text": [
      "Processing 7139075410.csv\n",
      "Processing 7160731613.csv\n"
     ]
    },
    {
     "name": "stderr",
     "output_type": "stream",
     "text": [
      "C:\\Users\\guilhem.leprince\\Anaconda3\\lib\\site-packages\\IPython\\core\\interactiveshell.py:3106: DtypeWarning: Columns (7,16,38,39,42,45,46,47,48,50,51,53,54,56,57,59,60,62,63,65,66,68,69,72,74,75,77,78,80,81,83,84,85,87,90,93,95,96,98,99,101,102,104,105,108,110,111,113,114,117,119,120,122,123,126,127,129,132,135,138,141,144,147,150,153,156,159,162,165,168,171,174,177,180,183,186,189,192,195,198,201,204,207,210,213,216,219,222,225,228,231,234,237,240,243,246,249,252,255,258,261,264,267,270,273,276,279,282,285,288,291,294,297,300,303,306,309,312) have mixed types.Specify dtype option on import or set low_memory=False.\n",
      "  has_raised = await self.run_ast_nodes(code_ast.body, cell_name,\n"
     ]
    },
    {
     "name": "stdout",
     "output_type": "stream",
     "text": [
      "Processing 7176925880.csv\n"
     ]
    },
    {
     "name": "stderr",
     "output_type": "stream",
     "text": [
      "C:\\Users\\guilhem.leprince\\Anaconda3\\lib\\site-packages\\IPython\\core\\interactiveshell.py:3106: DtypeWarning: Columns (7,16,42,45,46,47,48,50,51,53,54,56,57,59,60,62,63,65,66,68,69,72,74,75,77,78,80,81,83,84,85,87,90,93,95,96,98,99,101,102,104,105,108,110,111,113,114,117,119,120,122,123,126,127,129,132,135,138,141,144,147,150,153,156,159,162,165,168,171,174,177,180,183,186,189,192,195,198,201,204,207,210,213,216,219,222,225,228,231,234,237,240,243,246,249,252,255,258,261,264,267,270,273,276,279,282,285,288,291,294,297,300,303,306,309,312) have mixed types.Specify dtype option on import or set low_memory=False.\n",
      "  has_raised = await self.run_ast_nodes(code_ast.body, cell_name,\n"
     ]
    },
    {
     "name": "stdout",
     "output_type": "stream",
     "text": [
      "Processing 7187467824.csv\n",
      "Processing 7193788436.csv\n"
     ]
    },
    {
     "name": "stderr",
     "output_type": "stream",
     "text": [
      "C:\\Users\\guilhem.leprince\\Anaconda3\\lib\\site-packages\\IPython\\core\\interactiveshell.py:3106: DtypeWarning: Columns (46,53,65,68,85,110,113,119,122,127,267,270,273,276,279,282,285,288,291,294,297,300,303,306,309,312) have mixed types.Specify dtype option on import or set low_memory=False.\n",
      "  has_raised = await self.run_ast_nodes(code_ast.body, cell_name,\n",
      "C:\\Users\\guilhem.leprince\\Anaconda3\\lib\\site-packages\\IPython\\core\\interactiveshell.py:3106: DtypeWarning: Columns (7,16,23,38,39,42,45,46,47,48,50,51,53,54,56,57,59,60,62,63,65,66,68,69,72,74,75,77,78,80,81,83,84,85,87,90,93,95,96,98,99,101,102,104,105,108,110,111,113,114,117,119,120,122,123,126,127,129,132,135,138,141,144,147,150,153,156,159,162,165,168,171,174,177,180,183,186,189,192,195,198,201,204,207,210,213,216,219,222,225,228,231,234,237,240,243,246,249,252,255,258,261,264,267,270,273,276,279,282,285,288,291,294,297,300,303,306,309,312) have mixed types.Specify dtype option on import or set low_memory=False.\n",
      "  has_raised = await self.run_ast_nodes(code_ast.body, cell_name,\n"
     ]
    },
    {
     "name": "stdout",
     "output_type": "stream",
     "text": [
      "Processing 7213260450.csv\n"
     ]
    },
    {
     "name": "stderr",
     "output_type": "stream",
     "text": [
      "C:\\Users\\guilhem.leprince\\Anaconda3\\lib\\site-packages\\IPython\\core\\interactiveshell.py:3106: DtypeWarning: Columns (7,16,23,38,39,42,45,46,47,48,50,51,53,54,56,57,59,60,62,63,65,66,68,69,72,74,75,77,78,80,81,83,84,85,87,90,93,95,96,98,99,101,102,104,105,108,110,111,113,114,117,119,120,122,123,126,127,129,132,135,138,141,144,147,150,153,156,159,162,165,168,171,174,177,180,183,186,189,192,195,198,201,204,207,210,213,216,219,222,225,228,231,234,237,240,243,246,249,252,255,258,261,264,267,270,273,276,279,282,285,288,291,294,297,300,303,306,309,312) have mixed types.Specify dtype option on import or set low_memory=False.\n",
      "  has_raised = await self.run_ast_nodes(code_ast.body, cell_name,\n"
     ]
    },
    {
     "name": "stdout",
     "output_type": "stream",
     "text": [
      "Processing 7213270040.csv\n"
     ]
    },
    {
     "name": "stderr",
     "output_type": "stream",
     "text": [
      "C:\\Users\\guilhem.leprince\\Anaconda3\\lib\\site-packages\\IPython\\core\\interactiveshell.py:3106: DtypeWarning: Columns (7,16,42,45,46,47,48,50,51,53,54,56,57,59,60,62,63,65,66,68,69,72,74,75,77,78,80,81,83,84,85,87,90,93,95,96,98,99,101,102,104,105,108,110,111,113,114,117,119,120,122,123,126,127,129,132,135,138,141,144,147,150,153,156,159,162,165,168,171,174,177,180,183,186,189,192,195,198,201,204,207,210,213,216,219,222,225,228,231,234,237,240,243,246,249,252,255,258,261,264,267,270,273,276,279,282,285,288,291,294,297,300,303,306,309,312) have mixed types.Specify dtype option on import or set low_memory=False.\n",
      "  has_raised = await self.run_ast_nodes(code_ast.body, cell_name,\n"
     ]
    },
    {
     "name": "stdout",
     "output_type": "stream",
     "text": [
      "Processing 7234679669.csv\n"
     ]
    },
    {
     "name": "stderr",
     "output_type": "stream",
     "text": [
      "C:\\Users\\guilhem.leprince\\Anaconda3\\lib\\site-packages\\IPython\\core\\interactiveshell.py:3106: DtypeWarning: Columns (7,16,38,39,42,45,46,47,48,50,51,53,54,56,57,59,60,62,63,65,66,68,69,72,74,75,77,78,80,81,83,84,85,87,90,93,95,96,98,99,101,102,104,105,108,110,111,113,114,117,119,120,122,123,126,127,129,132,135,138,141,144,147,150,153,156,159,162,165,168,171,174,177,180,183,186,189,192,195,198,201,204,207,210,213,216,219,222,225,228,231,234,237,240,243,246,249,252,255,258,261,264,267,270,273,276,279,282,285,288,291,294,297,300,303,306,309,312) have mixed types.Specify dtype option on import or set low_memory=False.\n",
      "  has_raised = await self.run_ast_nodes(code_ast.body, cell_name,\n"
     ]
    },
    {
     "name": "stdout",
     "output_type": "stream",
     "text": [
      "Processing 7236059420.csv\n"
     ]
    },
    {
     "name": "stderr",
     "output_type": "stream",
     "text": [
      "C:\\Users\\guilhem.leprince\\Anaconda3\\lib\\site-packages\\IPython\\core\\interactiveshell.py:3106: DtypeWarning: Columns (38,46,53,65,68,85,108,110,111,113,114,117,119,120,122,123,126,127,129,132,135,138,141,144,147,150,153,156,159,162,165,168,171,174,177,180,183,186,189,192,195,198,201,204,207,210,213,216,219,222,225,228,231,234,237,240,243,246,249,252,255,258,261,264,267,270,273,276,279,282,285,288,291,294,297,300,303,306,309,312) have mixed types.Specify dtype option on import or set low_memory=False.\n",
      "  has_raised = await self.run_ast_nodes(code_ast.body, cell_name,\n"
     ]
    },
    {
     "name": "stdout",
     "output_type": "stream",
     "text": [
      "Processing 7244801493.csv\n"
     ]
    },
    {
     "name": "stderr",
     "output_type": "stream",
     "text": [
      "C:\\Users\\guilhem.leprince\\Anaconda3\\lib\\site-packages\\IPython\\core\\interactiveshell.py:3106: DtypeWarning: Columns (7,16,23,42,45,46,47,48,50,51,53,54,56,57,59,60,62,63,65,66,68,69,72,74,75,77,78,80,81,83,84,85,87,90,93,95,96,98,99,101,102,104,105,108,110,111,113,114,117,119,120,122,123,126,127,129,132,135,138,141,144,147,150,153,156,159,162,165,168,171,174,177,180,183,186,189,192,195,198,201,204,207,210,213,216,219,222,225,228,231,234,237,240,243,246,249,252,255,258,261,264,267,270,273,276,279,282,285,288,291,294,297,300,303,306,309,312) have mixed types.Specify dtype option on import or set low_memory=False.\n",
      "  has_raised = await self.run_ast_nodes(code_ast.body, cell_name,\n"
     ]
    },
    {
     "name": "stdout",
     "output_type": "stream",
     "text": [
      "Processing 7246118832.csv\n"
     ]
    },
    {
     "name": "stderr",
     "output_type": "stream",
     "text": [
      "C:\\Users\\guilhem.leprince\\Anaconda3\\lib\\site-packages\\IPython\\core\\interactiveshell.py:3106: DtypeWarning: Columns (7,16,38,39,42,45,46,47,48,50,51,53,54,56,57,59,60,62,63,65,66,68,69,72,74,75,77,78,80,81,83,84,85,87,90,93,95,96,98,99,101,102,104,105,108,110,111,113,114,117,119,120,122,123,126,127,129,132,135,138,141,144,147,150,153,156,159,162,165,168,171,174,177,180,183,186,189,192,195,198,201,204,207,210,213,216,219,222,225,228,231,234,237,240,243,246,249,252,255,258,261,264,267,270,273,276,279,282,285,288,291,294,297,300,303,306,309,312) have mixed types.Specify dtype option on import or set low_memory=False.\n",
      "  has_raised = await self.run_ast_nodes(code_ast.body, cell_name,\n"
     ]
    },
    {
     "name": "stdout",
     "output_type": "stream",
     "text": [
      "Processing 7253202754.csv\n"
     ]
    },
    {
     "name": "stderr",
     "output_type": "stream",
     "text": [
      "C:\\Users\\guilhem.leprince\\Anaconda3\\lib\\site-packages\\IPython\\core\\interactiveshell.py:3106: DtypeWarning: Columns (7,16,23,42,45,46,47,48,50,51,53,54,56,57,59,60,62,63,65,66,68,69,72,74,75,77,78,80,81,83,84,85,87,90,93,95,96,98,99,101,102,104,105,108,110,111,113,114,117,119,120,122,123,126,127,129,132,135,138,141,144,147,150,153,156,159,162,165,168,171,174,177,180,183,186,189,192,195,198,201,204,207,210,213,216,219,222,225,228,231,234,237,240,243,246,249,252,255,258,261,264,267,270,273,276,279,282,285,288,291,294,297,300,303,306,309,312) have mixed types.Specify dtype option on import or set low_memory=False.\n",
      "  has_raised = await self.run_ast_nodes(code_ast.body, cell_name,\n"
     ]
    },
    {
     "name": "stdout",
     "output_type": "stream",
     "text": [
      "Processing 7253212399.csv\n"
     ]
    },
    {
     "name": "stderr",
     "output_type": "stream",
     "text": [
      "C:\\Users\\guilhem.leprince\\Anaconda3\\lib\\site-packages\\IPython\\core\\interactiveshell.py:3106: DtypeWarning: Columns (7,16,38,39,42,45,46,47,48,50,51,53,54,56,57,59,60,62,63,65,66,68,69,72,74,75,77,78,80,81,83,84,85,87,90,93,95,96,98,99,101,102,104,105,108,110,111,113,114,117,119,120,122,123,126,127,129,132,135,138,141,144,147,150,153,156,159,162,165,168,171,174,177,180,183,186,189,192,195,198,201,204,207,210,213,216,219,222,225,228,231,234,237,240,243,246,249,252,255,258,261,264,267,270,273,276,279,282,285,288,291,294,297,300,303,306,309,312) have mixed types.Specify dtype option on import or set low_memory=False.\n",
      "  has_raised = await self.run_ast_nodes(code_ast.body, cell_name,\n"
     ]
    },
    {
     "name": "stdout",
     "output_type": "stream",
     "text": [
      "Processing 7287130677.csv\n"
     ]
    },
    {
     "name": "stderr",
     "output_type": "stream",
     "text": [
      "C:\\Users\\guilhem.leprince\\Anaconda3\\lib\\site-packages\\IPython\\core\\interactiveshell.py:3106: DtypeWarning: Columns (7,16,23,26,42,45,46,47,48,50,51,53,54,56,57,59,60,62,63,65,66,68,69,72,74,75,77,78,80,81,83,84,85,87,90,93,95,96,98,99,101,102,104,105,108,110,111,113,114,117,119,120,122,123,126,127,129,132,135,138,141,144,147,150,153,156,159,162,165,168,171,174,177,180,183,186,189,192,195,198,201,204,207,210,213,216,219,222,225,228,231,234,237,240,243,246,249,252,255,258,261,264,267,270,273,276,279,282,285,288,291,294,297,300,303,306,309,312) have mixed types.Specify dtype option on import or set low_memory=False.\n",
      "  has_raised = await self.run_ast_nodes(code_ast.body, cell_name,\n"
     ]
    },
    {
     "name": "stdout",
     "output_type": "stream",
     "text": [
      "Processing 7290380842.csv\n"
     ]
    },
    {
     "name": "stderr",
     "output_type": "stream",
     "text": [
      "C:\\Users\\guilhem.leprince\\Anaconda3\\lib\\site-packages\\IPython\\core\\interactiveshell.py:3106: DtypeWarning: Columns (7,16,42,45,46,47,48,50,51,53,54,56,57,59,60,62,63,65,66,68,69,72,74,75,77,78,80,81,83,84,85,87,90,93,95,96,98,99,101,102,104,105,108,110,111,113,114,117,119,120,122,123,126,127,129,132,135,138,141,144,147,150,153,156,159,162,165,168,171,174,177,180,183,186,189,192,195,198,201,204,207,210,213,216,219,222,225,228,231,234,237,240,243,246,249,252,255,258,261,264,267,270,273,276,279,282,285,288,291,294,297,300,303,306,309,312) have mixed types.Specify dtype option on import or set low_memory=False.\n",
      "  has_raised = await self.run_ast_nodes(code_ast.body, cell_name,\n"
     ]
    },
    {
     "name": "stdout",
     "output_type": "stream",
     "text": [
      "Processing 7313906763.csv\n",
      "Processing 7326879124.csv\n"
     ]
    },
    {
     "name": "stderr",
     "output_type": "stream",
     "text": [
      "C:\\Users\\guilhem.leprince\\Anaconda3\\lib\\site-packages\\IPython\\core\\interactiveshell.py:3106: DtypeWarning: Columns (46,65,68,71,85,110,113,119,122,127,267,270,273,276,279,282,285,288,291,294,297,300,303,306,309,312) have mixed types.Specify dtype option on import or set low_memory=False.\n",
      "  has_raised = await self.run_ast_nodes(code_ast.body, cell_name,\n",
      "C:\\Users\\guilhem.leprince\\Anaconda3\\lib\\site-packages\\IPython\\core\\interactiveshell.py:3106: DtypeWarning: Columns (7,16,38,39,42,45,46,47,48,50,51,53,54,56,57,59,60,62,63,65,66,68,69,72,74,75,77,78,80,81,83,84,85,87,90,93,95,96,98,99,101,102,104,105,108,110,111,113,114,117,119,120,122,123,126,127,129,132,135,138,141,144,147,150,153,156,159,162,165,168,171,174,177,180,183,186,189,192,195,198,201,204,207,210,213,216,219,222,225,228,231,234,237,240,243,246,249,252,255,258,261,264,267,270,273,276,279,282,285,288,291,294,297,300,303,306,309,312) have mixed types.Specify dtype option on import or set low_memory=False.\n",
      "  has_raised = await self.run_ast_nodes(code_ast.body, cell_name,\n"
     ]
    },
    {
     "name": "stdout",
     "output_type": "stream",
     "text": [
      "Processing 7349673256.csv\n",
      "Processing 7364301316.csv\n"
     ]
    },
    {
     "name": "stderr",
     "output_type": "stream",
     "text": [
      "C:\\Users\\guilhem.leprince\\Anaconda3\\lib\\site-packages\\IPython\\core\\interactiveshell.py:3106: DtypeWarning: Columns (46,53,65,68,85,110,113,119,122,127,267,270,273,276,279,282,285,288,291,294,297,300,303,306,309,312) have mixed types.Specify dtype option on import or set low_memory=False.\n",
      "  has_raised = await self.run_ast_nodes(code_ast.body, cell_name,\n",
      "C:\\Users\\guilhem.leprince\\Anaconda3\\lib\\site-packages\\IPython\\core\\interactiveshell.py:3106: DtypeWarning: Columns (7,16,23,38,39,42,45,46,47,48,50,51,53,54,56,57,59,60,62,63,65,66,68,69,72,74,75,77,78,80,81,83,84,85,87,90,93,95,96,98,99,101,102,104,105,108,110,111,113,114,117,119,120,122,123,126,127,129,132,135,138,141,144,147,150,153,156,159,162,165,168,171,174,177,180,183,186,189,192,195,198,201,204,207,210,213,216,219,222,225,228,231,234,237,240,243,246,249,252,255,258,261,264,267,270,273,276,279,282,285,288,291,294,297,300,303,306,309,312) have mixed types.Specify dtype option on import or set low_memory=False.\n",
      "  has_raised = await self.run_ast_nodes(code_ast.body, cell_name,\n"
     ]
    },
    {
     "name": "stdout",
     "output_type": "stream",
     "text": [
      "Processing 7370435075.csv\n"
     ]
    },
    {
     "name": "stderr",
     "output_type": "stream",
     "text": [
      "C:\\Users\\guilhem.leprince\\Anaconda3\\lib\\site-packages\\IPython\\core\\interactiveshell.py:3106: DtypeWarning: Columns (7,16,42,45,46,47,48,50,51,53,54,56,57,59,60,62,63,65,66,68,69,72,74,75,77,78,80,81,83,84,85,87,90,93,95,96,98,99,101,102,104,105,108,110,111,113,114,117,119,120,122,123,126,127,129,132,135,138,141,144,147,150,153,156,159,162,165,168,171,174,177,180,183,186,189,192,195,198,201,204,207,210,213,216,219,222,225,228,231,234,237,240,243,246,249,252,255,258,261,264,267,270,273,276,279,282,285,288,291,294,297,300,303,306,309,312) have mixed types.Specify dtype option on import or set low_memory=False.\n",
      "  has_raised = await self.run_ast_nodes(code_ast.body, cell_name,\n"
     ]
    },
    {
     "name": "stdout",
     "output_type": "stream",
     "text": [
      "Processing 7374469719.csv\n"
     ]
    },
    {
     "name": "stderr",
     "output_type": "stream",
     "text": [
      "C:\\Users\\guilhem.leprince\\Anaconda3\\lib\\site-packages\\IPython\\core\\interactiveshell.py:3106: DtypeWarning: Columns (7,16,38,39,42,45,46,47,48,50,51,53,54,56,57,59,60,62,63,65,66,68,69,72,74,75,77,78,80,81,83,84,85,87,90,93,95,96,98,99,101,102,104,105,108,110,111,113,114,117,119,120,122,123,126,127,129,132,135,138,141,144,147,150,153,156,159,162,165,168,171,174,177,180,183,186,189,192,195,198,201,204,207,210,213,216,219,222,225,228,231,234,237,240,243,246,249,252,255,258,261,264,267,270,273,276,279,282,285,288,291,294,297,300,303,306,309,312) have mixed types.Specify dtype option on import or set low_memory=False.\n",
      "  has_raised = await self.run_ast_nodes(code_ast.body, cell_name,\n",
      "C:\\Users\\guilhem.leprince\\Anaconda3\\lib\\site-packages\\IPython\\core\\interactiveshell.py:3106: DtypeWarning: Columns (38,46,53,65,68,110,113,119,122,267,270,273,276,279,282,285,288,291,294,297,300,303,306,309,312) have mixed types.Specify dtype option on import or set low_memory=False.\n",
      "  has_raised = await self.run_ast_nodes(code_ast.body, cell_name,\n"
     ]
    },
    {
     "name": "stdout",
     "output_type": "stream",
     "text": [
      "Processing 7380605009.csv\n",
      "Processing 7386986011.csv\n",
      "Processing 7401428624.csv\n"
     ]
    },
    {
     "name": "stderr",
     "output_type": "stream",
     "text": [
      "C:\\Users\\guilhem.leprince\\Anaconda3\\lib\\site-packages\\IPython\\core\\interactiveshell.py:3106: DtypeWarning: Columns (46,53,65,68,85,108,110,111,113,114,117,119,120,122,123,126,127,129,132,135,138,141,144,147,150,153,156,159,162,165,168,171,174,177,180,183,186,189,192,195,198,201,204,207,210,213,216,219,222,225,228,231,234,237,240,243,246,249,252,255,258,261,264,267,270,273,276,279,282,285,288,291,294,297,300,303,306,309,312) have mixed types.Specify dtype option on import or set low_memory=False.\n",
      "  has_raised = await self.run_ast_nodes(code_ast.body, cell_name,\n",
      "C:\\Users\\guilhem.leprince\\Anaconda3\\lib\\site-packages\\IPython\\core\\interactiveshell.py:3106: DtypeWarning: Columns (37,44,77,80,89,92,231,234,237,240,243,246) have mixed types.Specify dtype option on import or set low_memory=False.\n",
      "  has_raised = await self.run_ast_nodes(code_ast.body, cell_name,\n"
     ]
    },
    {
     "name": "stdout",
     "output_type": "stream",
     "text": [
      "Processing 7407871542.csv\n"
     ]
    },
    {
     "name": "stderr",
     "output_type": "stream",
     "text": [
      "C:\\Users\\guilhem.leprince\\Anaconda3\\lib\\site-packages\\IPython\\core\\interactiveshell.py:3106: DtypeWarning: Columns (7,16,42,45,46,47,48,50,51,53,54,56,57,59,60,62,63,65,66,68,69,72,74,75,77,78,80,81,83,84,85,87,90,93,95,96,98,99,101,102,104,105,108,110,111,113,114,117,119,120,122,123,126,127,129,132,135,138,141,144,147,150,153,156,159,162,165,168,171,174,177,180,183,186,189,192,195,198,201,204,207,210,213,216,219,222,225,228,231,234,237,240,243,246,249,252,255,258,261,264,267,270,273,276,279,282,285,288,291,294,297,300,303,306,309,312) have mixed types.Specify dtype option on import or set low_memory=False.\n",
      "  has_raised = await self.run_ast_nodes(code_ast.body, cell_name,\n"
     ]
    },
    {
     "name": "stdout",
     "output_type": "stream",
     "text": [
      "Processing 7430063945.csv\n",
      "Processing 7437703422.csv\n"
     ]
    },
    {
     "name": "stderr",
     "output_type": "stream",
     "text": [
      "C:\\Users\\guilhem.leprince\\Anaconda3\\lib\\site-packages\\IPython\\core\\interactiveshell.py:3106: DtypeWarning: Columns (46,53,65,68,85,110,113,119,122,127,267,270,273,276,279,282,285,288,291,294,297,300,303,306,309,312) have mixed types.Specify dtype option on import or set low_memory=False.\n",
      "  has_raised = await self.run_ast_nodes(code_ast.body, cell_name,\n",
      "C:\\Users\\guilhem.leprince\\Anaconda3\\lib\\site-packages\\IPython\\core\\interactiveshell.py:3106: DtypeWarning: Columns (7,16,38,39,42,45,46,47,48,50,51,53,54,56,57,59,60,62,63,65,66,68,69,72,74,75,77,78,80,81,83,84,85,87,90,93,95,96,98,99,101,102,104,105,108,110,111,113,114,117,119,120,122,123,126,127,129,132,135,138,141,144,147,150,153,156,159,162,165,168,171,174,177,180,183,186,189,192,195,198,201,204,207,210,213,216,219,222,225,228,231,234,237,240,243,246,249,252,255,258,261,264,267,270,273,276,279,282,285,288,291,294,297,300,303,306,309,312) have mixed types.Specify dtype option on import or set low_memory=False.\n",
      "  has_raised = await self.run_ast_nodes(code_ast.body, cell_name,\n"
     ]
    },
    {
     "name": "stdout",
     "output_type": "stream",
     "text": [
      "Processing 7441884490.csv\n"
     ]
    },
    {
     "name": "stderr",
     "output_type": "stream",
     "text": [
      "C:\\Users\\guilhem.leprince\\Anaconda3\\lib\\site-packages\\IPython\\core\\interactiveshell.py:3106: DtypeWarning: Columns (7,16,42,45,46,47,48,50,51,53,54,56,57,59,60,62,63,65,66,68,69,72,74,75,77,78,80,81,83,84,85,87,90,93,95,96,98,99,101,102,104,105,108,110,111,113,114,117,119,120,122,123,126,127,129,132,135,138,141,144,147,150,153,156,159,162,165,168,171,174,177,180,183,186,189,192,195,198,201,204,207,210,213,216,219,222,225,228,231,234,237,240,243,246,249,252,255,258,261,264,267,270,273,276,279,282,285,288,291,294,297,300,303,306,309,312) have mixed types.Specify dtype option on import or set low_memory=False.\n",
      "  has_raised = await self.run_ast_nodes(code_ast.body, cell_name,\n"
     ]
    },
    {
     "name": "stdout",
     "output_type": "stream",
     "text": [
      "Processing 7448560929.csv\n"
     ]
    },
    {
     "name": "stderr",
     "output_type": "stream",
     "text": [
      "C:\\Users\\guilhem.leprince\\Anaconda3\\lib\\site-packages\\IPython\\core\\interactiveshell.py:3106: DtypeWarning: Columns (7,16,38,46,47,50,51,53,54,56,57,59,60,62,63,65,66,68,69,72,74,75,77,78,80,81,83,84,85,87,90,93,95,96,98,99,101,102,104,105,108,110,111,113,114,117,119,120,122,123,126,127,129,132,135,138,141,144,147,150,153,156,159,162,165,168,171,174,177,180,183,186,189,192,195,198,201,204,207,210,213,216,219,222,225,228,231,234,237,240,243,246,249,252,255,258,261,264,267,270,273,276,279,282,285,288,291,294,297,300,303,306,309,312) have mixed types.Specify dtype option on import or set low_memory=False.\n",
      "  has_raised = await self.run_ast_nodes(code_ast.body, cell_name,\n"
     ]
    },
    {
     "name": "stdout",
     "output_type": "stream",
     "text": [
      "Processing 7452783334.csv\n"
     ]
    },
    {
     "name": "stderr",
     "output_type": "stream",
     "text": [
      "C:\\Users\\guilhem.leprince\\Anaconda3\\lib\\site-packages\\IPython\\core\\interactiveshell.py:3106: DtypeWarning: Columns (7,16,38,39,42,45,46,47,48,50,51,53,54,56,57,59,60,62,63,65,66,68,69,72,74,75,77,78,80,81,83,84,85,87,90,93,95,96,98,99,101,102,104,105,108,110,111,113,114,117,119,120,122,123,126,127,129,132,135,138,141,144,147,150,153,156,159,162,165,168,171,174,177,180,183,186,189,192,195,198,201,204,207,210,213,216,219,222,225,228,231,234,237,240,243,246,249,252,255,258,261,264,267,270,273,276,279,282,285,288,291,294,297,300,303,306,309,312) have mixed types.Specify dtype option on import or set low_memory=False.\n",
      "  has_raised = await self.run_ast_nodes(code_ast.body, cell_name,\n"
     ]
    },
    {
     "name": "stdout",
     "output_type": "stream",
     "text": [
      "Processing 7471958569.csv\n"
     ]
    },
    {
     "name": "stderr",
     "output_type": "stream",
     "text": [
      "C:\\Users\\guilhem.leprince\\Anaconda3\\lib\\site-packages\\IPython\\core\\interactiveshell.py:3106: DtypeWarning: Columns (7,16,23,38,39,42,45,46,47,48,50,51,53,54,56,57,59,60,62,63,65,66,68,69,72,74,75,77,78,80,81,83,84,85,87,90,93,95,96,98,99,101,102,104,105,108,110,111,113,114,117,119,120,122,123,126,127,129,132,135,138,141,144,147,150,153,156,159,162,165,168,171,174,177,180,183,186,189,192,195,198,201,204,207,210,213,216,219,222,225,228,231,234,237,240,243,246,249,252,255,258,261,264,267,270,273,276,279,282,285,288,291,294,297,300,303,306,309,312) have mixed types.Specify dtype option on import or set low_memory=False.\n",
      "  has_raised = await self.run_ast_nodes(code_ast.body, cell_name,\n"
     ]
    },
    {
     "name": "stdout",
     "output_type": "stream",
     "text": [
      "Processing 7526161104.csv\n",
      "Processing 7545488871.csv\n"
     ]
    },
    {
     "name": "stderr",
     "output_type": "stream",
     "text": [
      "C:\\Users\\guilhem.leprince\\Anaconda3\\lib\\site-packages\\IPython\\core\\interactiveshell.py:3106: DtypeWarning: Columns (46,53,65,68,85,110,113,119,122,127,267,270,273,276,279,282,285,288,291,294,297,300,303,306,309,312) have mixed types.Specify dtype option on import or set low_memory=False.\n",
      "  has_raised = await self.run_ast_nodes(code_ast.body, cell_name,\n",
      "C:\\Users\\guilhem.leprince\\Anaconda3\\lib\\site-packages\\IPython\\core\\interactiveshell.py:3106: DtypeWarning: Columns (46,53,65,68,85,108,110,111,113,114,117,119,120,122,123,126,127,129,132,135,138,141,144,147,150,153,156,159,162,165,168,171,174,177,180,183,186,189,192,195,198,201,204,207,210,213,216,219,222,225,228,231,234,237,240,243,246,249,252,255,258,261,264,267,270,273,276,279,282,285,288,291,294,297,300,303,306,309,312) have mixed types.Specify dtype option on import or set low_memory=False.\n",
      "  has_raised = await self.run_ast_nodes(code_ast.body, cell_name,\n"
     ]
    },
    {
     "name": "stdout",
     "output_type": "stream",
     "text": [
      "Processing 7566851396.csv\n",
      "Processing 7579234555.csv\n"
     ]
    },
    {
     "name": "stderr",
     "output_type": "stream",
     "text": [
      "C:\\Users\\guilhem.leprince\\Anaconda3\\lib\\site-packages\\IPython\\core\\interactiveshell.py:3106: DtypeWarning: Columns (38,43,62,65,91,104,107,115,125,128,142,243,246,249,252,255,258,261,264,267,270,273,276,279) have mixed types.Specify dtype option on import or set low_memory=False.\n",
      "  has_raised = await self.run_ast_nodes(code_ast.body, cell_name,\n",
      "C:\\Users\\guilhem.leprince\\Anaconda3\\lib\\site-packages\\IPython\\core\\interactiveshell.py:3106: DtypeWarning: Columns (7,16,38,39,42,45,46,47,48,50,51,53,54,56,57,59,60,62,63,65,66,68,69,72,74,75,77,78,80,81,83,84,85,87,90,93,95,96,98,99,101,102,104,105,108,110,111,113,114,117,119,120,122,123,126,127,129,132,135,138,141,144,147,150,153,156,159,162,165,168,171,174,177,180,183,186,189,192,195,198,201,204,207,210,213,216,219,222,225,228,231,234,237,240,243,246,249,252,255,258,261,264,267,270,273,276,279,282,285,288,291,294,297,300,303,306,309,312) have mixed types.Specify dtype option on import or set low_memory=False.\n",
      "  has_raised = await self.run_ast_nodes(code_ast.body, cell_name,\n"
     ]
    },
    {
     "name": "stdout",
     "output_type": "stream",
     "text": [
      "Processing 7601565238.csv\n",
      "Processing 7616500299.csv\n"
     ]
    },
    {
     "name": "stderr",
     "output_type": "stream",
     "text": [
      "C:\\Users\\guilhem.leprince\\Anaconda3\\lib\\site-packages\\IPython\\core\\interactiveshell.py:3106: DtypeWarning: Columns (46,53,65,68,85,110,113,119,122,127,267,270,273,276,279,282,285,288,291,294,297,300,303,306,309,312) have mixed types.Specify dtype option on import or set low_memory=False.\n",
      "  has_raised = await self.run_ast_nodes(code_ast.body, cell_name,\n",
      "C:\\Users\\guilhem.leprince\\Anaconda3\\lib\\site-packages\\IPython\\core\\interactiveshell.py:3106: DtypeWarning: Columns (32,35,43,50,62,65,85,92,93,95,96,99,101,102,104,105,108,111,114,117,120,123,126,127,129,132,135,138,141,144,147,150,153,156,159,162,165,168,171,174,177,180,183,186,189,192,195,198,201,204,207,210,213,216,219,222,225,228,231,234,237,240,243,246,249,252,255,258,261,264,267,270,273,276,279,282,285,288,291,294,297,300,303,306,309,312) have mixed types.Specify dtype option on import or set low_memory=False.\n",
      "  has_raised = await self.run_ast_nodes(code_ast.body, cell_name,\n"
     ]
    },
    {
     "name": "stdout",
     "output_type": "stream",
     "text": [
      "Processing 7625459573.csv\n",
      "Processing 7637966353.csv\n"
     ]
    },
    {
     "name": "stderr",
     "output_type": "stream",
     "text": [
      "C:\\Users\\guilhem.leprince\\Anaconda3\\lib\\site-packages\\IPython\\core\\interactiveshell.py:3106: DtypeWarning: Columns (46,53,65,68,85,110,113,119,122,127,267,270,273,276,279,282,285,288,291,294,297,300,303,306,309,312) have mixed types.Specify dtype option on import or set low_memory=False.\n",
      "  has_raised = await self.run_ast_nodes(code_ast.body, cell_name,\n",
      "C:\\Users\\guilhem.leprince\\Anaconda3\\lib\\site-packages\\IPython\\core\\interactiveshell.py:3106: DtypeWarning: Columns (7,16,42,45,46,47,48,50,51,53,54,56,57,59,60,62,63,65,66,68,69,72,74,75,77,78,80,81,83,84,85,87,90,93,95,96,98,99,101,102,104,105,108,110,111,113,114,117,119,120,122,123,126,127,129,132,135,138,141,144,147,150,153,156,159,162,165,168,171,174,177,180,183,186,189,192,195,198,201,204,207,210,213,216,219,222,225,228,231,234,237,240,243,246,249,252,255,258,261,264,267,270,273,276,279,282,285,288,291,294,297,300,303,306,309,312) have mixed types.Specify dtype option on import or set low_memory=False.\n",
      "  has_raised = await self.run_ast_nodes(code_ast.body, cell_name,\n"
     ]
    },
    {
     "name": "stdout",
     "output_type": "stream",
     "text": [
      "Processing 7663348864.csv\n",
      "Processing 7675594038.csv\n"
     ]
    },
    {
     "name": "stderr",
     "output_type": "stream",
     "text": [
      "C:\\Users\\guilhem.leprince\\Anaconda3\\lib\\site-packages\\IPython\\core\\interactiveshell.py:3106: DtypeWarning: Columns (46,53,65,68,85,110,113,119,122,127,267,270,273,276,279,282,285,288,291,294,297,300,303,306,309,312) have mixed types.Specify dtype option on import or set low_memory=False.\n",
      "  has_raised = await self.run_ast_nodes(code_ast.body, cell_name,\n",
      "C:\\Users\\guilhem.leprince\\Anaconda3\\lib\\site-packages\\IPython\\core\\interactiveshell.py:3106: DtypeWarning: Columns (7,16,42,45,46,47,48,50,51,53,54,56,57,59,60,62,63,65,66,68,69,72,74,75,77,78,80,81,83,84,85,87,90,93,95,96,98,99,101,102,104,105,108,110,111,113,114,117,119,120,122,123,126,127,129,132,135,138,141,144,147,150,153,156,159,162,165,168,171,174,177,180,183,186,189,192,195,198,201,204,207,210,213,216,219,222,225,228,231,234,237,240,243,246,249,252,255,258,261,264,267,270,273,276,279,282,285,288,291,294,297,300,303,306,309,312) have mixed types.Specify dtype option on import or set low_memory=False.\n",
      "  has_raised = await self.run_ast_nodes(code_ast.body, cell_name,\n"
     ]
    },
    {
     "name": "stdout",
     "output_type": "stream",
     "text": [
      "Processing 7680591634.csv\n"
     ]
    },
    {
     "name": "stderr",
     "output_type": "stream",
     "text": [
      "C:\\Users\\guilhem.leprince\\Anaconda3\\lib\\site-packages\\IPython\\core\\interactiveshell.py:3106: DtypeWarning: Columns (7,16,23,38,39,42,45,46,47,48,50,51,53,54,56,57,59,60,62,63,65,66,68,69,72,74,75,77,78,80,81,83,84,85,87,90,93,95,96,98,99,101,102,104,105,108,110,111,113,114,117,119,120,122,123,126,127,129,132,135,138,141,144,147,150,153,156,159,162,165,168,171,174,177,180,183,186,189,192,195,198,201,204,207,210,213,216,219,222,225,228,231,234,237,240,243,246,249,252,255,258,261,264,267,270,273,276,279,282,285,288,291,294,297,300,303,306,309,312) have mixed types.Specify dtype option on import or set low_memory=False.\n",
      "  has_raised = await self.run_ast_nodes(code_ast.body, cell_name,\n"
     ]
    },
    {
     "name": "stdout",
     "output_type": "stream",
     "text": [
      "Processing 7686332313.csv\n"
     ]
    },
    {
     "name": "stderr",
     "output_type": "stream",
     "text": [
      "C:\\Users\\guilhem.leprince\\Anaconda3\\lib\\site-packages\\IPython\\core\\interactiveshell.py:3106: DtypeWarning: Columns (7,16,23,38,39,42,45,46,47,48,50,51,53,54,56,57,59,60,62,63,65,66,68,69,72,74,75,77,78,80,81,83,84,85,87,90,93,95,96,98,99,101,102,104,105,108,110,111,113,114,117,119,120,122,123,126,127,129,132,135,138,141,144,147,150,153,156,159,162,165,168,171,174,177,180,183,186,189,192,195,198,201,204,207,210,213,216,219,222,225,228,231,234,237,240,243,246,249,252,255,258,261,264,267,270,273,276,279,282,285,288,291,294,297,300,303,306,309,312) have mixed types.Specify dtype option on import or set low_memory=False.\n",
      "  has_raised = await self.run_ast_nodes(code_ast.body, cell_name,\n"
     ]
    },
    {
     "name": "stdout",
     "output_type": "stream",
     "text": [
      "Processing 7690642910.csv\n"
     ]
    },
    {
     "name": "stderr",
     "output_type": "stream",
     "text": [
      "C:\\Users\\guilhem.leprince\\Anaconda3\\lib\\site-packages\\IPython\\core\\interactiveshell.py:3106: DtypeWarning: Columns (7,16,23,38,39,42,45,46,47,48,50,51,53,54,56,57,59,60,62,63,65,66,68,69,72,74,75,77,78,80,81,83,84,85,87,90,93,95,96,98,99,101,102,104,105,108,110,111,113,114,117,119,120,122,123,126,127,129,132,135,138,141,144,147,150,153,156,159,162,165,168,171,174,177,180,183,186,189,192,195,198,201,204,207,210,213,216,219,222,225,228,231,234,237,240,243,246,249,252,255,258,261,264,267,270,273,276,279,282,285,288,291,294,297,300,303,306,309,312) have mixed types.Specify dtype option on import or set low_memory=False.\n",
      "  has_raised = await self.run_ast_nodes(code_ast.body, cell_name,\n",
      "C:\\Users\\guilhem.leprince\\Anaconda3\\lib\\site-packages\\IPython\\core\\interactiveshell.py:3106: DtypeWarning: Columns (46,53,65,68,85,110,113,119,122,127,267,270,273,276,279,282,285,288,291,294,297,300,303,306,309,312) have mixed types.Specify dtype option on import or set low_memory=False.\n",
      "  has_raised = await self.run_ast_nodes(code_ast.body, cell_name,\n"
     ]
    },
    {
     "name": "stdout",
     "output_type": "stream",
     "text": [
      "Processing 7718630378.csv\n",
      "Processing 7721547954.csv\n",
      "Processing 7725515883.csv\n"
     ]
    },
    {
     "name": "stderr",
     "output_type": "stream",
     "text": [
      "C:\\Users\\guilhem.leprince\\Anaconda3\\lib\\site-packages\\IPython\\core\\interactiveshell.py:3106: DtypeWarning: Columns (32,35,43,50,62,65,85,92,93,95,96,99,101,102,104,105,108,111,114,117,120,123,126,127,129,132,135,138,141,144,147,150,153,156,159,162,165,168,171,174,177,180,183,186,189,192,195,198,201,204,207,210,213,216,219,222,225,228,231,234,237,240,243,246,249,252,255,258,261,264,267,270,273,276,279,282,285,288,291,294,297,300,303,306,309,312) have mixed types.Specify dtype option on import or set low_memory=False.\n",
      "  has_raised = await self.run_ast_nodes(code_ast.body, cell_name,\n"
     ]
    },
    {
     "name": "stdout",
     "output_type": "stream",
     "text": [
      "Processing 7735653751.csv\n"
     ]
    },
    {
     "name": "stderr",
     "output_type": "stream",
     "text": [
      "C:\\Users\\guilhem.leprince\\Anaconda3\\lib\\site-packages\\IPython\\core\\interactiveshell.py:3106: DtypeWarning: Columns (7,16,42,45,46,47,48,50,51,53,54,56,57,59,60,62,63,65,66,68,69,72,74,75,77,78,80,81,83,84,85,87,90,93,95,96,98,99,101,102,104,105,108,110,111,113,114,117,119,120,122,123,126,127,129,132,135,138,141,144,147,150,153,156,159,162,165,168,171,174,177,180,183,186,189,192,195,198,201,204,207,210,213,216,219,222,225,228,231,234,237,240,243,246,249,252,255,258,261,264,267,270,273,276,279,282,285,288,291,294,297,300,303,306,309,312) have mixed types.Specify dtype option on import or set low_memory=False.\n",
      "  has_raised = await self.run_ast_nodes(code_ast.body, cell_name,\n"
     ]
    },
    {
     "name": "stdout",
     "output_type": "stream",
     "text": [
      "Processing 7742215222.csv\n"
     ]
    },
    {
     "name": "stderr",
     "output_type": "stream",
     "text": [
      "C:\\Users\\guilhem.leprince\\Anaconda3\\lib\\site-packages\\IPython\\core\\interactiveshell.py:3106: DtypeWarning: Columns (7,16,42,45,46,47,48,50,51,53,54,56,57,59,60,62,63,65,66,68,69,72,74,75,77,78,80,81,83,84,85,87,90,93,95,96,98,99,101,102,104,105,108,110,111,113,114,117,119,120,122,123,126,127,129,132,135,138,141,144,147,150,153,156,159,162,165,168,171,174,177,180,183,186,189,192,195,198,201,204,207,210,213,216,219,222,225,228,231,234,237,240,243,246,249,252,255,258,261,264,267,270,273,276,279,282,285,288,291,294,297,300,303,306,309,312) have mixed types.Specify dtype option on import or set low_memory=False.\n",
      "  has_raised = await self.run_ast_nodes(code_ast.body, cell_name,\n"
     ]
    },
    {
     "name": "stdout",
     "output_type": "stream",
     "text": [
      "Processing 7765670478.csv\n"
     ]
    },
    {
     "name": "stderr",
     "output_type": "stream",
     "text": [
      "C:\\Users\\guilhem.leprince\\Anaconda3\\lib\\site-packages\\IPython\\core\\interactiveshell.py:3106: DtypeWarning: Columns (7,16,23,26,42,45,46,47,48,50,51,53,54,56,57,59,60,62,63,65,66,68,69,72,74,75,77,78,80,81,83,84,85,87,90,93,95,96,98,99,101,102,104,105,108,110,111,113,114,117,119,120,122,123,126,127,129,132,135,138,141,144,147,150,153,156,159,162,165,168,171,174,177,180,183,186,189,192,195,198,201,204,207,210,213,216,219,222,225,228,231,234,237,240,243,246,249,252,255,258,261,264,267,270,273,276,279,282,285,288,291,294,297,300,303,306,309,312) have mixed types.Specify dtype option on import or set low_memory=False.\n",
      "  has_raised = await self.run_ast_nodes(code_ast.body, cell_name,\n"
     ]
    },
    {
     "name": "stdout",
     "output_type": "stream",
     "text": [
      "Processing 7807593718.csv\n"
     ]
    },
    {
     "name": "stderr",
     "output_type": "stream",
     "text": [
      "C:\\Users\\guilhem.leprince\\Anaconda3\\lib\\site-packages\\IPython\\core\\interactiveshell.py:3106: DtypeWarning: Columns (7,16,42,45,46,47,48,50,51,53,54,56,57,59,60,62,63,65,66,68,69,72,74,75,77,78,80,81,83,84,85,87,90,93,95,96,98,99,101,102,104,105,108,110,111,113,114,117,119,120,122,123,126,127,129,132,135,138,141,144,147,150,153,156,159,162,165,168,171,174,177,180,183,186,189,192,195,198,201,204,207,210,213,216,219,222,225,228,231,234,237,240,243,246,249,252,255,258,261,264,267,270,273,276,279,282,285,288,291,294,297,300,303,306,309,312) have mixed types.Specify dtype option on import or set low_memory=False.\n",
      "  has_raised = await self.run_ast_nodes(code_ast.body, cell_name,\n"
     ]
    },
    {
     "name": "stdout",
     "output_type": "stream",
     "text": [
      "Processing 7820938828.csv\n",
      "Processing 7850165211.csv\n"
     ]
    },
    {
     "name": "stderr",
     "output_type": "stream",
     "text": [
      "C:\\Users\\guilhem.leprince\\Anaconda3\\lib\\site-packages\\IPython\\core\\interactiveshell.py:3106: DtypeWarning: Columns (7,16,38,39,42,45,46,47,48,50,51,53,54,56,57,59,60,62,63,65,66,68,69,72,74,75,77,78,80,81,83,84,85,87,90,93,95,96,98,99,101,102,104,105,108,110,111,113,114,117,119,120,122,123,126,127,129,132,135,138,141,144,147,150,153,156,159,162,165,168,171,174,177,180,183,186,189,192,195,198,201,204,207,210,213,216,219,222,225,228,231,234,237,240,243,246,249,252,255,258,261,264,267,270,273,276,279,282,285,288,291,294,297,300,303,306,309,312) have mixed types.Specify dtype option on import or set low_memory=False.\n",
      "  has_raised = await self.run_ast_nodes(code_ast.body, cell_name,\n"
     ]
    },
    {
     "name": "stdout",
     "output_type": "stream",
     "text": [
      "Processing 7850174379.csv\n"
     ]
    },
    {
     "name": "stderr",
     "output_type": "stream",
     "text": [
      "C:\\Users\\guilhem.leprince\\Anaconda3\\lib\\site-packages\\IPython\\core\\interactiveshell.py:3106: DtypeWarning: Columns (7,16,38,39,42,45,46,47,48,50,51,53,54,56,57,59,60,62,63,65,66,68,69,72,74,75,77,78,80,81,83,84,85,87,90,93,95,96,98,99,101,102,104,105,108,110,111,113,114,117,119,120,122,123,126,127,129,132,135,138,141,144,147,150,153,156,159,162,165,168,171,174,177,180,183,186,189,192,195,198,201,204,207,210,213,216,219,222,225,228,231,234,237,240,243,246,249,252,255,258,261,264,267,270,273,276,279,282,285,288,291,294,297,300,303,306,309,312) have mixed types.Specify dtype option on import or set low_memory=False.\n",
      "  has_raised = await self.run_ast_nodes(code_ast.body, cell_name,\n"
     ]
    },
    {
     "name": "stdout",
     "output_type": "stream",
     "text": [
      "Processing 7864641817.csv\n"
     ]
    },
    {
     "name": "stderr",
     "output_type": "stream",
     "text": [
      "C:\\Users\\guilhem.leprince\\Anaconda3\\lib\\site-packages\\IPython\\core\\interactiveshell.py:3106: DtypeWarning: Columns (7,16,38,39,42,45,46,47,48,50,51,53,54,56,57,59,60,62,63,65,66,68,69,72,74,75,77,78,80,81,83,84,85,87,90,93,95,96,98,99,101,102,104,105,108,110,111,113,114,117,119,120,122,123,126,127,129,132,135,138,141,144,147,150,153,156,159,162,165,168,171,174,177,180,183,186,189,192,195,198,201,204,207,210,213,216,219,222,225,228,231,234,237,240,243,246,249,252,255,258,261,264,267,270,273,276,279,282,285,288,291,294,297,300,303,306,309,312) have mixed types.Specify dtype option on import or set low_memory=False.\n",
      "  has_raised = await self.run_ast_nodes(code_ast.body, cell_name,\n"
     ]
    },
    {
     "name": "stdout",
     "output_type": "stream",
     "text": [
      "Processing 7864652667.csv\n"
     ]
    },
    {
     "name": "stderr",
     "output_type": "stream",
     "text": [
      "C:\\Users\\guilhem.leprince\\Anaconda3\\lib\\site-packages\\IPython\\core\\interactiveshell.py:3106: DtypeWarning: Columns (7,16,38,39,42,45,46,47,48,50,51,53,54,56,57,59,60,62,63,65,66,68,69,72,74,75,77,78,80,81,83,84,85,87,90,93,95,96,98,99,101,102,104,105,108,110,111,113,114,117,119,120,122,123,126,127,129,132,135,138,141,144,147,150,153,156,159,162,165,168,171,174,177,180,183,186,189,192,195,198,201,204,207,210,213,216,219,222,225,228,231,234,237,240,243,246,249,252,255,258,261,264,267,270,273,276,279,282,285,288,291,294,297,300,303,306,309,312) have mixed types.Specify dtype option on import or set low_memory=False.\n",
      "  has_raised = await self.run_ast_nodes(code_ast.body, cell_name,\n"
     ]
    },
    {
     "name": "stdout",
     "output_type": "stream",
     "text": [
      "Processing 7879240075.csv\n"
     ]
    },
    {
     "name": "stderr",
     "output_type": "stream",
     "text": [
      "C:\\Users\\guilhem.leprince\\Anaconda3\\lib\\site-packages\\IPython\\core\\interactiveshell.py:3106: DtypeWarning: Columns (7,16,38,39,42,45,46,47,48,50,51,53,54,56,57,59,60,62,63,65,66,68,69,72,74,75,77,78,80,81,83,84,85,87,90,93,95,96,98,99,101,102,104,105,108,110,111,113,114,117,119,120,122,123,126,127,129,132,135,138,141,144,147,150,153,156,159,162,165,168,171,174,177,180,183,186,189,192,195,198,201,204,207,210,213,216,219,222,225,228,231,234,237,240,243,246,249,252,255,258,261,264,267,270,273,276,279,282,285,288,291,294,297,300,303,306,309,312) have mixed types.Specify dtype option on import or set low_memory=False.\n",
      "  has_raised = await self.run_ast_nodes(code_ast.body, cell_name,\n"
     ]
    },
    {
     "name": "stdout",
     "output_type": "stream",
     "text": [
      "Processing 7889601164.csv\n"
     ]
    },
    {
     "name": "stderr",
     "output_type": "stream",
     "text": [
      "C:\\Users\\guilhem.leprince\\Anaconda3\\lib\\site-packages\\IPython\\core\\interactiveshell.py:3106: DtypeWarning: Columns (7,16,23,38,39,42,45,46,47,48,50,51,53,54,56,57,59,60,62,63,65,66,68,69,72,74,75,77,78,80,81,83,84,85,87,90,93,95,96,98,99,101,102,104,105,108,110,111,113,114,117,119,120,122,123,126,127,129,132,135,138,141,144,147,150,153,156,159,162,165,168,171,174,177,180,183,186,189,192,195,198,201,204,207,210,213,216,219,222,225,228,231,234,237,240,243,246,249,252,255,258,261,264,267,270,273,276,279,282,285,288,291,294,297,300,303,306,309,312) have mixed types.Specify dtype option on import or set low_memory=False.\n",
      "  has_raised = await self.run_ast_nodes(code_ast.body, cell_name,\n"
     ]
    },
    {
     "name": "stdout",
     "output_type": "stream",
     "text": [
      "Processing 7894270118.csv\n"
     ]
    },
    {
     "name": "stderr",
     "output_type": "stream",
     "text": [
      "C:\\Users\\guilhem.leprince\\Anaconda3\\lib\\site-packages\\IPython\\core\\interactiveshell.py:3106: DtypeWarning: Columns (7,16,38,39,42,45,46,47,48,50,51,53,54,56,57,59,60,62,63,65,66,68,69,72,74,75,77,78,80,81,83,84,85,87,90,93,95,96,98,99,101,102,104,105,108,110,111,113,114,117,119,120,122,123,126,127,129,132,135,138,141,144,147,150,153,156,159,162,165,168,171,174,177,180,183,186,189,192,195,198,201,204,207,210,213,216,219,222,225,228,231,234,237,240,243,246,249,252,255,258,261,264,267,270,273,276,279,282,285,288,291,294,297,300,303,306,309,312) have mixed types.Specify dtype option on import or set low_memory=False.\n",
      "  has_raised = await self.run_ast_nodes(code_ast.body, cell_name,\n",
      "C:\\Users\\guilhem.leprince\\Anaconda3\\lib\\site-packages\\IPython\\core\\interactiveshell.py:3106: DtypeWarning: Columns (4,5,7,8,11,14,16,17,20,23,24,26,27,29,30,32,33,35,36,38,39,42,45,46,47,48,50,51,53,54,56,57,59,60,62,63,65,66,68,69,72,74,75,77,78,80,81,83,84,85,87,90,93,95,96,98,99,101,102,104,105,108,110,111,113,114,117,119,120,122,123,126,127,129,132,135,138,141,144,147,150,153,156,159,162,165,168,171,174,177,180,183,186,189,192,195,198,201,204,207,210,213,216,219,222,225,228,231,234,237,240,243,246,249,252,255,258,261,264,267,270,273,276,279,282,285,288,291,294,297,300,303,306,309,312) have mixed types.Specify dtype option on import or set low_memory=False.\n",
      "  has_raised = await self.run_ast_nodes(code_ast.body, cell_name,\n"
     ]
    },
    {
     "name": "stdout",
     "output_type": "stream",
     "text": [
      "Processing 7925520288.csv\n",
      "Processing 7932331314.csv\n",
      "Processing 7939097024.csv\n"
     ]
    },
    {
     "name": "stderr",
     "output_type": "stream",
     "text": [
      "C:\\Users\\guilhem.leprince\\Anaconda3\\lib\\site-packages\\IPython\\core\\interactiveshell.py:3106: DtypeWarning: Columns (46,53,65,68,85,110,113,119,122,127,267,270,273,276,279,282,285,288,291,294,297,300,303,306,309,312) have mixed types.Specify dtype option on import or set low_memory=False.\n",
      "  has_raised = await self.run_ast_nodes(code_ast.body, cell_name,\n",
      "C:\\Users\\guilhem.leprince\\Anaconda3\\lib\\site-packages\\IPython\\core\\interactiveshell.py:3106: DtypeWarning: Columns (32,35,43,50,62,65,85,92,93,95,96,99,101,102,104,105,108,111,114,117,120,123,126,127,129,132,135,138,141,144,147,150,153,156,159,162,165,168,171,174,177,180,183,186,189,192,195,198,201,204,207,210,213,216,219,222,225,228,231,234,237,240,243,246,249,252,255,258,261,264,267,270,273,276,279,282,285,288,291,294,297,300,303,306,309,312) have mixed types.Specify dtype option on import or set low_memory=False.\n",
      "  has_raised = await self.run_ast_nodes(code_ast.body, cell_name,\n"
     ]
    },
    {
     "name": "stdout",
     "output_type": "stream",
     "text": [
      "Processing 7939097277.csv\n",
      "Processing 7960357565.csv\n"
     ]
    },
    {
     "name": "stderr",
     "output_type": "stream",
     "text": [
      "C:\\Users\\guilhem.leprince\\Anaconda3\\lib\\site-packages\\IPython\\core\\interactiveshell.py:3106: DtypeWarning: Columns (7,16,42,45,46,47,48,50,51,53,54,56,57,59,60,62,63,65,66,68,69,72,74,75,77,78,80,81,83,84,85,87,90,93,95,96,98,99,101,102,104,105,108,110,111,113,114,117,119,120,122,123,126,127,129,132,135,138,141,144,147,150,153,156,159,162,165,168,171,174,177,180,183,186,189,192,195,198,201,204,207,210,213,216,219,222,225,228,231,234,237,240,243,246,249,252,255,258,261,264,267,270,273,276,279,282,285,288,291,294,297,300,303,306,309,312) have mixed types.Specify dtype option on import or set low_memory=False.\n",
      "  has_raised = await self.run_ast_nodes(code_ast.body, cell_name,\n"
     ]
    },
    {
     "name": "stdout",
     "output_type": "stream",
     "text": [
      "Processing 7962013645.csv\n"
     ]
    },
    {
     "name": "stderr",
     "output_type": "stream",
     "text": [
      "C:\\Users\\guilhem.leprince\\Anaconda3\\lib\\site-packages\\IPython\\core\\interactiveshell.py:3106: DtypeWarning: Columns (7,16,42,45,46,47,48,50,51,53,54,56,57,59,60,62,63,65,66,68,69,72,74,75,77,78,80,81,83,84,85,87,90,93,95,96,98,99,101,102,104,105,108,110,111,113,114,117,119,120,122,123,126,127,129,132,135,138,141,144,147,150,153,156,159,162,165,168,171,174,177,180,183,186,189,192,195,198,201,204,207,210,213,216,219,222,225,228,231,234,237,240,243,246,249,252,255,258,261,264,267,270,273,276,279,282,285,288,291,294,297,300,303,306,309,312) have mixed types.Specify dtype option on import or set low_memory=False.\n",
      "  has_raised = await self.run_ast_nodes(code_ast.body, cell_name,\n"
     ]
    },
    {
     "name": "stdout",
     "output_type": "stream",
     "text": [
      "Processing 7966890023.csv\n"
     ]
    },
    {
     "name": "stderr",
     "output_type": "stream",
     "text": [
      "C:\\Users\\guilhem.leprince\\Anaconda3\\lib\\site-packages\\IPython\\core\\interactiveshell.py:3106: DtypeWarning: Columns (7,16,38,39,42,45,46,47,48,50,51,53,54,56,57,59,60,62,63,65,66,68,69,72,74,75,77,78,80,81,83,84,85,87,90,93,95,96,98,99,101,102,104,105,108,110,111,113,114,117,119,120,122,123,126,127,129,132,135,138,141,144,147,150,153,156,159,162,165,168,171,174,177,180,183,186,189,192,195,198,201,204,207,210,213,216,219,222,225,228,231,234,237,240,243,246,249,252,255,258,261,264,267,270,273,276,279,282,285,288,291,294,297,300,303,306,309,312) have mixed types.Specify dtype option on import or set low_memory=False.\n",
      "  has_raised = await self.run_ast_nodes(code_ast.body, cell_name,\n"
     ]
    },
    {
     "name": "stdout",
     "output_type": "stream",
     "text": [
      "Processing 7972458823.csv\n"
     ]
    },
    {
     "name": "stderr",
     "output_type": "stream",
     "text": [
      "C:\\Users\\guilhem.leprince\\Anaconda3\\lib\\site-packages\\IPython\\core\\interactiveshell.py:3106: DtypeWarning: Columns (7,16,38,39,42,45,46,47,48,50,51,53,54,56,57,59,60,62,63,65,66,68,69,72,74,75,77,78,80,81,83,84,85,87,90,93,95,96,98,99,101,102,104,105,108,110,111,113,114,117,119,120,122,123,126,127,129,132,135,138,141,144,147,150,153,156,159,162,165,168,171,174,177,180,183,186,189,192,195,198,201,204,207,210,213,216,219,222,225,228,231,234,237,240,243,246,249,252,255,258,261,264,267,270,273,276,279,282,285,288,291,294,297,300,303,306,309,312) have mixed types.Specify dtype option on import or set low_memory=False.\n",
      "  has_raised = await self.run_ast_nodes(code_ast.body, cell_name,\n"
     ]
    },
    {
     "name": "stdout",
     "output_type": "stream",
     "text": [
      "Processing 7978030275.csv\n"
     ]
    },
    {
     "name": "stderr",
     "output_type": "stream",
     "text": [
      "C:\\Users\\guilhem.leprince\\Anaconda3\\lib\\site-packages\\IPython\\core\\interactiveshell.py:3106: DtypeWarning: Columns (7,16,42,45,46,47,48,50,51,53,54,56,57,59,60,62,63,65,66,68,69,72,74,75,77,78,80,81,83,84,85,87,90,93,95,96,98,99,101,102,104,105,108,110,111,113,114,117,119,120,122,123,126,127,129,132,135,138,141,144,147,150,153,156,159,162,165,168,171,174,177,180,183,186,189,192,195,198,201,204,207,210,213,216,219,222,225,228,231,234,237,240,243,246,249,252,255,258,261,264,267,270,273,276,279,282,285,288,291,294,297,300,303,306,309,312) have mixed types.Specify dtype option on import or set low_memory=False.\n",
      "  has_raised = await self.run_ast_nodes(code_ast.body, cell_name,\n"
     ]
    },
    {
     "name": "stdout",
     "output_type": "stream",
     "text": [
      "Processing 7985326742.csv\n",
      "Processing 7990518530.csv\n",
      "Processing 8008900291.csv\n"
     ]
    },
    {
     "name": "stderr",
     "output_type": "stream",
     "text": [
      "C:\\Users\\guilhem.leprince\\Anaconda3\\lib\\site-packages\\IPython\\core\\interactiveshell.py:3106: DtypeWarning: Columns (46,53,65,68,85,110,113,119,122,127,267,270,273,276,279,282,285,288,291,294,297,300,303,306,309,312) have mixed types.Specify dtype option on import or set low_memory=False.\n",
      "  has_raised = await self.run_ast_nodes(code_ast.body, cell_name,\n",
      "C:\\Users\\guilhem.leprince\\Anaconda3\\lib\\site-packages\\IPython\\core\\interactiveshell.py:3106: DtypeWarning: Columns (7,16,38,39,42,45,46,47,48,50,51,53,54,56,57,59,60,62,63,65,66,68,69,72,74,75,77,78,80,81,83,84,85,87,90,93,95,96,98,99,101,102,104,105,108,110,111,113,114,117,119,120,122,123,126,127,129,132,135,138,141,144,147,150,153,156,159,162,165,168,171,174,177,180,183,186,189,192,195,198,201,204,207,210,213,216,219,222,225,228,231,234,237,240,243,246,249,252,255,258,261,264,267,270,273,276,279,282,285,288,291,294,297,300,303,306,309,312) have mixed types.Specify dtype option on import or set low_memory=False.\n",
      "  has_raised = await self.run_ast_nodes(code_ast.body, cell_name,\n"
     ]
    },
    {
     "name": "stdout",
     "output_type": "stream",
     "text": [
      "Processing 8012138725.csv\n"
     ]
    },
    {
     "name": "stderr",
     "output_type": "stream",
     "text": [
      "C:\\Users\\guilhem.leprince\\Anaconda3\\lib\\site-packages\\IPython\\core\\interactiveshell.py:3106: DtypeWarning: Columns (7,16,42,45,46,47,48,50,51,53,54,56,57,59,60,62,63,65,66,68,69,72,74,75,77,78,80,81,83,84,85,87,90,93,95,96,98,99,101,102,104,105,108,110,111,113,114,117,119,120,122,123,126,127,129,132,135,138,141,144,147,150,153,156,159,162,165,168,171,174,177,180,183,186,189,192,195,198,201,204,207,210,213,216,219,222,225,228,231,234,237,240,243,246,249,252,255,258,261,264,267,270,273,276,279,282,285,288,291,294,297,300,303,306,309,312) have mixed types.Specify dtype option on import or set low_memory=False.\n",
      "  has_raised = await self.run_ast_nodes(code_ast.body, cell_name,\n"
     ]
    },
    {
     "name": "stdout",
     "output_type": "stream",
     "text": [
      "Processing 8039725194.csv\n",
      "Processing 8056460244.csv\n"
     ]
    },
    {
     "name": "stderr",
     "output_type": "stream",
     "text": [
      "C:\\Users\\guilhem.leprince\\Anaconda3\\lib\\site-packages\\IPython\\core\\interactiveshell.py:3106: DtypeWarning: Columns (46,53,65,68,85,108,110,111,113,114,117,119,120,122,123,126,127,129,132,135,138,141,144,147,150,153,156,159,162,165,168,171,174,177,180,183,186,189,192,195,198,201,204,207,210,213,216,219,222,225,228,231,234,237,240,243,246,249,252,255,258,261,264,267,270,273,276,279,282,285,288,291,294,297,300,303,306,309,312) have mixed types.Specify dtype option on import or set low_memory=False.\n",
      "  has_raised = await self.run_ast_nodes(code_ast.body, cell_name,\n",
      "C:\\Users\\guilhem.leprince\\Anaconda3\\lib\\site-packages\\IPython\\core\\interactiveshell.py:3106: DtypeWarning: Columns (7,16,23,38,39,42,45,46,47,48,50,51,53,54,56,57,59,60,62,63,65,66,68,69,72,74,75,77,78,80,81,83,84,85,87,90,93,95,96,98,99,101,102,104,105,108,110,111,113,114,117,119,120,122,123,126,127,129,132,135,138,141,144,147,150,153,156,159,162,165,168,171,174,177,180,183,186,189,192,195,198,201,204,207,210,213,216,219,222,225,228,231,234,237,240,243,246,249,252,255,258,261,264,267,270,273,276,279,282,285,288,291,294,297,300,303,306,309,312) have mixed types.Specify dtype option on import or set low_memory=False.\n",
      "  has_raised = await self.run_ast_nodes(code_ast.body, cell_name,\n"
     ]
    },
    {
     "name": "stdout",
     "output_type": "stream",
     "text": [
      "Processing 8057544335.csv\n",
      "Processing 8063381566.csv\n"
     ]
    },
    {
     "name": "stderr",
     "output_type": "stream",
     "text": [
      "C:\\Users\\guilhem.leprince\\Anaconda3\\lib\\site-packages\\IPython\\core\\interactiveshell.py:3106: DtypeWarning: Columns (7,16,42,45,46,47,48,50,51,53,54,56,57,59,60,62,63,65,66,68,69,72,74,75,77,78,80,81,83,84,85,87,90,93,95,96,98,99,101,102,104,105,108,110,111,113,114,117,119,120,122,123,126,127,129,132,135,138,141,144,147,150,153,156,159,162,165,168,171,174,177,180,183,186,189,192,195,198,201,204,207,210,213,216,219,222,225,228,231,234,237,240,243,246,249,252,255,258,261,264,267,270,273,276,279,282,285,288,291,294,297,300,303,306,309,312) have mixed types.Specify dtype option on import or set low_memory=False.\n",
      "  has_raised = await self.run_ast_nodes(code_ast.body, cell_name,\n",
      "C:\\Users\\guilhem.leprince\\Anaconda3\\lib\\site-packages\\IPython\\core\\interactiveshell.py:3106: DtypeWarning: Columns (38,46,53,65,68,85,108,110,111,113,114,117,119,120,122,123,126,127,129,132,135,138,141,144,147,150,153,156,159,162,165,168,171,174,177,180,183,186,189,192,195,198,201,204,207,210,213,216,219,222,225,228,231,234,237,240,243,246,249,252,255,258,261,264,267,270,273,276,279,282,285,288,291,294,297,300,303,306,309,312) have mixed types.Specify dtype option on import or set low_memory=False.\n",
      "  has_raised = await self.run_ast_nodes(code_ast.body, cell_name,\n"
     ]
    },
    {
     "name": "stdout",
     "output_type": "stream",
     "text": [
      "Processing 8067624806.csv\n"
     ]
    },
    {
     "name": "stderr",
     "output_type": "stream",
     "text": [
      "C:\\Users\\guilhem.leprince\\Anaconda3\\lib\\site-packages\\IPython\\core\\interactiveshell.py:3106: DtypeWarning: Columns (7,16,23,38,39,42,45,46,47,48,50,51,53,54,56,57,59,60,62,63,65,66,68,69,72,74,75,77,78,80,81,83,84,85,87,90,93,95,96,98,99,101,102,104,105,108,110,111,113,114,117,119,120,122,123,126,127,129,132,135,138,141,144,147,150,153,156,159,162,165,168,171,174,177,180,183,186,189,192,195,198,201,204,207,210,213,216,219,222,225,228,231,234,237,240,243,246,249,252,255,258,261,264,267,270,273,276,279,282,285,288,291,294,297,300,303,306,309,312) have mixed types.Specify dtype option on import or set low_memory=False.\n",
      "  has_raised = await self.run_ast_nodes(code_ast.body, cell_name,\n"
     ]
    },
    {
     "name": "stdout",
     "output_type": "stream",
     "text": [
      "Processing 8092611695.csv\n"
     ]
    },
    {
     "name": "stderr",
     "output_type": "stream",
     "text": [
      "C:\\Users\\guilhem.leprince\\Anaconda3\\lib\\site-packages\\IPython\\core\\interactiveshell.py:3106: DtypeWarning: Columns (46,53,65,68,85,108,110,111,113,114,117,119,120,122,123,126,127,129,132,135,138,141,144,147,150,153,156,159,162,165,168,171,174,177,180,183,186,189,192,195,198,201,204,207,210,213,216,219,222,225,228,231,234,237,240,243,246,249,252,255,258,261,264,267,270,273,276,279,282,285,288,291,294,297,300,303,306,309,312) have mixed types.Specify dtype option on import or set low_memory=False.\n",
      "  has_raised = await self.run_ast_nodes(code_ast.body, cell_name,\n"
     ]
    },
    {
     "name": "stdout",
     "output_type": "stream",
     "text": [
      "Processing 8099929761.csv\n"
     ]
    },
    {
     "name": "stderr",
     "output_type": "stream",
     "text": [
      "C:\\Users\\guilhem.leprince\\Anaconda3\\lib\\site-packages\\IPython\\core\\interactiveshell.py:3106: DtypeWarning: Columns (7,16,42,45,46,47,48,50,51,53,54,56,57,59,60,62,63,65,66,68,69,72,74,75,77,78,80,81,83,84,85,87,90,93,95,96,98,99,101,102,104,105,108,110,111,113,114,117,119,120,122,123,126,127,129,132,135,138,141,144,147,150,153,156,159,162,165,168,171,174,177,180,183,186,189,192,195,198,201,204,207,210,213,216,219,222,225,228,231,234,237,240,243,246,249,252,255,258,261,264,267,270,273,276,279,282,285,288,291,294,297,300,303,306,309,312) have mixed types.Specify dtype option on import or set low_memory=False.\n",
      "  has_raised = await self.run_ast_nodes(code_ast.body, cell_name,\n"
     ]
    },
    {
     "name": "stdout",
     "output_type": "stream",
     "text": [
      "Processing 8105125179.csv\n"
     ]
    },
    {
     "name": "stderr",
     "output_type": "stream",
     "text": [
      "C:\\Users\\guilhem.leprince\\Anaconda3\\lib\\site-packages\\IPython\\core\\interactiveshell.py:3106: DtypeWarning: Columns (7,13,16,23,37,38,45,46,47,48,50,51,53,54,56,57,59,60,62,63,65,66,68,69,71,72,75,77,78,80,81,83,84,86,87,90,93,96,98,99,101,102,103,104,105,107,108,110,111,113,114,116,117,120,122,123,125,126,129,131,132,134,135,138,139,141,144,147,150,152,153,155,156,159,162,165,166,168,171,174,177,180,183,186,189,192,195,198,201,204,207,210,213,216,219,222,225,228,231,234,237,240,243,246,249,252,255,258,261,264,265,267,270,273,276,279,282,285,288,291,294,297,300,303,306,309,312,315,318,321,324,327,330,333,336,339,342,345,348) have mixed types.Specify dtype option on import or set low_memory=False.\n",
      "  has_raised = await self.run_ast_nodes(code_ast.body, cell_name,\n"
     ]
    },
    {
     "name": "stdout",
     "output_type": "stream",
     "text": [
      "Processing 8142146441.csv\n"
     ]
    },
    {
     "name": "stderr",
     "output_type": "stream",
     "text": [
      "C:\\Users\\guilhem.leprince\\Anaconda3\\lib\\site-packages\\IPython\\core\\interactiveshell.py:3106: DtypeWarning: Columns (7,16,23,26,45,46,48,50,51,53,54,56,57,59,60,62,63,65,66,68,69,71,72,74,75,77,78,80,81,84,87,90,91,92,93,95,96,98,99,101,102,104,105,107,108,110,111,113,114,116,117,120,122,123,125,126,129,130,132,135,138,140,141,142,143,144,147,150,153,156,159,162,165,168,171,174,177,180,183,186,189,192,195,198,201,204,207,210,213,216,219,222,225,228,231,234,237,240,243,246,249,252,255,258,261,264,267,270,273,276,279) have mixed types.Specify dtype option on import or set low_memory=False.\n",
      "  has_raised = await self.run_ast_nodes(code_ast.body, cell_name,\n"
     ]
    },
    {
     "name": "stdout",
     "output_type": "stream",
     "text": [
      "Processing 8143140250.csv\n",
      "Processing 8151820010.csv\n",
      "Processing 8154587527.csv\n",
      "Processing 8161076010.csv\n"
     ]
    },
    {
     "name": "stderr",
     "output_type": "stream",
     "text": [
      "C:\\Users\\guilhem.leprince\\Anaconda3\\lib\\site-packages\\IPython\\core\\interactiveshell.py:3106: DtypeWarning: Columns (7,16,23,42,45,46,47,48,50,51,53,54,56,57,59,60,62,63,65,66,68,69,72,74,75,77,78,80,81,83,84,85,87,90,93,95,96,98,99,101,102,104,105,108,110,111,113,114,117,119,120,122,123,126,127,129,132,135,138,141,144,147,150,153,156,159,162,165,168,171,174,177,180,183,186,189,192,195,198,201,204,207,210,213,216,219,222,225,228,231,234,237,240,243,246,249,252,255,258,261,264,267,270,273,276,279,282,285,288,291,294,297,300,303,306,309,312) have mixed types.Specify dtype option on import or set low_memory=False.\n",
      "  has_raised = await self.run_ast_nodes(code_ast.body, cell_name,\n"
     ]
    },
    {
     "name": "stdout",
     "output_type": "stream",
     "text": [
      "Processing 8165178265.csv\n",
      "Processing 8177630492.csv\n",
      "Processing 8186991828.csv\n"
     ]
    },
    {
     "name": "stderr",
     "output_type": "stream",
     "text": [
      "C:\\Users\\guilhem.leprince\\Anaconda3\\lib\\site-packages\\IPython\\core\\interactiveshell.py:3106: DtypeWarning: Columns (38,46,53,65,68,85,108,110,111,113,114,117,119,120,122,123,126,127,129,132,135,138,141,144,147,150,153,156,159,162,165,168,171,174,177,180,183,186,189,192,195,198,201,204,207,210,213,216,219,222,225,228,231,234,237,240,243,246,249,252,255,258,261,264,267,270,273,276,279,282,285,288,291,294,297,300,303,306,309,312) have mixed types.Specify dtype option on import or set low_memory=False.\n",
      "  has_raised = await self.run_ast_nodes(code_ast.body, cell_name,\n"
     ]
    },
    {
     "name": "stdout",
     "output_type": "stream",
     "text": [
      "Processing 8218536848.csv\n",
      "Processing 8242818063.csv\n"
     ]
    },
    {
     "name": "stderr",
     "output_type": "stream",
     "text": [
      "C:\\Users\\guilhem.leprince\\Anaconda3\\lib\\site-packages\\IPython\\core\\interactiveshell.py:3106: DtypeWarning: Columns (46,53,65,68,85,110,113,119,122,127,267,270,273,276,279,282,285,288,291,294,297,300,303,306,309,312) have mixed types.Specify dtype option on import or set low_memory=False.\n",
      "  has_raised = await self.run_ast_nodes(code_ast.body, cell_name,\n",
      "C:\\Users\\guilhem.leprince\\Anaconda3\\lib\\site-packages\\IPython\\core\\interactiveshell.py:3106: DtypeWarning: Columns (46,53,65,68,85,110,113,119,122,127,267,270,273,276,279,282,285,288,291,294,297,300,303,306,309,312) have mixed types.Specify dtype option on import or set low_memory=False.\n",
      "  has_raised = await self.run_ast_nodes(code_ast.body, cell_name,\n"
     ]
    },
    {
     "name": "stdout",
     "output_type": "stream",
     "text": [
      "Processing 8280696615.csv\n"
     ]
    },
    {
     "name": "stderr",
     "output_type": "stream",
     "text": [
      "C:\\Users\\guilhem.leprince\\Anaconda3\\lib\\site-packages\\IPython\\core\\interactiveshell.py:3106: DtypeWarning: Columns (7,16,23,38,39,42,45,46,47,48,50,51,53,54,56,57,59,60,62,63,65,66,68,69,72,74,75,77,78,80,81,83,84,85,87,90,93,95,96,98,99,101,102,104,105,108,110,111,113,114,117,119,120,122,123,126,127,129,132,135,138,141,144,147,150,153,156,159,162,165,168,171,174,177,180,183,186,189,192,195,198,201,204,207,210,213,216,219,222,225,228,231,234,237,240,243,246,249,252,255,258,261,264,267,270,273,276,279,282,285,288,291,294,297,300,303,306,309,312) have mixed types.Specify dtype option on import or set low_memory=False.\n",
      "  has_raised = await self.run_ast_nodes(code_ast.body, cell_name,\n"
     ]
    },
    {
     "name": "stdout",
     "output_type": "stream",
     "text": [
      "Processing 8284024635.csv\n",
      "Processing 8315509214.csv\n"
     ]
    },
    {
     "name": "stderr",
     "output_type": "stream",
     "text": [
      "C:\\Users\\guilhem.leprince\\Anaconda3\\lib\\site-packages\\IPython\\core\\interactiveshell.py:3106: DtypeWarning: Columns (46,53,65,68,85,110,113,119,122,127,267,270,273,276,279,282,285,288,291,294,297,300,303,306,309,312) have mixed types.Specify dtype option on import or set low_memory=False.\n",
      "  has_raised = await self.run_ast_nodes(code_ast.body, cell_name,\n",
      "C:\\Users\\guilhem.leprince\\Anaconda3\\lib\\site-packages\\IPython\\core\\interactiveshell.py:3106: DtypeWarning: Columns (38,46,53,65,68,85,108,110,111,113,114,117,119,120,122,123,126,127,129,132,135,138,141,144,147,150,153,156,159,162,165,168,171,174,177,180,183,186,189,192,195,198,201,204,207,210,213,216,219,222,225,228,231,234,237,240,243,246,249,252,255,258,261,264,267,270,273,276,279,282,285,288,291,294,297,300,303,306,309,312) have mixed types.Specify dtype option on import or set low_memory=False.\n",
      "  has_raised = await self.run_ast_nodes(code_ast.body, cell_name,\n"
     ]
    },
    {
     "name": "stdout",
     "output_type": "stream",
     "text": [
      "Processing 8321616915.csv\n"
     ]
    },
    {
     "name": "stderr",
     "output_type": "stream",
     "text": [
      "C:\\Users\\guilhem.leprince\\Anaconda3\\lib\\site-packages\\IPython\\core\\interactiveshell.py:3106: DtypeWarning: Columns (38,46,53,65,68,85,108,110,111,113,114,117,119,120,122,123,126,127,129,132,135,138,141,144,147,150,153,156,159,162,165,168,171,174,177,180,183,186,189,192,195,198,201,204,207,210,213,216,219,222,225,228,231,234,237,240,243,246,249,252,255,258,261,264,267,270,273,276,279,282,285,288,291,294,297,300,303,306,309,312) have mixed types.Specify dtype option on import or set low_memory=False.\n",
      "  has_raised = await self.run_ast_nodes(code_ast.body, cell_name,\n"
     ]
    },
    {
     "name": "stdout",
     "output_type": "stream",
     "text": [
      "Processing 8359198766.csv\n"
     ]
    },
    {
     "name": "stderr",
     "output_type": "stream",
     "text": [
      "C:\\Users\\guilhem.leprince\\Anaconda3\\lib\\site-packages\\IPython\\core\\interactiveshell.py:3106: DtypeWarning: Columns (7,16,23,26,42,45,46,47,48,50,51,53,54,56,57,59,60,62,63,65,66,68,69,72,74,75,77,78,80,81,83,84,85,87,90,93,95,96,98,99,101,102,104,105,108,110,111,113,114,117,119,120,122,123,126,127,129,132,135,138,141,144,147,150,153,156,159,162,165,168,171,174,177,180,183,186,189,192,195,198,201,204,207,210,213,216,219,222,225,228,231,234,237,240,243,246,249,252,255,258,261,264,267,270,273,276,279,282,285,288,291,294,297,300,303,306,309,312) have mixed types.Specify dtype option on import or set low_memory=False.\n",
      "  has_raised = await self.run_ast_nodes(code_ast.body, cell_name,\n"
     ]
    },
    {
     "name": "stdout",
     "output_type": "stream",
     "text": [
      "Processing 8366182505.csv\n",
      "Processing 8371556426.csv\n",
      "Processing 8392493141.csv\n"
     ]
    },
    {
     "name": "stderr",
     "output_type": "stream",
     "text": [
      "C:\\Users\\guilhem.leprince\\Anaconda3\\lib\\site-packages\\IPython\\core\\interactiveshell.py:3106: DtypeWarning: Columns (46,53,65,68,85,110,113,119,122,127,267,270,273,276,279,282,285,288,291,294,297,300,303,306,309,312) have mixed types.Specify dtype option on import or set low_memory=False.\n",
      "  has_raised = await self.run_ast_nodes(code_ast.body, cell_name,\n"
     ]
    }
   ],
   "source": [
    "for csv_file in list_of_raw_csv_files:\n",
    "    filename = csv_file.split(\"\\\\\")[-1]\n",
    "    print(\"Processing \" + filename)\n",
    "    raw_data=pd.read_csv(csv_file)\n",
    "    raw_data[\"is_record\"]= raw_data.Message==\"record\"\n",
    "    raw_data[\"is_latlon\"]= raw_data[\"Field 3\"]==\"position_long\"\n",
    "    raw_data_12 = raw_data[raw_data.is_record & raw_data.is_latlon][[\"Local Number\",\n",
    "                                                      \"Value 1\",\"Value 2\",\"Value 3\",\"Value 4\",\"Value 5\",\"Value 6\",\n",
    "                                                      \"Value 7\",\"Value 8\",\"Value 9\",\"Value 10\",\"Value 11\",\"Value 12\"]]\n",
    "    raw_data_12=raw_data_12.rename(columns={\"Local Number\":\"datatype\", \"Value 1\": \"time\", \"Value 2\": \"lat\",\"Value 3\": \"lon\",\n",
    "                                        \"Value 4\": \"dist\", \"Value 5\": \"alti\", \"Value 6\": \"spd\", \"Value 7\": \"quid\",\n",
    "                                        \"Value 8\" :\"bpm\", \"Value 9\": \"cad\", \"Value 10\": \"fraq\", \"Value 11\": \"alti_corr\",\n",
    "                                        \"Value 12\": \"spd_corr\"})\n",
    "    raw_data_14 = raw_data[raw_data[\"Local Number\"]==14][[\"Local Number\",\n",
    "                                                      \"Value 1\",\"Value 2\",\"Value 3\",\"Value 4\",\"Value 5\",\"Value 6\",\n",
    "                                                      \"Value 7\",\"Value 8\"]]\n",
    "    raw_data_14 = raw_data_14.rename(columns={\"Local Number\":\"datatype\", \"Value 1\": \"time\", \"Value 2\": \"dist\",\"Value 3\": \"alt\",\n",
    "                                        \"Value 4\": \"quid\", \"Value 5\": \"bpm\", \"Value 6\": \"cad\", \"Value 7\": \"frac\",\n",
    "                                        \"Value 8\" :\"alti_corr\"})\n",
    "    raw_data_14[\"lat\"]=\"\"\n",
    "    raw_data_14[\"lon\"]=\"\"\n",
    "    raw_data_14[\"spd\"]=\"\"\n",
    "    raw_data_14[\"spd_corr\"]=\"\"\n",
    "    df=raw_data_12.append(raw_data_14)\n",
    "    df = df.set_index(\"time\")\n",
    "    df[\"lat\"] = df.lat.apply(convert_coordinate)\n",
    "    df[\"lon\"] = df.lon.apply(convert_coordinate)\n",
    "    df.to_csv(output_csv + filename)"
   ]
  },
  {
   "cell_type": "code",
   "execution_count": null,
   "id": "6fa23d83",
   "metadata": {},
   "outputs": [],
   "source": []
  },
  {
   "cell_type": "markdown",
   "id": "e7821e28",
   "metadata": {},
   "source": [
    "# Usefull"
   ]
  },
  {
   "cell_type": "code",
   "execution_count": 13,
   "id": "1047a800",
   "metadata": {},
   "outputs": [],
   "source": [
    "def convert_coordinate(value):\n",
    "    toReturn = \"\"\n",
    "    if value:\n",
    "        try:\n",
    "            value = float(value)\n",
    "            if value and value!=0:\n",
    "                toReturn = value/((2**32)/360)\n",
    "        except(ValueError):\n",
    "            pass\n",
    "    return toReturn"
   ]
  },
  {
   "cell_type": "markdown",
   "id": "21d9dc6a",
   "metadata": {},
   "source": [
    "# misc"
   ]
  },
  {
   "cell_type": "code",
   "execution_count": 1,
   "id": "a5b17aa8",
   "metadata": {},
   "outputs": [],
   "source": [
    "\n",
    "import folium\n",
    "import matplotlib.pyplot as plt\n",
    "import subprocess\n",
    "import math"
   ]
  },
  {
   "cell_type": "code",
   "execution_count": 2,
   "id": "1aabb158",
   "metadata": {},
   "outputs": [],
   "source": [
    "FILE_PATH = \"data_example/raw_csv/\"\n",
    "OUTPUT = \"data_example/csv/\"\n",
    "FILENAME = \"8279264048.csv\""
   ]
  },
  {
   "cell_type": "code",
   "execution_count": 3,
   "id": "3e6a5d18",
   "metadata": {},
   "outputs": [],
   "source": [
    "raw_data=pd.read_csv(FILE_PATH + FILENAME)"
   ]
  },
  {
   "cell_type": "code",
   "execution_count": 5,
   "id": "e387c153",
   "metadata": {},
   "outputs": [
    {
     "data": {
      "text/html": [
       "<div>\n",
       "<style scoped>\n",
       "    .dataframe tbody tr th:only-of-type {\n",
       "        vertical-align: middle;\n",
       "    }\n",
       "\n",
       "    .dataframe tbody tr th {\n",
       "        vertical-align: top;\n",
       "    }\n",
       "\n",
       "    .dataframe thead th {\n",
       "        text-align: right;\n",
       "    }\n",
       "</style>\n",
       "<table border=\"1\" class=\"dataframe\">\n",
       "  <thead>\n",
       "    <tr style=\"text-align: right;\">\n",
       "      <th></th>\n",
       "      <th>Type</th>\n",
       "      <th>Local Number</th>\n",
       "      <th>Message</th>\n",
       "      <th>Field 1</th>\n",
       "      <th>Value 1</th>\n",
       "      <th>Units 1</th>\n",
       "      <th>Field 2</th>\n",
       "      <th>Value 2</th>\n",
       "      <th>Units 2</th>\n",
       "      <th>Field 3</th>\n",
       "      <th>...</th>\n",
       "      <th>Field 42</th>\n",
       "      <th>Value 42</th>\n",
       "      <th>Units 42</th>\n",
       "      <th>Field 43</th>\n",
       "      <th>Value 43</th>\n",
       "      <th>Units 43</th>\n",
       "      <th>Field 44</th>\n",
       "      <th>Value 44</th>\n",
       "      <th>Units 44</th>\n",
       "      <th>Unnamed: 135</th>\n",
       "    </tr>\n",
       "  </thead>\n",
       "  <tbody>\n",
       "    <tr>\n",
       "      <th>1</th>\n",
       "      <td>Data</td>\n",
       "      <td>0</td>\n",
       "      <td>file_id</td>\n",
       "      <td>serial_number</td>\n",
       "      <td>3978501192</td>\n",
       "      <td>NaN</td>\n",
       "      <td>time_created</td>\n",
       "      <td>1031213441</td>\n",
       "      <td>NaN</td>\n",
       "      <td>manufacturer</td>\n",
       "      <td>...</td>\n",
       "      <td>NaN</td>\n",
       "      <td>NaN</td>\n",
       "      <td>NaN</td>\n",
       "      <td>NaN</td>\n",
       "      <td>NaN</td>\n",
       "      <td>NaN</td>\n",
       "      <td>NaN</td>\n",
       "      <td>NaN</td>\n",
       "      <td>NaN</td>\n",
       "      <td>NaN</td>\n",
       "    </tr>\n",
       "    <tr>\n",
       "      <th>3</th>\n",
       "      <td>Data</td>\n",
       "      <td>1</td>\n",
       "      <td>file_creator</td>\n",
       "      <td>software_version</td>\n",
       "      <td>820</td>\n",
       "      <td>NaN</td>\n",
       "      <td>NaN</td>\n",
       "      <td>NaN</td>\n",
       "      <td>NaN</td>\n",
       "      <td>NaN</td>\n",
       "      <td>...</td>\n",
       "      <td>NaN</td>\n",
       "      <td>NaN</td>\n",
       "      <td>NaN</td>\n",
       "      <td>NaN</td>\n",
       "      <td>NaN</td>\n",
       "      <td>NaN</td>\n",
       "      <td>NaN</td>\n",
       "      <td>NaN</td>\n",
       "      <td>NaN</td>\n",
       "      <td>NaN</td>\n",
       "    </tr>\n",
       "    <tr>\n",
       "      <th>5</th>\n",
       "      <td>Data</td>\n",
       "      <td>2</td>\n",
       "      <td>event</td>\n",
       "      <td>timestamp</td>\n",
       "      <td>1031213441</td>\n",
       "      <td>s</td>\n",
       "      <td>timer_trigger</td>\n",
       "      <td>0</td>\n",
       "      <td>NaN</td>\n",
       "      <td>event</td>\n",
       "      <td>...</td>\n",
       "      <td>NaN</td>\n",
       "      <td>NaN</td>\n",
       "      <td>NaN</td>\n",
       "      <td>NaN</td>\n",
       "      <td>NaN</td>\n",
       "      <td>NaN</td>\n",
       "      <td>NaN</td>\n",
       "      <td>NaN</td>\n",
       "      <td>NaN</td>\n",
       "      <td>NaN</td>\n",
       "    </tr>\n",
       "    <tr>\n",
       "      <th>7</th>\n",
       "      <td>Data</td>\n",
       "      <td>3</td>\n",
       "      <td>device_info</td>\n",
       "      <td>timestamp</td>\n",
       "      <td>1031213441</td>\n",
       "      <td>s</td>\n",
       "      <td>serial_number</td>\n",
       "      <td>3978501192</td>\n",
       "      <td>NaN</td>\n",
       "      <td>manufacturer</td>\n",
       "      <td>...</td>\n",
       "      <td>NaN</td>\n",
       "      <td>NaN</td>\n",
       "      <td>NaN</td>\n",
       "      <td>NaN</td>\n",
       "      <td>NaN</td>\n",
       "      <td>NaN</td>\n",
       "      <td>NaN</td>\n",
       "      <td>NaN</td>\n",
       "      <td>NaN</td>\n",
       "      <td>NaN</td>\n",
       "    </tr>\n",
       "    <tr>\n",
       "      <th>8</th>\n",
       "      <td>Data</td>\n",
       "      <td>3</td>\n",
       "      <td>device_info</td>\n",
       "      <td>timestamp</td>\n",
       "      <td>1031213441</td>\n",
       "      <td>s</td>\n",
       "      <td>manufacturer</td>\n",
       "      <td>1</td>\n",
       "      <td>NaN</td>\n",
       "      <td>garmin_product</td>\n",
       "      <td>...</td>\n",
       "      <td>NaN</td>\n",
       "      <td>NaN</td>\n",
       "      <td>NaN</td>\n",
       "      <td>NaN</td>\n",
       "      <td>NaN</td>\n",
       "      <td>NaN</td>\n",
       "      <td>NaN</td>\n",
       "      <td>NaN</td>\n",
       "      <td>NaN</td>\n",
       "      <td>NaN</td>\n",
       "    </tr>\n",
       "    <tr>\n",
       "      <th>9</th>\n",
       "      <td>Data</td>\n",
       "      <td>3</td>\n",
       "      <td>device_info</td>\n",
       "      <td>timestamp</td>\n",
       "      <td>1031213441</td>\n",
       "      <td>s</td>\n",
       "      <td>manufacturer</td>\n",
       "      <td>54433</td>\n",
       "      <td>NaN</td>\n",
       "      <td>product</td>\n",
       "      <td>...</td>\n",
       "      <td>NaN</td>\n",
       "      <td>NaN</td>\n",
       "      <td>NaN</td>\n",
       "      <td>NaN</td>\n",
       "      <td>NaN</td>\n",
       "      <td>NaN</td>\n",
       "      <td>NaN</td>\n",
       "      <td>NaN</td>\n",
       "      <td>NaN</td>\n",
       "      <td>NaN</td>\n",
       "    </tr>\n",
       "    <tr>\n",
       "      <th>10</th>\n",
       "      <td>Data</td>\n",
       "      <td>3</td>\n",
       "      <td>device_info</td>\n",
       "      <td>timestamp</td>\n",
       "      <td>1031213441</td>\n",
       "      <td>s</td>\n",
       "      <td>software_version</td>\n",
       "      <td>2.21</td>\n",
       "      <td>NaN</td>\n",
       "      <td>device_index</td>\n",
       "      <td>...</td>\n",
       "      <td>NaN</td>\n",
       "      <td>NaN</td>\n",
       "      <td>NaN</td>\n",
       "      <td>NaN</td>\n",
       "      <td>NaN</td>\n",
       "      <td>NaN</td>\n",
       "      <td>NaN</td>\n",
       "      <td>NaN</td>\n",
       "      <td>NaN</td>\n",
       "      <td>NaN</td>\n",
       "    </tr>\n",
       "    <tr>\n",
       "      <th>12</th>\n",
       "      <td>Data</td>\n",
       "      <td>4</td>\n",
       "      <td>unknown</td>\n",
       "      <td>unknown</td>\n",
       "      <td>1031213441</td>\n",
       "      <td>NaN</td>\n",
       "      <td>unknown</td>\n",
       "      <td>1</td>\n",
       "      <td>NaN</td>\n",
       "      <td>unknown</td>\n",
       "      <td>...</td>\n",
       "      <td>NaN</td>\n",
       "      <td>NaN</td>\n",
       "      <td>NaN</td>\n",
       "      <td>NaN</td>\n",
       "      <td>NaN</td>\n",
       "      <td>NaN</td>\n",
       "      <td>NaN</td>\n",
       "      <td>NaN</td>\n",
       "      <td>NaN</td>\n",
       "      <td>NaN</td>\n",
       "    </tr>\n",
       "    <tr>\n",
       "      <th>14</th>\n",
       "      <td>Data</td>\n",
       "      <td>5</td>\n",
       "      <td>unknown</td>\n",
       "      <td>unknown</td>\n",
       "      <td>1031213441</td>\n",
       "      <td>NaN</td>\n",
       "      <td>unknown</td>\n",
       "      <td>1029931184</td>\n",
       "      <td>NaN</td>\n",
       "      <td>unknown</td>\n",
       "      <td>...</td>\n",
       "      <td>NaN</td>\n",
       "      <td>NaN</td>\n",
       "      <td>NaN</td>\n",
       "      <td>NaN</td>\n",
       "      <td>NaN</td>\n",
       "      <td>NaN</td>\n",
       "      <td>NaN</td>\n",
       "      <td>NaN</td>\n",
       "      <td>NaN</td>\n",
       "      <td>NaN</td>\n",
       "    </tr>\n",
       "    <tr>\n",
       "      <th>16</th>\n",
       "      <td>Data</td>\n",
       "      <td>6</td>\n",
       "      <td>device_settings</td>\n",
       "      <td>utc_offset</td>\n",
       "      <td>0</td>\n",
       "      <td>NaN</td>\n",
       "      <td>time_offset</td>\n",
       "      <td>7200</td>\n",
       "      <td>s</td>\n",
       "      <td>autosync_min_steps</td>\n",
       "      <td>...</td>\n",
       "      <td>NaN</td>\n",
       "      <td>NaN</td>\n",
       "      <td>NaN</td>\n",
       "      <td>NaN</td>\n",
       "      <td>NaN</td>\n",
       "      <td>NaN</td>\n",
       "      <td>NaN</td>\n",
       "      <td>NaN</td>\n",
       "      <td>NaN</td>\n",
       "      <td>NaN</td>\n",
       "    </tr>\n",
       "    <tr>\n",
       "      <th>18</th>\n",
       "      <td>Data</td>\n",
       "      <td>7</td>\n",
       "      <td>user_profile</td>\n",
       "      <td>wake_time</td>\n",
       "      <td>25200</td>\n",
       "      <td>NaN</td>\n",
       "      <td>sleep_time</td>\n",
       "      <td>82800</td>\n",
       "      <td>NaN</td>\n",
       "      <td>unknown</td>\n",
       "      <td>...</td>\n",
       "      <td>NaN</td>\n",
       "      <td>NaN</td>\n",
       "      <td>NaN</td>\n",
       "      <td>NaN</td>\n",
       "      <td>NaN</td>\n",
       "      <td>NaN</td>\n",
       "      <td>NaN</td>\n",
       "      <td>NaN</td>\n",
       "      <td>NaN</td>\n",
       "      <td>NaN</td>\n",
       "    </tr>\n",
       "    <tr>\n",
       "      <th>20</th>\n",
       "      <td>Data</td>\n",
       "      <td>8</td>\n",
       "      <td>unknown</td>\n",
       "      <td>unknown</td>\n",
       "      <td>1031213441</td>\n",
       "      <td>NaN</td>\n",
       "      <td>unknown</td>\n",
       "      <td>12327</td>\n",
       "      <td>NaN</td>\n",
       "      <td>unknown</td>\n",
       "      <td>...</td>\n",
       "      <td>NaN</td>\n",
       "      <td>NaN</td>\n",
       "      <td>NaN</td>\n",
       "      <td>NaN</td>\n",
       "      <td>NaN</td>\n",
       "      <td>NaN</td>\n",
       "      <td>NaN</td>\n",
       "      <td>NaN</td>\n",
       "      <td>NaN</td>\n",
       "      <td>NaN</td>\n",
       "    </tr>\n",
       "    <tr>\n",
       "      <th>22</th>\n",
       "      <td>Data</td>\n",
       "      <td>9</td>\n",
       "      <td>sport</td>\n",
       "      <td>name</td>\n",
       "      <td>Autre|salle</td>\n",
       "      <td>NaN</td>\n",
       "      <td>unknown</td>\n",
       "      <td>29</td>\n",
       "      <td>NaN</td>\n",
       "      <td>sport</td>\n",
       "      <td>...</td>\n",
       "      <td>NaN</td>\n",
       "      <td>NaN</td>\n",
       "      <td>NaN</td>\n",
       "      <td>NaN</td>\n",
       "      <td>NaN</td>\n",
       "      <td>NaN</td>\n",
       "      <td>NaN</td>\n",
       "      <td>NaN</td>\n",
       "      <td>NaN</td>\n",
       "      <td>NaN</td>\n",
       "    </tr>\n",
       "    <tr>\n",
       "      <th>24</th>\n",
       "      <td>Data</td>\n",
       "      <td>10</td>\n",
       "      <td>unknown</td>\n",
       "      <td>unknown</td>\n",
       "      <td>100000</td>\n",
       "      <td>NaN</td>\n",
       "      <td>unknown</td>\n",
       "      <td>160934</td>\n",
       "      <td>NaN</td>\n",
       "      <td>unknown</td>\n",
       "      <td>...</td>\n",
       "      <td>NaN</td>\n",
       "      <td>NaN</td>\n",
       "      <td>NaN</td>\n",
       "      <td>NaN</td>\n",
       "      <td>NaN</td>\n",
       "      <td>NaN</td>\n",
       "      <td>NaN</td>\n",
       "      <td>NaN</td>\n",
       "      <td>NaN</td>\n",
       "      <td>NaN</td>\n",
       "    </tr>\n",
       "    <tr>\n",
       "      <th>26</th>\n",
       "      <td>Data</td>\n",
       "      <td>11</td>\n",
       "      <td>zones_target</td>\n",
       "      <td>unknown</td>\n",
       "      <td>0</td>\n",
       "      <td>NaN</td>\n",
       "      <td>max_heart_rate</td>\n",
       "      <td>198</td>\n",
       "      <td>NaN</td>\n",
       "      <td>hr_calc_type</td>\n",
       "      <td>...</td>\n",
       "      <td>NaN</td>\n",
       "      <td>NaN</td>\n",
       "      <td>NaN</td>\n",
       "      <td>NaN</td>\n",
       "      <td>NaN</td>\n",
       "      <td>NaN</td>\n",
       "      <td>NaN</td>\n",
       "      <td>NaN</td>\n",
       "      <td>NaN</td>\n",
       "      <td>NaN</td>\n",
       "    </tr>\n",
       "    <tr>\n",
       "      <th>28</th>\n",
       "      <td>Data</td>\n",
       "      <td>12</td>\n",
       "      <td>record</td>\n",
       "      <td>timestamp</td>\n",
       "      <td>1031213441</td>\n",
       "      <td>s</td>\n",
       "      <td>position_lat</td>\n",
       "      <td>510009083</td>\n",
       "      <td>semicircles</td>\n",
       "      <td>position_long</td>\n",
       "      <td>...</td>\n",
       "      <td>NaN</td>\n",
       "      <td>NaN</td>\n",
       "      <td>NaN</td>\n",
       "      <td>NaN</td>\n",
       "      <td>NaN</td>\n",
       "      <td>NaN</td>\n",
       "      <td>NaN</td>\n",
       "      <td>NaN</td>\n",
       "      <td>NaN</td>\n",
       "      <td>NaN</td>\n",
       "    </tr>\n",
       "    <tr>\n",
       "      <th>29</th>\n",
       "      <td>Data</td>\n",
       "      <td>12</td>\n",
       "      <td>record</td>\n",
       "      <td>timestamp</td>\n",
       "      <td>1031213442</td>\n",
       "      <td>s</td>\n",
       "      <td>position_lat</td>\n",
       "      <td>510009020</td>\n",
       "      <td>semicircles</td>\n",
       "      <td>position_long</td>\n",
       "      <td>...</td>\n",
       "      <td>NaN</td>\n",
       "      <td>NaN</td>\n",
       "      <td>NaN</td>\n",
       "      <td>NaN</td>\n",
       "      <td>NaN</td>\n",
       "      <td>NaN</td>\n",
       "      <td>NaN</td>\n",
       "      <td>NaN</td>\n",
       "      <td>NaN</td>\n",
       "      <td>NaN</td>\n",
       "    </tr>\n",
       "    <tr>\n",
       "      <th>30</th>\n",
       "      <td>Data</td>\n",
       "      <td>12</td>\n",
       "      <td>record</td>\n",
       "      <td>timestamp</td>\n",
       "      <td>1031213447</td>\n",
       "      <td>s</td>\n",
       "      <td>position_lat</td>\n",
       "      <td>510008603</td>\n",
       "      <td>semicircles</td>\n",
       "      <td>position_long</td>\n",
       "      <td>...</td>\n",
       "      <td>NaN</td>\n",
       "      <td>NaN</td>\n",
       "      <td>NaN</td>\n",
       "      <td>NaN</td>\n",
       "      <td>NaN</td>\n",
       "      <td>NaN</td>\n",
       "      <td>NaN</td>\n",
       "      <td>NaN</td>\n",
       "      <td>NaN</td>\n",
       "      <td>NaN</td>\n",
       "    </tr>\n",
       "    <tr>\n",
       "      <th>31</th>\n",
       "      <td>Data</td>\n",
       "      <td>12</td>\n",
       "      <td>record</td>\n",
       "      <td>timestamp</td>\n",
       "      <td>1031213451</td>\n",
       "      <td>s</td>\n",
       "      <td>position_lat</td>\n",
       "      <td>510008276</td>\n",
       "      <td>semicircles</td>\n",
       "      <td>position_long</td>\n",
       "      <td>...</td>\n",
       "      <td>NaN</td>\n",
       "      <td>NaN</td>\n",
       "      <td>NaN</td>\n",
       "      <td>NaN</td>\n",
       "      <td>NaN</td>\n",
       "      <td>NaN</td>\n",
       "      <td>NaN</td>\n",
       "      <td>NaN</td>\n",
       "      <td>NaN</td>\n",
       "      <td>NaN</td>\n",
       "    </tr>\n",
       "    <tr>\n",
       "      <th>32</th>\n",
       "      <td>Data</td>\n",
       "      <td>12</td>\n",
       "      <td>record</td>\n",
       "      <td>timestamp</td>\n",
       "      <td>1031213456</td>\n",
       "      <td>s</td>\n",
       "      <td>position_lat</td>\n",
       "      <td>510007714</td>\n",
       "      <td>semicircles</td>\n",
       "      <td>position_long</td>\n",
       "      <td>...</td>\n",
       "      <td>NaN</td>\n",
       "      <td>NaN</td>\n",
       "      <td>NaN</td>\n",
       "      <td>NaN</td>\n",
       "      <td>NaN</td>\n",
       "      <td>NaN</td>\n",
       "      <td>NaN</td>\n",
       "      <td>NaN</td>\n",
       "      <td>NaN</td>\n",
       "      <td>NaN</td>\n",
       "    </tr>\n",
       "    <tr>\n",
       "      <th>33</th>\n",
       "      <td>Data</td>\n",
       "      <td>12</td>\n",
       "      <td>record</td>\n",
       "      <td>timestamp</td>\n",
       "      <td>1031213460</td>\n",
       "      <td>s</td>\n",
       "      <td>position_lat</td>\n",
       "      <td>510007488</td>\n",
       "      <td>semicircles</td>\n",
       "      <td>position_long</td>\n",
       "      <td>...</td>\n",
       "      <td>NaN</td>\n",
       "      <td>NaN</td>\n",
       "      <td>NaN</td>\n",
       "      <td>NaN</td>\n",
       "      <td>NaN</td>\n",
       "      <td>NaN</td>\n",
       "      <td>NaN</td>\n",
       "      <td>NaN</td>\n",
       "      <td>NaN</td>\n",
       "      <td>NaN</td>\n",
       "    </tr>\n",
       "    <tr>\n",
       "      <th>34</th>\n",
       "      <td>Data</td>\n",
       "      <td>12</td>\n",
       "      <td>record</td>\n",
       "      <td>timestamp</td>\n",
       "      <td>1031213477</td>\n",
       "      <td>s</td>\n",
       "      <td>position_lat</td>\n",
       "      <td>510007424</td>\n",
       "      <td>semicircles</td>\n",
       "      <td>position_long</td>\n",
       "      <td>...</td>\n",
       "      <td>NaN</td>\n",
       "      <td>NaN</td>\n",
       "      <td>NaN</td>\n",
       "      <td>NaN</td>\n",
       "      <td>NaN</td>\n",
       "      <td>NaN</td>\n",
       "      <td>NaN</td>\n",
       "      <td>NaN</td>\n",
       "      <td>NaN</td>\n",
       "      <td>NaN</td>\n",
       "    </tr>\n",
       "    <tr>\n",
       "      <th>35</th>\n",
       "      <td>Data</td>\n",
       "      <td>12</td>\n",
       "      <td>record</td>\n",
       "      <td>timestamp</td>\n",
       "      <td>1031213481</td>\n",
       "      <td>s</td>\n",
       "      <td>position_lat</td>\n",
       "      <td>510007302</td>\n",
       "      <td>semicircles</td>\n",
       "      <td>position_long</td>\n",
       "      <td>...</td>\n",
       "      <td>NaN</td>\n",
       "      <td>NaN</td>\n",
       "      <td>NaN</td>\n",
       "      <td>NaN</td>\n",
       "      <td>NaN</td>\n",
       "      <td>NaN</td>\n",
       "      <td>NaN</td>\n",
       "      <td>NaN</td>\n",
       "      <td>NaN</td>\n",
       "      <td>NaN</td>\n",
       "    </tr>\n",
       "    <tr>\n",
       "      <th>36</th>\n",
       "      <td>Data</td>\n",
       "      <td>12</td>\n",
       "      <td>record</td>\n",
       "      <td>timestamp</td>\n",
       "      <td>1031213486</td>\n",
       "      <td>s</td>\n",
       "      <td>position_lat</td>\n",
       "      <td>510007290</td>\n",
       "      <td>semicircles</td>\n",
       "      <td>position_long</td>\n",
       "      <td>...</td>\n",
       "      <td>NaN</td>\n",
       "      <td>NaN</td>\n",
       "      <td>NaN</td>\n",
       "      <td>NaN</td>\n",
       "      <td>NaN</td>\n",
       "      <td>NaN</td>\n",
       "      <td>NaN</td>\n",
       "      <td>NaN</td>\n",
       "      <td>NaN</td>\n",
       "      <td>NaN</td>\n",
       "    </tr>\n",
       "    <tr>\n",
       "      <th>37</th>\n",
       "      <td>Data</td>\n",
       "      <td>12</td>\n",
       "      <td>record</td>\n",
       "      <td>timestamp</td>\n",
       "      <td>1031213487</td>\n",
       "      <td>s</td>\n",
       "      <td>position_lat</td>\n",
       "      <td>510007291</td>\n",
       "      <td>semicircles</td>\n",
       "      <td>position_long</td>\n",
       "      <td>...</td>\n",
       "      <td>NaN</td>\n",
       "      <td>NaN</td>\n",
       "      <td>NaN</td>\n",
       "      <td>NaN</td>\n",
       "      <td>NaN</td>\n",
       "      <td>NaN</td>\n",
       "      <td>NaN</td>\n",
       "      <td>NaN</td>\n",
       "      <td>NaN</td>\n",
       "      <td>NaN</td>\n",
       "    </tr>\n",
       "    <tr>\n",
       "      <th>38</th>\n",
       "      <td>Data</td>\n",
       "      <td>12</td>\n",
       "      <td>record</td>\n",
       "      <td>timestamp</td>\n",
       "      <td>1031213505</td>\n",
       "      <td>s</td>\n",
       "      <td>position_lat</td>\n",
       "      <td>510007425</td>\n",
       "      <td>semicircles</td>\n",
       "      <td>position_long</td>\n",
       "      <td>...</td>\n",
       "      <td>NaN</td>\n",
       "      <td>NaN</td>\n",
       "      <td>NaN</td>\n",
       "      <td>NaN</td>\n",
       "      <td>NaN</td>\n",
       "      <td>NaN</td>\n",
       "      <td>NaN</td>\n",
       "      <td>NaN</td>\n",
       "      <td>NaN</td>\n",
       "      <td>NaN</td>\n",
       "    </tr>\n",
       "    <tr>\n",
       "      <th>39</th>\n",
       "      <td>Data</td>\n",
       "      <td>12</td>\n",
       "      <td>record</td>\n",
       "      <td>timestamp</td>\n",
       "      <td>1031213517</td>\n",
       "      <td>s</td>\n",
       "      <td>position_lat</td>\n",
       "      <td>510008176</td>\n",
       "      <td>semicircles</td>\n",
       "      <td>position_long</td>\n",
       "      <td>...</td>\n",
       "      <td>NaN</td>\n",
       "      <td>NaN</td>\n",
       "      <td>NaN</td>\n",
       "      <td>NaN</td>\n",
       "      <td>NaN</td>\n",
       "      <td>NaN</td>\n",
       "      <td>NaN</td>\n",
       "      <td>NaN</td>\n",
       "      <td>NaN</td>\n",
       "      <td>NaN</td>\n",
       "    </tr>\n",
       "    <tr>\n",
       "      <th>40</th>\n",
       "      <td>Data</td>\n",
       "      <td>12</td>\n",
       "      <td>record</td>\n",
       "      <td>timestamp</td>\n",
       "      <td>1031213556</td>\n",
       "      <td>s</td>\n",
       "      <td>position_lat</td>\n",
       "      <td>510007584</td>\n",
       "      <td>semicircles</td>\n",
       "      <td>position_long</td>\n",
       "      <td>...</td>\n",
       "      <td>NaN</td>\n",
       "      <td>NaN</td>\n",
       "      <td>NaN</td>\n",
       "      <td>NaN</td>\n",
       "      <td>NaN</td>\n",
       "      <td>NaN</td>\n",
       "      <td>NaN</td>\n",
       "      <td>NaN</td>\n",
       "      <td>NaN</td>\n",
       "      <td>NaN</td>\n",
       "    </tr>\n",
       "    <tr>\n",
       "      <th>41</th>\n",
       "      <td>Data</td>\n",
       "      <td>12</td>\n",
       "      <td>record</td>\n",
       "      <td>timestamp</td>\n",
       "      <td>1031213571</td>\n",
       "      <td>s</td>\n",
       "      <td>position_lat</td>\n",
       "      <td>510007265</td>\n",
       "      <td>semicircles</td>\n",
       "      <td>position_long</td>\n",
       "      <td>...</td>\n",
       "      <td>NaN</td>\n",
       "      <td>NaN</td>\n",
       "      <td>NaN</td>\n",
       "      <td>NaN</td>\n",
       "      <td>NaN</td>\n",
       "      <td>NaN</td>\n",
       "      <td>NaN</td>\n",
       "      <td>NaN</td>\n",
       "      <td>NaN</td>\n",
       "      <td>NaN</td>\n",
       "    </tr>\n",
       "    <tr>\n",
       "      <th>42</th>\n",
       "      <td>Data</td>\n",
       "      <td>12</td>\n",
       "      <td>record</td>\n",
       "      <td>timestamp</td>\n",
       "      <td>1031213586</td>\n",
       "      <td>s</td>\n",
       "      <td>position_lat</td>\n",
       "      <td>510005399</td>\n",
       "      <td>semicircles</td>\n",
       "      <td>position_long</td>\n",
       "      <td>...</td>\n",
       "      <td>NaN</td>\n",
       "      <td>NaN</td>\n",
       "      <td>NaN</td>\n",
       "      <td>NaN</td>\n",
       "      <td>NaN</td>\n",
       "      <td>NaN</td>\n",
       "      <td>NaN</td>\n",
       "      <td>NaN</td>\n",
       "      <td>NaN</td>\n",
       "      <td>NaN</td>\n",
       "    </tr>\n",
       "  </tbody>\n",
       "</table>\n",
       "<p>30 rows × 136 columns</p>\n",
       "</div>"
      ],
      "text/plain": [
       "    Type  Local Number          Message           Field 1      Value 1  \\\n",
       "1   Data             0          file_id     serial_number   3978501192   \n",
       "3   Data             1     file_creator  software_version          820   \n",
       "5   Data             2            event         timestamp   1031213441   \n",
       "7   Data             3      device_info         timestamp   1031213441   \n",
       "8   Data             3      device_info         timestamp   1031213441   \n",
       "9   Data             3      device_info         timestamp   1031213441   \n",
       "10  Data             3      device_info         timestamp   1031213441   \n",
       "12  Data             4          unknown           unknown   1031213441   \n",
       "14  Data             5          unknown           unknown   1031213441   \n",
       "16  Data             6  device_settings        utc_offset            0   \n",
       "18  Data             7     user_profile         wake_time        25200   \n",
       "20  Data             8          unknown           unknown   1031213441   \n",
       "22  Data             9            sport              name  Autre|salle   \n",
       "24  Data            10          unknown           unknown       100000   \n",
       "26  Data            11     zones_target           unknown            0   \n",
       "28  Data            12           record         timestamp   1031213441   \n",
       "29  Data            12           record         timestamp   1031213442   \n",
       "30  Data            12           record         timestamp   1031213447   \n",
       "31  Data            12           record         timestamp   1031213451   \n",
       "32  Data            12           record         timestamp   1031213456   \n",
       "33  Data            12           record         timestamp   1031213460   \n",
       "34  Data            12           record         timestamp   1031213477   \n",
       "35  Data            12           record         timestamp   1031213481   \n",
       "36  Data            12           record         timestamp   1031213486   \n",
       "37  Data            12           record         timestamp   1031213487   \n",
       "38  Data            12           record         timestamp   1031213505   \n",
       "39  Data            12           record         timestamp   1031213517   \n",
       "40  Data            12           record         timestamp   1031213556   \n",
       "41  Data            12           record         timestamp   1031213571   \n",
       "42  Data            12           record         timestamp   1031213586   \n",
       "\n",
       "   Units 1           Field 2     Value 2      Units 2             Field 3  \\\n",
       "1      NaN      time_created  1031213441          NaN        manufacturer   \n",
       "3      NaN               NaN         NaN          NaN                 NaN   \n",
       "5        s     timer_trigger           0          NaN               event   \n",
       "7        s     serial_number  3978501192          NaN        manufacturer   \n",
       "8        s      manufacturer           1          NaN      garmin_product   \n",
       "9        s      manufacturer       54433          NaN             product   \n",
       "10       s  software_version        2.21          NaN        device_index   \n",
       "12     NaN           unknown           1          NaN             unknown   \n",
       "14     NaN           unknown  1029931184          NaN             unknown   \n",
       "16     NaN       time_offset        7200            s  autosync_min_steps   \n",
       "18     NaN        sleep_time       82800          NaN             unknown   \n",
       "20     NaN           unknown       12327          NaN             unknown   \n",
       "22     NaN           unknown          29          NaN               sport   \n",
       "24     NaN           unknown      160934          NaN             unknown   \n",
       "26     NaN    max_heart_rate         198          NaN        hr_calc_type   \n",
       "28       s      position_lat   510009083  semicircles       position_long   \n",
       "29       s      position_lat   510009020  semicircles       position_long   \n",
       "30       s      position_lat   510008603  semicircles       position_long   \n",
       "31       s      position_lat   510008276  semicircles       position_long   \n",
       "32       s      position_lat   510007714  semicircles       position_long   \n",
       "33       s      position_lat   510007488  semicircles       position_long   \n",
       "34       s      position_lat   510007424  semicircles       position_long   \n",
       "35       s      position_lat   510007302  semicircles       position_long   \n",
       "36       s      position_lat   510007290  semicircles       position_long   \n",
       "37       s      position_lat   510007291  semicircles       position_long   \n",
       "38       s      position_lat   510007425  semicircles       position_long   \n",
       "39       s      position_lat   510008176  semicircles       position_long   \n",
       "40       s      position_lat   510007584  semicircles       position_long   \n",
       "41       s      position_lat   510007265  semicircles       position_long   \n",
       "42       s      position_lat   510005399  semicircles       position_long   \n",
       "\n",
       "    ...  Field 42 Value 42 Units 42  Field 43 Value 43 Units 43 Field 44  \\\n",
       "1   ...       NaN      NaN      NaN       NaN      NaN      NaN      NaN   \n",
       "3   ...       NaN      NaN      NaN       NaN      NaN      NaN      NaN   \n",
       "5   ...       NaN      NaN      NaN       NaN      NaN      NaN      NaN   \n",
       "7   ...       NaN      NaN      NaN       NaN      NaN      NaN      NaN   \n",
       "8   ...       NaN      NaN      NaN       NaN      NaN      NaN      NaN   \n",
       "9   ...       NaN      NaN      NaN       NaN      NaN      NaN      NaN   \n",
       "10  ...       NaN      NaN      NaN       NaN      NaN      NaN      NaN   \n",
       "12  ...       NaN      NaN      NaN       NaN      NaN      NaN      NaN   \n",
       "14  ...       NaN      NaN      NaN       NaN      NaN      NaN      NaN   \n",
       "16  ...       NaN      NaN      NaN       NaN      NaN      NaN      NaN   \n",
       "18  ...       NaN      NaN      NaN       NaN      NaN      NaN      NaN   \n",
       "20  ...       NaN      NaN      NaN       NaN      NaN      NaN      NaN   \n",
       "22  ...       NaN      NaN      NaN       NaN      NaN      NaN      NaN   \n",
       "24  ...       NaN      NaN      NaN       NaN      NaN      NaN      NaN   \n",
       "26  ...       NaN      NaN      NaN       NaN      NaN      NaN      NaN   \n",
       "28  ...       NaN      NaN      NaN       NaN      NaN      NaN      NaN   \n",
       "29  ...       NaN      NaN      NaN       NaN      NaN      NaN      NaN   \n",
       "30  ...       NaN      NaN      NaN       NaN      NaN      NaN      NaN   \n",
       "31  ...       NaN      NaN      NaN       NaN      NaN      NaN      NaN   \n",
       "32  ...       NaN      NaN      NaN       NaN      NaN      NaN      NaN   \n",
       "33  ...       NaN      NaN      NaN       NaN      NaN      NaN      NaN   \n",
       "34  ...       NaN      NaN      NaN       NaN      NaN      NaN      NaN   \n",
       "35  ...       NaN      NaN      NaN       NaN      NaN      NaN      NaN   \n",
       "36  ...       NaN      NaN      NaN       NaN      NaN      NaN      NaN   \n",
       "37  ...       NaN      NaN      NaN       NaN      NaN      NaN      NaN   \n",
       "38  ...       NaN      NaN      NaN       NaN      NaN      NaN      NaN   \n",
       "39  ...       NaN      NaN      NaN       NaN      NaN      NaN      NaN   \n",
       "40  ...       NaN      NaN      NaN       NaN      NaN      NaN      NaN   \n",
       "41  ...       NaN      NaN      NaN       NaN      NaN      NaN      NaN   \n",
       "42  ...       NaN      NaN      NaN       NaN      NaN      NaN      NaN   \n",
       "\n",
       "   Value 44 Units 44  Unnamed: 135  \n",
       "1       NaN      NaN           NaN  \n",
       "3       NaN      NaN           NaN  \n",
       "5       NaN      NaN           NaN  \n",
       "7       NaN      NaN           NaN  \n",
       "8       NaN      NaN           NaN  \n",
       "9       NaN      NaN           NaN  \n",
       "10      NaN      NaN           NaN  \n",
       "12      NaN      NaN           NaN  \n",
       "14      NaN      NaN           NaN  \n",
       "16      NaN      NaN           NaN  \n",
       "18      NaN      NaN           NaN  \n",
       "20      NaN      NaN           NaN  \n",
       "22      NaN      NaN           NaN  \n",
       "24      NaN      NaN           NaN  \n",
       "26      NaN      NaN           NaN  \n",
       "28      NaN      NaN           NaN  \n",
       "29      NaN      NaN           NaN  \n",
       "30      NaN      NaN           NaN  \n",
       "31      NaN      NaN           NaN  \n",
       "32      NaN      NaN           NaN  \n",
       "33      NaN      NaN           NaN  \n",
       "34      NaN      NaN           NaN  \n",
       "35      NaN      NaN           NaN  \n",
       "36      NaN      NaN           NaN  \n",
       "37      NaN      NaN           NaN  \n",
       "38      NaN      NaN           NaN  \n",
       "39      NaN      NaN           NaN  \n",
       "40      NaN      NaN           NaN  \n",
       "41      NaN      NaN           NaN  \n",
       "42      NaN      NaN           NaN  \n",
       "\n",
       "[30 rows x 136 columns]"
      ]
     },
     "execution_count": 5,
     "metadata": {},
     "output_type": "execute_result"
    }
   ],
   "source": [
    "raw_data.drop(raw_data[raw_data.Type==\"Definition\"].index).head(30)"
   ]
  },
  {
   "cell_type": "code",
   "execution_count": 6,
   "id": "7dd5f4b0",
   "metadata": {},
   "outputs": [],
   "source": [
    "raw_data[\"is_record\"]= raw_data.Message==\"record\"\n",
    "raw_data[\"is_latlon\"]= raw_data[\"Field 3\"]==\"position_long\"\n"
   ]
  },
  {
   "cell_type": "code",
   "execution_count": 7,
   "id": "be5af719",
   "metadata": {},
   "outputs": [
    {
     "data": {
      "text/html": [
       "<div>\n",
       "<style scoped>\n",
       "    .dataframe tbody tr th:only-of-type {\n",
       "        vertical-align: middle;\n",
       "    }\n",
       "\n",
       "    .dataframe tbody tr th {\n",
       "        vertical-align: top;\n",
       "    }\n",
       "\n",
       "    .dataframe thead th {\n",
       "        text-align: right;\n",
       "    }\n",
       "</style>\n",
       "<table border=\"1\" class=\"dataframe\">\n",
       "  <thead>\n",
       "    <tr style=\"text-align: right;\">\n",
       "      <th></th>\n",
       "      <th>Type</th>\n",
       "      <th>Local Number</th>\n",
       "      <th>Message</th>\n",
       "      <th>Field 1</th>\n",
       "      <th>Value 1</th>\n",
       "      <th>Units 1</th>\n",
       "      <th>Field 2</th>\n",
       "      <th>Value 2</th>\n",
       "      <th>Units 2</th>\n",
       "      <th>Field 3</th>\n",
       "      <th>...</th>\n",
       "      <th>Units 42</th>\n",
       "      <th>Field 43</th>\n",
       "      <th>Value 43</th>\n",
       "      <th>Units 43</th>\n",
       "      <th>Field 44</th>\n",
       "      <th>Value 44</th>\n",
       "      <th>Units 44</th>\n",
       "      <th>Unnamed: 135</th>\n",
       "      <th>is_record</th>\n",
       "      <th>is_latlon</th>\n",
       "    </tr>\n",
       "  </thead>\n",
       "  <tbody>\n",
       "    <tr>\n",
       "      <th>27</th>\n",
       "      <td>Definition</td>\n",
       "      <td>12</td>\n",
       "      <td>record</td>\n",
       "      <td>timestamp</td>\n",
       "      <td>1</td>\n",
       "      <td>NaN</td>\n",
       "      <td>position_lat</td>\n",
       "      <td>1</td>\n",
       "      <td>NaN</td>\n",
       "      <td>position_long</td>\n",
       "      <td>...</td>\n",
       "      <td>NaN</td>\n",
       "      <td>NaN</td>\n",
       "      <td>NaN</td>\n",
       "      <td>NaN</td>\n",
       "      <td>NaN</td>\n",
       "      <td>NaN</td>\n",
       "      <td>NaN</td>\n",
       "      <td>NaN</td>\n",
       "      <td>True</td>\n",
       "      <td>True</td>\n",
       "    </tr>\n",
       "    <tr>\n",
       "      <th>28</th>\n",
       "      <td>Data</td>\n",
       "      <td>12</td>\n",
       "      <td>record</td>\n",
       "      <td>timestamp</td>\n",
       "      <td>1031213441</td>\n",
       "      <td>s</td>\n",
       "      <td>position_lat</td>\n",
       "      <td>510009083</td>\n",
       "      <td>semicircles</td>\n",
       "      <td>position_long</td>\n",
       "      <td>...</td>\n",
       "      <td>NaN</td>\n",
       "      <td>NaN</td>\n",
       "      <td>NaN</td>\n",
       "      <td>NaN</td>\n",
       "      <td>NaN</td>\n",
       "      <td>NaN</td>\n",
       "      <td>NaN</td>\n",
       "      <td>NaN</td>\n",
       "      <td>True</td>\n",
       "      <td>True</td>\n",
       "    </tr>\n",
       "    <tr>\n",
       "      <th>29</th>\n",
       "      <td>Data</td>\n",
       "      <td>12</td>\n",
       "      <td>record</td>\n",
       "      <td>timestamp</td>\n",
       "      <td>1031213442</td>\n",
       "      <td>s</td>\n",
       "      <td>position_lat</td>\n",
       "      <td>510009020</td>\n",
       "      <td>semicircles</td>\n",
       "      <td>position_long</td>\n",
       "      <td>...</td>\n",
       "      <td>NaN</td>\n",
       "      <td>NaN</td>\n",
       "      <td>NaN</td>\n",
       "      <td>NaN</td>\n",
       "      <td>NaN</td>\n",
       "      <td>NaN</td>\n",
       "      <td>NaN</td>\n",
       "      <td>NaN</td>\n",
       "      <td>True</td>\n",
       "      <td>True</td>\n",
       "    </tr>\n",
       "    <tr>\n",
       "      <th>30</th>\n",
       "      <td>Data</td>\n",
       "      <td>12</td>\n",
       "      <td>record</td>\n",
       "      <td>timestamp</td>\n",
       "      <td>1031213447</td>\n",
       "      <td>s</td>\n",
       "      <td>position_lat</td>\n",
       "      <td>510008603</td>\n",
       "      <td>semicircles</td>\n",
       "      <td>position_long</td>\n",
       "      <td>...</td>\n",
       "      <td>NaN</td>\n",
       "      <td>NaN</td>\n",
       "      <td>NaN</td>\n",
       "      <td>NaN</td>\n",
       "      <td>NaN</td>\n",
       "      <td>NaN</td>\n",
       "      <td>NaN</td>\n",
       "      <td>NaN</td>\n",
       "      <td>True</td>\n",
       "      <td>True</td>\n",
       "    </tr>\n",
       "    <tr>\n",
       "      <th>31</th>\n",
       "      <td>Data</td>\n",
       "      <td>12</td>\n",
       "      <td>record</td>\n",
       "      <td>timestamp</td>\n",
       "      <td>1031213451</td>\n",
       "      <td>s</td>\n",
       "      <td>position_lat</td>\n",
       "      <td>510008276</td>\n",
       "      <td>semicircles</td>\n",
       "      <td>position_long</td>\n",
       "      <td>...</td>\n",
       "      <td>NaN</td>\n",
       "      <td>NaN</td>\n",
       "      <td>NaN</td>\n",
       "      <td>NaN</td>\n",
       "      <td>NaN</td>\n",
       "      <td>NaN</td>\n",
       "      <td>NaN</td>\n",
       "      <td>NaN</td>\n",
       "      <td>True</td>\n",
       "      <td>True</td>\n",
       "    </tr>\n",
       "    <tr>\n",
       "      <th>32</th>\n",
       "      <td>Data</td>\n",
       "      <td>12</td>\n",
       "      <td>record</td>\n",
       "      <td>timestamp</td>\n",
       "      <td>1031213456</td>\n",
       "      <td>s</td>\n",
       "      <td>position_lat</td>\n",
       "      <td>510007714</td>\n",
       "      <td>semicircles</td>\n",
       "      <td>position_long</td>\n",
       "      <td>...</td>\n",
       "      <td>NaN</td>\n",
       "      <td>NaN</td>\n",
       "      <td>NaN</td>\n",
       "      <td>NaN</td>\n",
       "      <td>NaN</td>\n",
       "      <td>NaN</td>\n",
       "      <td>NaN</td>\n",
       "      <td>NaN</td>\n",
       "      <td>True</td>\n",
       "      <td>True</td>\n",
       "    </tr>\n",
       "    <tr>\n",
       "      <th>33</th>\n",
       "      <td>Data</td>\n",
       "      <td>12</td>\n",
       "      <td>record</td>\n",
       "      <td>timestamp</td>\n",
       "      <td>1031213460</td>\n",
       "      <td>s</td>\n",
       "      <td>position_lat</td>\n",
       "      <td>510007488</td>\n",
       "      <td>semicircles</td>\n",
       "      <td>position_long</td>\n",
       "      <td>...</td>\n",
       "      <td>NaN</td>\n",
       "      <td>NaN</td>\n",
       "      <td>NaN</td>\n",
       "      <td>NaN</td>\n",
       "      <td>NaN</td>\n",
       "      <td>NaN</td>\n",
       "      <td>NaN</td>\n",
       "      <td>NaN</td>\n",
       "      <td>True</td>\n",
       "      <td>True</td>\n",
       "    </tr>\n",
       "    <tr>\n",
       "      <th>34</th>\n",
       "      <td>Data</td>\n",
       "      <td>12</td>\n",
       "      <td>record</td>\n",
       "      <td>timestamp</td>\n",
       "      <td>1031213477</td>\n",
       "      <td>s</td>\n",
       "      <td>position_lat</td>\n",
       "      <td>510007424</td>\n",
       "      <td>semicircles</td>\n",
       "      <td>position_long</td>\n",
       "      <td>...</td>\n",
       "      <td>NaN</td>\n",
       "      <td>NaN</td>\n",
       "      <td>NaN</td>\n",
       "      <td>NaN</td>\n",
       "      <td>NaN</td>\n",
       "      <td>NaN</td>\n",
       "      <td>NaN</td>\n",
       "      <td>NaN</td>\n",
       "      <td>True</td>\n",
       "      <td>True</td>\n",
       "    </tr>\n",
       "    <tr>\n",
       "      <th>35</th>\n",
       "      <td>Data</td>\n",
       "      <td>12</td>\n",
       "      <td>record</td>\n",
       "      <td>timestamp</td>\n",
       "      <td>1031213481</td>\n",
       "      <td>s</td>\n",
       "      <td>position_lat</td>\n",
       "      <td>510007302</td>\n",
       "      <td>semicircles</td>\n",
       "      <td>position_long</td>\n",
       "      <td>...</td>\n",
       "      <td>NaN</td>\n",
       "      <td>NaN</td>\n",
       "      <td>NaN</td>\n",
       "      <td>NaN</td>\n",
       "      <td>NaN</td>\n",
       "      <td>NaN</td>\n",
       "      <td>NaN</td>\n",
       "      <td>NaN</td>\n",
       "      <td>True</td>\n",
       "      <td>True</td>\n",
       "    </tr>\n",
       "    <tr>\n",
       "      <th>36</th>\n",
       "      <td>Data</td>\n",
       "      <td>12</td>\n",
       "      <td>record</td>\n",
       "      <td>timestamp</td>\n",
       "      <td>1031213486</td>\n",
       "      <td>s</td>\n",
       "      <td>position_lat</td>\n",
       "      <td>510007290</td>\n",
       "      <td>semicircles</td>\n",
       "      <td>position_long</td>\n",
       "      <td>...</td>\n",
       "      <td>NaN</td>\n",
       "      <td>NaN</td>\n",
       "      <td>NaN</td>\n",
       "      <td>NaN</td>\n",
       "      <td>NaN</td>\n",
       "      <td>NaN</td>\n",
       "      <td>NaN</td>\n",
       "      <td>NaN</td>\n",
       "      <td>True</td>\n",
       "      <td>True</td>\n",
       "    </tr>\n",
       "    <tr>\n",
       "      <th>37</th>\n",
       "      <td>Data</td>\n",
       "      <td>12</td>\n",
       "      <td>record</td>\n",
       "      <td>timestamp</td>\n",
       "      <td>1031213487</td>\n",
       "      <td>s</td>\n",
       "      <td>position_lat</td>\n",
       "      <td>510007291</td>\n",
       "      <td>semicircles</td>\n",
       "      <td>position_long</td>\n",
       "      <td>...</td>\n",
       "      <td>NaN</td>\n",
       "      <td>NaN</td>\n",
       "      <td>NaN</td>\n",
       "      <td>NaN</td>\n",
       "      <td>NaN</td>\n",
       "      <td>NaN</td>\n",
       "      <td>NaN</td>\n",
       "      <td>NaN</td>\n",
       "      <td>True</td>\n",
       "      <td>True</td>\n",
       "    </tr>\n",
       "    <tr>\n",
       "      <th>38</th>\n",
       "      <td>Data</td>\n",
       "      <td>12</td>\n",
       "      <td>record</td>\n",
       "      <td>timestamp</td>\n",
       "      <td>1031213505</td>\n",
       "      <td>s</td>\n",
       "      <td>position_lat</td>\n",
       "      <td>510007425</td>\n",
       "      <td>semicircles</td>\n",
       "      <td>position_long</td>\n",
       "      <td>...</td>\n",
       "      <td>NaN</td>\n",
       "      <td>NaN</td>\n",
       "      <td>NaN</td>\n",
       "      <td>NaN</td>\n",
       "      <td>NaN</td>\n",
       "      <td>NaN</td>\n",
       "      <td>NaN</td>\n",
       "      <td>NaN</td>\n",
       "      <td>True</td>\n",
       "      <td>True</td>\n",
       "    </tr>\n",
       "    <tr>\n",
       "      <th>39</th>\n",
       "      <td>Data</td>\n",
       "      <td>12</td>\n",
       "      <td>record</td>\n",
       "      <td>timestamp</td>\n",
       "      <td>1031213517</td>\n",
       "      <td>s</td>\n",
       "      <td>position_lat</td>\n",
       "      <td>510008176</td>\n",
       "      <td>semicircles</td>\n",
       "      <td>position_long</td>\n",
       "      <td>...</td>\n",
       "      <td>NaN</td>\n",
       "      <td>NaN</td>\n",
       "      <td>NaN</td>\n",
       "      <td>NaN</td>\n",
       "      <td>NaN</td>\n",
       "      <td>NaN</td>\n",
       "      <td>NaN</td>\n",
       "      <td>NaN</td>\n",
       "      <td>True</td>\n",
       "      <td>True</td>\n",
       "    </tr>\n",
       "    <tr>\n",
       "      <th>40</th>\n",
       "      <td>Data</td>\n",
       "      <td>12</td>\n",
       "      <td>record</td>\n",
       "      <td>timestamp</td>\n",
       "      <td>1031213556</td>\n",
       "      <td>s</td>\n",
       "      <td>position_lat</td>\n",
       "      <td>510007584</td>\n",
       "      <td>semicircles</td>\n",
       "      <td>position_long</td>\n",
       "      <td>...</td>\n",
       "      <td>NaN</td>\n",
       "      <td>NaN</td>\n",
       "      <td>NaN</td>\n",
       "      <td>NaN</td>\n",
       "      <td>NaN</td>\n",
       "      <td>NaN</td>\n",
       "      <td>NaN</td>\n",
       "      <td>NaN</td>\n",
       "      <td>True</td>\n",
       "      <td>True</td>\n",
       "    </tr>\n",
       "    <tr>\n",
       "      <th>41</th>\n",
       "      <td>Data</td>\n",
       "      <td>12</td>\n",
       "      <td>record</td>\n",
       "      <td>timestamp</td>\n",
       "      <td>1031213571</td>\n",
       "      <td>s</td>\n",
       "      <td>position_lat</td>\n",
       "      <td>510007265</td>\n",
       "      <td>semicircles</td>\n",
       "      <td>position_long</td>\n",
       "      <td>...</td>\n",
       "      <td>NaN</td>\n",
       "      <td>NaN</td>\n",
       "      <td>NaN</td>\n",
       "      <td>NaN</td>\n",
       "      <td>NaN</td>\n",
       "      <td>NaN</td>\n",
       "      <td>NaN</td>\n",
       "      <td>NaN</td>\n",
       "      <td>True</td>\n",
       "      <td>True</td>\n",
       "    </tr>\n",
       "    <tr>\n",
       "      <th>42</th>\n",
       "      <td>Data</td>\n",
       "      <td>12</td>\n",
       "      <td>record</td>\n",
       "      <td>timestamp</td>\n",
       "      <td>1031213586</td>\n",
       "      <td>s</td>\n",
       "      <td>position_lat</td>\n",
       "      <td>510005399</td>\n",
       "      <td>semicircles</td>\n",
       "      <td>position_long</td>\n",
       "      <td>...</td>\n",
       "      <td>NaN</td>\n",
       "      <td>NaN</td>\n",
       "      <td>NaN</td>\n",
       "      <td>NaN</td>\n",
       "      <td>NaN</td>\n",
       "      <td>NaN</td>\n",
       "      <td>NaN</td>\n",
       "      <td>NaN</td>\n",
       "      <td>True</td>\n",
       "      <td>True</td>\n",
       "    </tr>\n",
       "    <tr>\n",
       "      <th>43</th>\n",
       "      <td>Data</td>\n",
       "      <td>12</td>\n",
       "      <td>record</td>\n",
       "      <td>timestamp</td>\n",
       "      <td>1031213587</td>\n",
       "      <td>s</td>\n",
       "      <td>position_lat</td>\n",
       "      <td>510005291</td>\n",
       "      <td>semicircles</td>\n",
       "      <td>position_long</td>\n",
       "      <td>...</td>\n",
       "      <td>NaN</td>\n",
       "      <td>NaN</td>\n",
       "      <td>NaN</td>\n",
       "      <td>NaN</td>\n",
       "      <td>NaN</td>\n",
       "      <td>NaN</td>\n",
       "      <td>NaN</td>\n",
       "      <td>NaN</td>\n",
       "      <td>True</td>\n",
       "      <td>True</td>\n",
       "    </tr>\n",
       "    <tr>\n",
       "      <th>44</th>\n",
       "      <td>Data</td>\n",
       "      <td>12</td>\n",
       "      <td>record</td>\n",
       "      <td>timestamp</td>\n",
       "      <td>1031213594</td>\n",
       "      <td>s</td>\n",
       "      <td>position_lat</td>\n",
       "      <td>510004072</td>\n",
       "      <td>semicircles</td>\n",
       "      <td>position_long</td>\n",
       "      <td>...</td>\n",
       "      <td>NaN</td>\n",
       "      <td>NaN</td>\n",
       "      <td>NaN</td>\n",
       "      <td>NaN</td>\n",
       "      <td>NaN</td>\n",
       "      <td>NaN</td>\n",
       "      <td>NaN</td>\n",
       "      <td>NaN</td>\n",
       "      <td>True</td>\n",
       "      <td>True</td>\n",
       "    </tr>\n",
       "    <tr>\n",
       "      <th>45</th>\n",
       "      <td>Data</td>\n",
       "      <td>12</td>\n",
       "      <td>record</td>\n",
       "      <td>timestamp</td>\n",
       "      <td>1031213603</td>\n",
       "      <td>s</td>\n",
       "      <td>position_lat</td>\n",
       "      <td>510003058</td>\n",
       "      <td>semicircles</td>\n",
       "      <td>position_long</td>\n",
       "      <td>...</td>\n",
       "      <td>NaN</td>\n",
       "      <td>NaN</td>\n",
       "      <td>NaN</td>\n",
       "      <td>NaN</td>\n",
       "      <td>NaN</td>\n",
       "      <td>NaN</td>\n",
       "      <td>NaN</td>\n",
       "      <td>NaN</td>\n",
       "      <td>True</td>\n",
       "      <td>True</td>\n",
       "    </tr>\n",
       "    <tr>\n",
       "      <th>46</th>\n",
       "      <td>Data</td>\n",
       "      <td>12</td>\n",
       "      <td>record</td>\n",
       "      <td>timestamp</td>\n",
       "      <td>1031213607</td>\n",
       "      <td>s</td>\n",
       "      <td>position_lat</td>\n",
       "      <td>510003056</td>\n",
       "      <td>semicircles</td>\n",
       "      <td>position_long</td>\n",
       "      <td>...</td>\n",
       "      <td>NaN</td>\n",
       "      <td>NaN</td>\n",
       "      <td>NaN</td>\n",
       "      <td>NaN</td>\n",
       "      <td>NaN</td>\n",
       "      <td>NaN</td>\n",
       "      <td>NaN</td>\n",
       "      <td>NaN</td>\n",
       "      <td>True</td>\n",
       "      <td>True</td>\n",
       "    </tr>\n",
       "  </tbody>\n",
       "</table>\n",
       "<p>20 rows × 138 columns</p>\n",
       "</div>"
      ],
      "text/plain": [
       "          Type  Local Number Message    Field 1     Value 1 Units 1  \\\n",
       "27  Definition            12  record  timestamp           1     NaN   \n",
       "28        Data            12  record  timestamp  1031213441       s   \n",
       "29        Data            12  record  timestamp  1031213442       s   \n",
       "30        Data            12  record  timestamp  1031213447       s   \n",
       "31        Data            12  record  timestamp  1031213451       s   \n",
       "32        Data            12  record  timestamp  1031213456       s   \n",
       "33        Data            12  record  timestamp  1031213460       s   \n",
       "34        Data            12  record  timestamp  1031213477       s   \n",
       "35        Data            12  record  timestamp  1031213481       s   \n",
       "36        Data            12  record  timestamp  1031213486       s   \n",
       "37        Data            12  record  timestamp  1031213487       s   \n",
       "38        Data            12  record  timestamp  1031213505       s   \n",
       "39        Data            12  record  timestamp  1031213517       s   \n",
       "40        Data            12  record  timestamp  1031213556       s   \n",
       "41        Data            12  record  timestamp  1031213571       s   \n",
       "42        Data            12  record  timestamp  1031213586       s   \n",
       "43        Data            12  record  timestamp  1031213587       s   \n",
       "44        Data            12  record  timestamp  1031213594       s   \n",
       "45        Data            12  record  timestamp  1031213603       s   \n",
       "46        Data            12  record  timestamp  1031213607       s   \n",
       "\n",
       "         Field 2    Value 2      Units 2        Field 3  ...  Units 42  \\\n",
       "27  position_lat          1          NaN  position_long  ...       NaN   \n",
       "28  position_lat  510009083  semicircles  position_long  ...       NaN   \n",
       "29  position_lat  510009020  semicircles  position_long  ...       NaN   \n",
       "30  position_lat  510008603  semicircles  position_long  ...       NaN   \n",
       "31  position_lat  510008276  semicircles  position_long  ...       NaN   \n",
       "32  position_lat  510007714  semicircles  position_long  ...       NaN   \n",
       "33  position_lat  510007488  semicircles  position_long  ...       NaN   \n",
       "34  position_lat  510007424  semicircles  position_long  ...       NaN   \n",
       "35  position_lat  510007302  semicircles  position_long  ...       NaN   \n",
       "36  position_lat  510007290  semicircles  position_long  ...       NaN   \n",
       "37  position_lat  510007291  semicircles  position_long  ...       NaN   \n",
       "38  position_lat  510007425  semicircles  position_long  ...       NaN   \n",
       "39  position_lat  510008176  semicircles  position_long  ...       NaN   \n",
       "40  position_lat  510007584  semicircles  position_long  ...       NaN   \n",
       "41  position_lat  510007265  semicircles  position_long  ...       NaN   \n",
       "42  position_lat  510005399  semicircles  position_long  ...       NaN   \n",
       "43  position_lat  510005291  semicircles  position_long  ...       NaN   \n",
       "44  position_lat  510004072  semicircles  position_long  ...       NaN   \n",
       "45  position_lat  510003058  semicircles  position_long  ...       NaN   \n",
       "46  position_lat  510003056  semicircles  position_long  ...       NaN   \n",
       "\n",
       "   Field 43 Value 43  Units 43 Field 44 Value 44 Units 44 Unnamed: 135  \\\n",
       "27      NaN      NaN       NaN      NaN      NaN      NaN          NaN   \n",
       "28      NaN      NaN       NaN      NaN      NaN      NaN          NaN   \n",
       "29      NaN      NaN       NaN      NaN      NaN      NaN          NaN   \n",
       "30      NaN      NaN       NaN      NaN      NaN      NaN          NaN   \n",
       "31      NaN      NaN       NaN      NaN      NaN      NaN          NaN   \n",
       "32      NaN      NaN       NaN      NaN      NaN      NaN          NaN   \n",
       "33      NaN      NaN       NaN      NaN      NaN      NaN          NaN   \n",
       "34      NaN      NaN       NaN      NaN      NaN      NaN          NaN   \n",
       "35      NaN      NaN       NaN      NaN      NaN      NaN          NaN   \n",
       "36      NaN      NaN       NaN      NaN      NaN      NaN          NaN   \n",
       "37      NaN      NaN       NaN      NaN      NaN      NaN          NaN   \n",
       "38      NaN      NaN       NaN      NaN      NaN      NaN          NaN   \n",
       "39      NaN      NaN       NaN      NaN      NaN      NaN          NaN   \n",
       "40      NaN      NaN       NaN      NaN      NaN      NaN          NaN   \n",
       "41      NaN      NaN       NaN      NaN      NaN      NaN          NaN   \n",
       "42      NaN      NaN       NaN      NaN      NaN      NaN          NaN   \n",
       "43      NaN      NaN       NaN      NaN      NaN      NaN          NaN   \n",
       "44      NaN      NaN       NaN      NaN      NaN      NaN          NaN   \n",
       "45      NaN      NaN       NaN      NaN      NaN      NaN          NaN   \n",
       "46      NaN      NaN       NaN      NaN      NaN      NaN          NaN   \n",
       "\n",
       "   is_record  is_latlon  \n",
       "27      True       True  \n",
       "28      True       True  \n",
       "29      True       True  \n",
       "30      True       True  \n",
       "31      True       True  \n",
       "32      True       True  \n",
       "33      True       True  \n",
       "34      True       True  \n",
       "35      True       True  \n",
       "36      True       True  \n",
       "37      True       True  \n",
       "38      True       True  \n",
       "39      True       True  \n",
       "40      True       True  \n",
       "41      True       True  \n",
       "42      True       True  \n",
       "43      True       True  \n",
       "44      True       True  \n",
       "45      True       True  \n",
       "46      True       True  \n",
       "\n",
       "[20 rows x 138 columns]"
      ]
     },
     "execution_count": 7,
     "metadata": {},
     "output_type": "execute_result"
    }
   ],
   "source": [
    "raw_data[raw_data.is_record & raw_data.is_latlon].head(20)"
   ]
  },
  {
   "cell_type": "code",
   "execution_count": 52,
   "id": "bdbc86a5",
   "metadata": {},
   "outputs": [
    {
     "data": {
      "text/plain": [
       "Text(0, 0.5, 'altitude')"
      ]
     },
     "execution_count": 52,
     "metadata": {},
     "output_type": "execute_result"
    },
    {
     "data": {
      "image/png": "[encoded data removed]",
      "text/plain": [
       "<Figure size 432x288 with 2 Axes>"
      ]
     },
     "metadata": {
      "needs_background": "light"
     },
     "output_type": "display_data"
    }
   ],
   "source": [
    "df[\"bpm\"]=df[\"bpm\"].astype(float)\n",
    "\n",
    "fig, ax = plt.subplots()\n",
    "ax.plot(df[\"bpm\"], color= \"red\", marker=\"+\")\n",
    "ax.set_ylabel('bpm')\n",
    "ax2 = ax.twinx()\n",
    "ax2.plot(df[\"alti_corr\"])\n",
    "ax2.set_ylabel(\"altitude\")"
   ]
  },
  {
   "cell_type": "code",
   "execution_count": 194,
   "id": "06bca87d",
   "metadata": {},
   "outputs": [],
   "source": [
    "map = folium.Map(location=coor[1])\n",
    "folium.PolyLine(locations=coor).add_to( map )\n",
    "map.save(\"test.html\")"
   ]
  }
 ],
 "metadata": {
  "kernelspec": {
   "display_name": "Python 3 (ipykernel)",
   "language": "python",
   "name": "python3"
  },
  "language_info": {
   "codemirror_mode": {
    "name": "ipython",
    "version": 3
   },
   "file_extension": ".py",
   "mimetype": "text/x-python",
   "name": "python",
   "nbconvert_exporter": "python",
   "pygments_lexer": "ipython3",
   "version": "3.9.12"
  }
 },
 "nbformat": 4,
 "nbformat_minor": 5
}
