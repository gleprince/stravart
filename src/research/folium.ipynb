{
 "cells": [
  {
   "cell_type": "code",
   "execution_count": null,
   "id": "af35c939",
   "metadata": {},
   "outputs": [],
   "source": [
    "\n",
    "import folium\n",
    "import matplotlib.pyplot as plt\n",
    "import subprocess\n",
    "import math"
   ]
  },
  {
   "cell_type": "code",
   "execution_count": null,
   "id": "ae1401f5",
   "metadata": {},
   "outputs": [],
   "source": [
    "FILE_PATH = \"data_example/raw_csv/\"\n",
    "OUTPUT = \"data_example/csv/\"\n",
    "FILENAME = \"8279264048.csv\""
   ]
  },
  {
   "cell_type": "code",
   "execution_count": null,
   "id": "72502c13",
   "metadata": {},
   "outputs": [],
   "source": [
    "raw_data=pd.read_csv(FILE_PATH + FILENAME)"
   ]
  },
  {
   "cell_type": "code",
   "execution_count": null,
   "id": "98f4c353",
   "metadata": {},
   "outputs": [],
   "source": [
    "raw_data[\"is_record\"]= raw_data.Message==\"record\"\n",
    "raw_data[\"is_latlon\"]= raw_data[\"Field 3\"]==\"position_long\"\n"
   ]
  },
  {
   "cell_type": "code",
   "execution_count": null,
   "id": "2b91fa2f",
   "metadata": {},
   "outputs": [],
   "source": [
    "raw_data[raw_data.is_record & raw_data.is_latlon].head(20)"
   ]
  },
  {
   "cell_type": "code",
   "execution_count": null,
   "id": "1a6e064e",
   "metadata": {},
   "outputs": [],
   "source": [
    "df[\"bpm\"]=df[\"bpm\"].astype(float)\n",
    "\n",
    "fig, ax = plt.subplots()\n",
    "ax.plot(df[\"bpm\"], color= \"red\", marker=\"+\")\n",
    "ax.set_ylabel('bpm')\n",
    "ax2 = ax.twinx()\n",
    "ax2.plot(df[\"alti_corr\"])\n",
    "ax2.set_ylabel(\"altitude\")"
   ]
  },
  {
   "cell_type": "code",
   "execution_count": null,
   "id": "c5d27f52",
   "metadata": {},
   "outputs": [],
   "source": [
    "map = folium.Map(location=coor[1])\n",
    "folium.PolyLine(locations=coor).add_to( map )\n",
    "map.save(\"test.html\")"
   ]
  },
  {
   "cell_type": "code",
   "execution_count": null,
   "id": "9d92fc2c",
   "metadata": {},
   "outputs": [],
   "source": []
  },
  {
   "cell_type": "code",
   "execution_count": null,
   "id": "bcb496b6",
   "metadata": {},
   "outputs": [],
   "source": []
  }
 ],
 "metadata": {
  "kernelspec": {
   "display_name": "Python 3 (ipykernel)",
   "language": "python",
   "name": "python3"
  },
  "language_info": {
   "codemirror_mode": {
    "name": "ipython",
    "version": 3
   },
   "file_extension": ".py",
   "mimetype": "text/x-python",
   "name": "python",
   "nbconvert_exporter": "python",
   "pygments_lexer": "ipython3",
   "version": "3.9.12"
  }
 },
 "nbformat": 4,
 "nbformat_minor": 5
}
